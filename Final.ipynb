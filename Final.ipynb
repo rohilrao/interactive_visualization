{
 "cells": [
  {
   "cell_type": "code",
   "execution_count": 1,
   "id": "398b2fd2",
   "metadata": {},
   "outputs": [
    {
     "name": "stdout",
     "output_type": "stream",
     "text": [
      "Dataset Shape: (160781, 11)\n",
      "Columns: Index(['Country Origin Name', 'Country Origin Code',\n",
      "       'Migration by Gender Name', 'Migration by Gender Code',\n",
      "       'Country Dest Name', 'Country Dest Code', '1960 [1960]', '1970 [1970]',\n",
      "       '1980 [1980]', '1990 [1990]', '2000 [2000]'],\n",
      "      dtype='object')\n",
      "Missing Values:\n",
      " Country Origin Name         3\n",
      "Country Origin Code         5\n",
      "Migration by Gender Name    5\n",
      "Migration by Gender Code    5\n",
      "Country Dest Name           5\n",
      "Country Dest Code           5\n",
      "1960 [1960]                 5\n",
      "1970 [1970]                 5\n",
      "1980 [1980]                 5\n",
      "1990 [1990]                 5\n",
      "2000 [2000]                 5\n",
      "dtype: int64\n",
      "Basic Statistics:\n",
      "        Country Origin Name Country Origin Code Migration by Gender Name  \\\n",
      "count               160778              160776                   160776   \n",
      "unique                 234                 232                        3   \n",
      "top            Afghanistan                 AFG                    Total   \n",
      "freq                   693                 693                    53592   \n",
      "\n",
      "       Migration by Gender Code Country Dest Name Country Dest Code  \\\n",
      "count                    160776            160776            160776   \n",
      "unique                        3               231               231   \n",
      "top                         TOT       Afghanistan               AFG   \n",
      "freq                      53592               696               696   \n",
      "\n",
      "       1960 [1960] 1970 [1970] 1980 [1980] 1990 [1990] 2000 [2000]  \n",
      "count       160776      160776      160776      160776      160776  \n",
      "unique        5039        5528        6294        7088        8013  \n",
      "top              0           0           0           0           0  \n",
      "freq        108456      103996      100277       93602       87715  \n"
     ]
    }
   ],
   "source": [
    "import pandas as pd\n",
    "\n",
    "# Read the dataset\n",
    "df = pd.read_csv('migration.csv')\n",
    "\n",
    "# Print basic stats\n",
    "print(\"Dataset Shape:\", df.shape)\n",
    "print(\"Columns:\", df.columns)\n",
    "print(\"Missing Values:\\n\", df.isnull().sum())\n",
    "print(\"Basic Statistics:\\n\", df.describe())"
   ]
  },
  {
   "cell_type": "code",
   "execution_count": 2,
   "id": "8454985b",
   "metadata": {},
   "outputs": [],
   "source": [
    "import plotly.express as px"
   ]
  },
  {
   "cell_type": "code",
   "execution_count": 3,
   "id": "45a3c441",
   "metadata": {},
   "outputs": [
    {
     "data": {
      "text/plain": [
       "(160781, 11)"
      ]
     },
     "execution_count": 3,
     "metadata": {},
     "output_type": "execute_result"
    }
   ],
   "source": [
    "df.shape"
   ]
  },
  {
   "cell_type": "code",
   "execution_count": 3,
   "id": "a4b11829",
   "metadata": {},
   "outputs": [
    {
     "data": {
      "text/plain": [
       "(160776, 11)"
      ]
     },
     "execution_count": 3,
     "metadata": {},
     "output_type": "execute_result"
    }
   ],
   "source": [
    "df = df[~df.isna().any(axis = 1)]\n",
    "df.shape"
   ]
  },
  {
   "cell_type": "code",
   "execution_count": 4,
   "id": "b875e0ba",
   "metadata": {},
   "outputs": [
    {
     "data": {
      "text/html": [
       "<div>\n",
       "<style scoped>\n",
       "    .dataframe tbody tr th:only-of-type {\n",
       "        vertical-align: middle;\n",
       "    }\n",
       "\n",
       "    .dataframe tbody tr th {\n",
       "        vertical-align: top;\n",
       "    }\n",
       "\n",
       "    .dataframe thead th {\n",
       "        text-align: right;\n",
       "    }\n",
       "</style>\n",
       "<table border=\"1\" class=\"dataframe\">\n",
       "  <thead>\n",
       "    <tr style=\"text-align: right;\">\n",
       "      <th></th>\n",
       "      <th>Country Origin Name</th>\n",
       "      <th>Country Dest Name</th>\n",
       "    </tr>\n",
       "  </thead>\n",
       "  <tbody>\n",
       "    <tr>\n",
       "      <th>0</th>\n",
       "      <td>Refugees</td>\n",
       "      <td>Uganda</td>\n",
       "    </tr>\n",
       "    <tr>\n",
       "      <th>1</th>\n",
       "      <td>Refugees</td>\n",
       "      <td>Falkland Islands (Malvinas)</td>\n",
       "    </tr>\n",
       "    <tr>\n",
       "      <th>2</th>\n",
       "      <td>Refugees</td>\n",
       "      <td>Germany</td>\n",
       "    </tr>\n",
       "    <tr>\n",
       "      <th>3</th>\n",
       "      <td>Refugees</td>\n",
       "      <td>Malaysia</td>\n",
       "    </tr>\n",
       "    <tr>\n",
       "      <th>4</th>\n",
       "      <td>Refugees</td>\n",
       "      <td>Tajikistan</td>\n",
       "    </tr>\n",
       "    <tr>\n",
       "      <th>...</th>\n",
       "      <td>...</td>\n",
       "      <td>...</td>\n",
       "    </tr>\n",
       "    <tr>\n",
       "      <th>226</th>\n",
       "      <td>Refugees</td>\n",
       "      <td>Sao Tome and Principe</td>\n",
       "    </tr>\n",
       "    <tr>\n",
       "      <th>227</th>\n",
       "      <td>Refugees</td>\n",
       "      <td>Benin</td>\n",
       "    </tr>\n",
       "    <tr>\n",
       "      <th>228</th>\n",
       "      <td>Refugees</td>\n",
       "      <td>Ireland</td>\n",
       "    </tr>\n",
       "    <tr>\n",
       "      <th>229</th>\n",
       "      <td>Refugees</td>\n",
       "      <td>Anguilla</td>\n",
       "    </tr>\n",
       "    <tr>\n",
       "      <th>230</th>\n",
       "      <td>Refugees</td>\n",
       "      <td>Czech Republic</td>\n",
       "    </tr>\n",
       "  </tbody>\n",
       "</table>\n",
       "<p>231 rows × 2 columns</p>\n",
       "</div>"
      ],
      "text/plain": [
       "    Country Origin Name            Country Dest Name\n",
       "0              Refugees                       Uganda\n",
       "1              Refugees  Falkland Islands (Malvinas)\n",
       "2              Refugees                      Germany\n",
       "3              Refugees                     Malaysia\n",
       "4              Refugees                   Tajikistan\n",
       "..                  ...                          ...\n",
       "226            Refugees        Sao Tome and Principe\n",
       "227            Refugees                        Benin\n",
       "228            Refugees                      Ireland\n",
       "229            Refugees                     Anguilla\n",
       "230            Refugees               Czech Republic\n",
       "\n",
       "[231 rows x 2 columns]"
      ]
     },
     "execution_count": 4,
     "metadata": {},
     "output_type": "execute_result"
    }
   ],
   "source": [
    "pairs = set(zip(df[\"Country Origin Name\"], df[\"Country Dest Name\"]))\n",
    "\n",
    "# Identify pairs that do not have a corresponding reverse pair\n",
    "missing_bidirectional = []\n",
    "for origin, dest in pairs:\n",
    "    if (dest, origin) not in pairs:\n",
    "        missing_bidirectional.append((origin, dest))\n",
    "\n",
    "missing_bidirectional_df = pd.DataFrame(missing_bidirectional, columns=[\"Country Origin Name\", \"Country Dest Name\"])\n",
    "\n",
    "\n",
    "missing_bidirectional_df"
   ]
  },
  {
   "cell_type": "code",
   "execution_count": 103,
   "id": "c442fbf6",
   "metadata": {},
   "outputs": [
    {
     "data": {
      "text/plain": [
       "array(['Refugees'], dtype=object)"
      ]
     },
     "execution_count": 103,
     "metadata": {},
     "output_type": "execute_result"
    }
   ],
   "source": [
    "missing_bidirectional_df['Country Origin Name'].unique()"
   ]
  },
  {
   "cell_type": "code",
   "execution_count": 5,
   "id": "4b0eec24",
   "metadata": {},
   "outputs": [
    {
     "data": {
      "text/plain": [
       "Index(['Country Origin Name', 'Country Origin Code',\n",
       "       'Migration by Gender Name', 'Migration by Gender Code',\n",
       "       'Country Dest Name', 'Country Dest Code', '1960', '1970', '1980',\n",
       "       '1990', '2000'],\n",
       "      dtype='object')"
      ]
     },
     "execution_count": 5,
     "metadata": {},
     "output_type": "execute_result"
    }
   ],
   "source": [
    "df.rename(columns=lambda x: x.split(' ')[0] if x.endswith(']') else x, inplace=True)\n",
    "df.columns"
   ]
  },
  {
   "cell_type": "code",
   "execution_count": 6,
   "id": "52c6c0f6",
   "metadata": {},
   "outputs": [],
   "source": [
    "for year in ['1960', '1970', '1980', '1990', '2000']:\n",
    "    df[year] = pd.to_numeric(df[year], errors='coerce').fillna(0).astype(int)"
   ]
  },
  {
   "cell_type": "code",
   "execution_count": 7,
   "id": "a5cca8be",
   "metadata": {},
   "outputs": [],
   "source": [
    "df['Total Migration'] = df[['1960', '1970', '1980', '1990', '2000']].astype(int).sum(axis=1)"
   ]
  },
  {
   "cell_type": "code",
   "execution_count": 8,
   "id": "7bfd868b",
   "metadata": {},
   "outputs": [
    {
     "data": {
      "image/png": "[encoded data removed]",
      "text/plain": [
       "<Figure size 1200x600 with 1 Axes>"
      ]
     },
     "metadata": {},
     "output_type": "display_data"
    },
    {
     "data": {
      "image/png": "[encoded data removed]",
      "text/plain": [
       "<Figure size 1200x600 with 1 Axes>"
      ]
     },
     "metadata": {},
     "output_type": "display_data"
    }
   ],
   "source": [
    "import matplotlib.pyplot as plt\n",
    "import seaborn as sns\n",
    "# 1. Primary source countries for migration\n",
    "source_migration = df.groupby('Country Origin Name')['Total Migration'].sum().reset_index()\n",
    "source_migration = source_migration.sort_values(by='Total Migration', ascending=False).head(5)\n",
    "\n",
    "plt.figure(figsize=(12, 6))\n",
    "sns.barplot(x='Country Origin Name', y='Total Migration', data=source_migration)\n",
    "plt.title('Top Source Countries for Migration')\n",
    "plt.xticks(rotation=45)\n",
    "plt.show()\n",
    "\n",
    "# 2. Primary destination countries for migration\n",
    "dest_migration = df.groupby('Country Dest Name')['Total Migration'].sum().reset_index()\n",
    "dest_migration = dest_migration.sort_values(by='Total Migration', ascending=False).head(5)\n",
    "\n",
    "plt.figure(figsize=(12, 6))\n",
    "sns.barplot(x='Country Dest Name', y='Total Migration', data=dest_migration)\n",
    "plt.title('Top Destination Countries for Migration')\n",
    "plt.xticks(rotation=45)\n",
    "plt.show()"
   ]
  },
  {
   "cell_type": "code",
   "execution_count": 9,
   "id": "b940c759",
   "metadata": {},
   "outputs": [
    {
     "data": {
      "application/vnd.jupyter.widget-view+json": {
       "model_id": "232f3978f33446938375143047cdc622",
       "version_major": 2,
       "version_minor": 0
      },
      "text/plain": [
       "interactive(children=(IntSlider(value=5, description='Top K Countries', max=20, min=1), Output()), _dom_classe…"
      ]
     },
     "metadata": {},
     "output_type": "display_data"
    },
    {
     "data": {
      "text/plain": [
       "<function __main__.plot_migration_top_k(top_k)>"
      ]
     },
     "execution_count": 9,
     "metadata": {},
     "output_type": "execute_result"
    }
   ],
   "source": [
    "import matplotlib.pyplot as plt\n",
    "import pandas as pd\n",
    "import ipywidgets as widgets\n",
    "from IPython.display import display\n",
    "\n",
    "# Assuming df is your DataFrame with migration data\n",
    "\n",
    "# Function to plot based on the top K selected\n",
    "def plot_migration_top_k(top_k):\n",
    "    # 1. Primary source countries for migration\n",
    "    source_migration = df.groupby('Country Origin Name')['Total Migration'].sum().reset_index()\n",
    "    source_migration = source_migration.sort_values(by='Total Migration', ascending=False).head(top_k)\n",
    "\n",
    "    plt.figure(figsize=(12, 6))\n",
    "    plt.bar(source_migration['Country Origin Name'], source_migration['Total Migration'])\n",
    "    plt.title(f'Top {top_k} Source Countries for Migration')\n",
    "    plt.xticks(rotation=45)\n",
    "    plt.xlabel('Country of Origin')\n",
    "    plt.ylabel('Total Migration')\n",
    "    plt.show()\n",
    "\n",
    "    # 2. Primary destination countries for migration\n",
    "    dest_migration = df.groupby('Country Dest Name')['Total Migration'].sum().reset_index()\n",
    "    dest_migration = dest_migration.sort_values(by='Total Migration', ascending=False).head(top_k)\n",
    "\n",
    "    plt.figure(figsize=(12, 6))\n",
    "    plt.bar(dest_migration['Country Dest Name'], dest_migration['Total Migration'])\n",
    "    plt.title(f'Top {top_k} Destination Countries for Migration')\n",
    "    plt.xticks(rotation=45)\n",
    "    plt.xlabel('Country of Destination')\n",
    "    plt.ylabel('Total Migration')\n",
    "    plt.show()\n",
    "\n",
    "# Dropdown widget for selecting the top K countries\n",
    "top_k_widget = widgets.IntSlider(min=1, max=20, step=1, value=5, description='Top K Countries')\n",
    "\n",
    "# Display the widget and link it to the plot function\n",
    "widgets.interact(plot_migration_top_k, top_k=top_k_widget)\n"
   ]
  },
  {
   "cell_type": "code",
   "execution_count": 10,
   "id": "a020422f",
   "metadata": {},
   "outputs": [
    {
     "data": {
      "application/vnd.jupyter.widget-view+json": {
       "model_id": "05d0c7c5b34249a1a05db7827d6b272a",
       "version_major": 2,
       "version_minor": 0
      },
      "text/plain": [
       "interactive(children=(IntSlider(value=5, description='Select Top K:', max=20, min=1), Output()), _dom_classes=…"
      ]
     },
     "metadata": {},
     "output_type": "display_data"
    },
    {
     "data": {
      "text/plain": [
       "<function __main__.plot_migration_top_k(top_k)>"
      ]
     },
     "execution_count": 10,
     "metadata": {},
     "output_type": "execute_result"
    }
   ],
   "source": [
    "import matplotlib.pyplot as plt\n",
    "import pandas as pd\n",
    "import ipywidgets as widgets\n",
    "from IPython.display import display\n",
    "\n",
    "# Function to plot based on the top K selected\n",
    "def plot_migration_top_k(top_k):\n",
    "    # 1. Primary source countries for migration\n",
    "    source_migration = df.groupby('Country Origin Name')['Total Migration'].sum().reset_index()\n",
    "    source_migration['Total Migration'] = source_migration['Total Migration'] / 1_000_000  # Convert to millions\n",
    "    source_migration = source_migration.sort_values(by='Total Migration', ascending=False).head(top_k)\n",
    "\n",
    "    plt.figure(figsize=(12, 6))\n",
    "    plt.bar(source_migration['Country Origin Name'], source_migration['Total Migration'])\n",
    "    plt.title(f'Top {top_k} Source Countries with highest cumulative migration from 1960-2000')\n",
    "    plt.xticks(rotation=0)\n",
    "    plt.xlabel('Country of Origin')\n",
    "    plt.ylabel('Total Migration (in Millions)')\n",
    "    plt.show()\n",
    "\n",
    "    # 2. Primary destination countries for migration\n",
    "    dest_migration = df.groupby('Country Dest Name')['Total Migration'].sum().reset_index()\n",
    "    dest_migration['Total Migration'] = dest_migration['Total Migration'] / 1_000_000  # Convert to millions\n",
    "    dest_migration = dest_migration.sort_values(by='Total Migration', ascending=False).head(top_k)\n",
    "\n",
    "    plt.figure(figsize=(12, 6))\n",
    "    plt.bar(dest_migration['Country Dest Name'], dest_migration['Total Migration'])\n",
    "    plt.title(f'Top {top_k} Destination Countries with highest cumulative migration from 1960-2000')\n",
    "    plt.xticks(rotation=0)\n",
    "    plt.xlabel('Country of Destination')\n",
    "    plt.ylabel('Total Migration (in Millions)')\n",
    "    plt.show()\n",
    "\n",
    "# Dropdown widget for selecting the top K countries\n",
    "top_k_widget = widgets.IntSlider(min=1, max=20, step=1, value=5, description='Select Top K:')\n",
    "\n",
    "# Display the widget and link it to the plot function\n",
    "widgets.interact(plot_migration_top_k, top_k=top_k_widget)\n"
   ]
  },
  {
   "cell_type": "code",
   "execution_count": 110,
   "id": "f459951a",
   "metadata": {},
   "outputs": [
    {
     "data": {
      "text/plain": [
       "Index(['Country Origin Name', 'Country Origin Code',\n",
       "       'Migration by Gender Name', 'Migration by Gender Code',\n",
       "       'Country Dest Name', 'Country Dest Code', '1960', '1970', '1980',\n",
       "       '1990', '2000', 'Total Migration'],\n",
       "      dtype='object')"
      ]
     },
     "execution_count": 110,
     "metadata": {},
     "output_type": "execute_result"
    }
   ],
   "source": [
    "df.columns"
   ]
  },
  {
   "cell_type": "code",
   "execution_count": 111,
   "id": "c0c055be",
   "metadata": {},
   "outputs": [
    {
     "data": {
      "text/plain": [
       "array(['Total', 'Female', 'Male'], dtype=object)"
      ]
     },
     "execution_count": 111,
     "metadata": {},
     "output_type": "execute_result"
    }
   ],
   "source": [
    "df['Migration by Gender Name'].unique()"
   ]
  },
  {
   "cell_type": "code",
   "execution_count": 11,
   "id": "cbc67649",
   "metadata": {},
   "outputs": [
    {
     "data": {
      "application/vnd.jupyter.widget-view+json": {
       "model_id": "cab9ad5f9dfb4f47846c7227c57e584d",
       "version_major": 2,
       "version_minor": 0
      },
      "text/plain": [
       "interactive(children=(IntSlider(value=5, description='Select Top K:', max=20, min=1), Dropdown(description='Ge…"
      ]
     },
     "metadata": {},
     "output_type": "display_data"
    },
    {
     "data": {
      "text/plain": [
       "<function __main__.plot_migration_top_k_gender(top_k, gender)>"
      ]
     },
     "execution_count": 11,
     "metadata": {},
     "output_type": "execute_result"
    }
   ],
   "source": [
    "import matplotlib.pyplot as plt\n",
    "import pandas as pd\n",
    "import ipywidgets as widgets\n",
    "from IPython.display import display\n",
    "\n",
    "# Function to plot based on the top K and gender selected\n",
    "def plot_migration_top_k_gender(top_k, gender):\n",
    "    # Filter data based on gender\n",
    "    filtered_df = df[df['Migration by Gender Name'] == gender] if gender != 'Total' else df\n",
    "\n",
    "    # 1. Primary source countries for migration\n",
    "    source_migration = filtered_df.groupby('Country Origin Name')['Total Migration'].sum().reset_index()\n",
    "    source_migration['Total Migration'] = source_migration['Total Migration'] / 1_000_000  # Convert to millions\n",
    "    source_migration = source_migration.sort_values(by='Total Migration', ascending=False).head(top_k)\n",
    "\n",
    "    plt.figure(figsize=(12, 6))\n",
    "    plt.bar(source_migration['Country Origin Name'], source_migration['Total Migration'])\n",
    "    plt.title(f'Top {top_k} Source Countries for Migration ({gender})')\n",
    "    plt.xticks(rotation=0)\n",
    "    plt.xlabel('Country of Origin')\n",
    "    plt.ylabel('Total Migration (in Millions)')\n",
    "    plt.show()\n",
    "\n",
    "    # 2. Primary destination countries for migration\n",
    "    dest_migration = filtered_df.groupby('Country Dest Name')['Total Migration'].sum().reset_index()\n",
    "    dest_migration['Total Migration'] = dest_migration['Total Migration'] / 1_000_000  # Convert to millions\n",
    "    dest_migration = dest_migration.sort_values(by='Total Migration', ascending=False).head(top_k)\n",
    "\n",
    "    plt.figure(figsize=(12, 6))\n",
    "    plt.bar(dest_migration['Country Dest Name'], dest_migration['Total Migration'])\n",
    "    plt.title(f'Top {top_k} Destination Countries for Migration ({gender})')\n",
    "    plt.xticks(rotation=0)\n",
    "    plt.xlabel('Country of Destination')\n",
    "    plt.ylabel('Total Migration (in Millions)')\n",
    "    plt.show()\n",
    "\n",
    "# Dropdown widget for selecting the top K countries\n",
    "top_k_widget = widgets.IntSlider(min=1, max=20, step=1, value=5, description='Select Top K:')\n",
    "\n",
    "# Dropdown widget for gender selection with default set to 'Total'\n",
    "gender_widget = widgets.Dropdown(\n",
    "    options=['Total', 'Male', 'Female'],\n",
    "    value='Total',\n",
    "    description='Gender',\n",
    ")\n",
    "\n",
    "# Display the widgets and link them to the plot function\n",
    "widgets.interact(plot_migration_top_k_gender, top_k=top_k_widget, gender=gender_widget)\n"
   ]
  },
  {
   "cell_type": "code",
   "execution_count": 113,
   "id": "06e572b5",
   "metadata": {},
   "outputs": [
    {
     "data": {
      "application/vnd.jupyter.widget-view+json": {
       "model_id": "d3b4ab55166b4fc49d00601cfd1cac55",
       "version_major": 2,
       "version_minor": 0
      },
      "text/plain": [
       "interactive(children=(IntSlider(value=5, description='Top K Countries', max=20, min=1), Dropdown(description='…"
      ]
     },
     "metadata": {},
     "output_type": "display_data"
    },
    {
     "data": {
      "text/plain": [
       "<function __main__.plot_and_save_migration_top_k_gender(top_k, gender, save=False)>"
      ]
     },
     "execution_count": 113,
     "metadata": {},
     "output_type": "execute_result"
    }
   ],
   "source": [
    "import matplotlib.pyplot as plt\n",
    "import pandas as pd\n",
    "import ipywidgets as widgets\n",
    "from IPython.display import display\n",
    "\n",
    "# Function to plot and save based on the top K and gender selected\n",
    "def plot_and_save_migration_top_k_gender(top_k, gender, save=False):\n",
    "    # Filter data based on gender\n",
    "    filtered_df = df[df['Migration by Gender Name'] == gender] if gender != 'Total' else df\n",
    "\n",
    "    # 1. Primary source countries for migration\n",
    "    source_migration = filtered_df.groupby('Country Origin Name')['Total Migration'].sum().reset_index()\n",
    "    source_migration['Total Migration'] = source_migration['Total Migration'] / 1_000_000  # Convert to millions\n",
    "    source_migration = source_migration.sort_values(by='Total Migration', ascending=False).head(top_k)\n",
    "\n",
    "    plt.figure(figsize=(12, 6))\n",
    "    plt.bar(source_migration['Country Origin Name'], source_migration['Total Migration'])\n",
    "    plt.title(f'Top {top_k} Source Countries for Migration ({gender})')\n",
    "    plt.xticks(rotation=0)\n",
    "    plt.xlabel('Country of Origin')\n",
    "    plt.ylabel('Total Migration (in Millions)')\n",
    "    \n",
    "    # Save the plot as a high-resolution image if save=True\n",
    "    if save:\n",
    "        plt.savefig(f'migration_source_{gender}_{top_k}.png', dpi=300, bbox_inches='tight')\n",
    "\n",
    "    plt.show()\n",
    "\n",
    "    # 2. Primary destination countries for migration\n",
    "    dest_migration = filtered_df.groupby('Country Dest Name')['Total Migration'].sum().reset_index()\n",
    "    dest_migration['Total Migration'] = dest_migration['Total Migration'] / 1_000_000  # Convert to millions\n",
    "    dest_migration = dest_migration.sort_values(by='Total Migration', ascending=False).head(top_k)\n",
    "\n",
    "    plt.figure(figsize=(12, 6))\n",
    "    plt.bar(dest_migration['Country Dest Name'], dest_migration['Total Migration'])\n",
    "    plt.title(f'Top {top_k} Destination Countries for Migration ({gender})')\n",
    "    plt.xticks(rotation=0)\n",
    "    plt.xlabel('Country of Destination')\n",
    "    plt.ylabel('Total Migration (in Millions)')\n",
    "    \n",
    "    # Save the plot as a high-resolution image if save=True\n",
    "    if save:\n",
    "        plt.savefig(f'migration_dest_{gender}_{top_k}.png', dpi=300, bbox_inches='tight')\n",
    "\n",
    "    plt.show()\n",
    "\n",
    "# Dropdown widget for selecting the top K countries\n",
    "top_k_widget = widgets.IntSlider(min=1, max=20, step=1, value=5, description='Top K Countries')\n",
    "\n",
    "# Dropdown widget for gender selection with default set to 'Total'\n",
    "gender_widget = widgets.Dropdown(\n",
    "    options=['Total', 'Male', 'Female'],\n",
    "    value='Total',\n",
    "    description='Gender',\n",
    ")\n",
    "\n",
    "# Checkbox widget for enabling/disabling save functionality\n",
    "save_widget = widgets.Checkbox(value=False, description='Save Plot')\n",
    "\n",
    "# Display the widgets and link them to the plot function\n",
    "widgets.interact(plot_and_save_migration_top_k_gender, top_k=top_k_widget, gender=gender_widget, save=save_widget)\n"
   ]
  },
  {
   "cell_type": "code",
   "execution_count": 114,
   "id": "4c77a833",
   "metadata": {},
   "outputs": [
    {
     "data": {
      "text/plain": [
       "Index(['Country Origin Name', 'Country Origin Code',\n",
       "       'Migration by Gender Name', 'Migration by Gender Code',\n",
       "       'Country Dest Name', 'Country Dest Code', '1960', '1970', '1980',\n",
       "       '1990', '2000', 'Total Migration'],\n",
       "      dtype='object')"
      ]
     },
     "execution_count": 114,
     "metadata": {},
     "output_type": "execute_result"
    }
   ],
   "source": [
    "df.columns"
   ]
  },
  {
   "cell_type": "code",
   "execution_count": 115,
   "id": "8fbbf2ce",
   "metadata": {},
   "outputs": [
    {
     "data": {
      "application/vnd.jupyter.widget-view+json": {
       "model_id": "cc688620a358496cb4568ca25ca72d91",
       "version_major": 2,
       "version_minor": 0
      },
      "text/plain": [
       "interactive(children=(IntSlider(value=5, description='Select Top K:', max=20, min=1), Dropdown(description='Ge…"
      ]
     },
     "metadata": {},
     "output_type": "display_data"
    },
    {
     "data": {
      "text/plain": [
       "<function __main__.plot_migration_top_k_gender_year(top_k, gender, year)>"
      ]
     },
     "execution_count": 115,
     "metadata": {},
     "output_type": "execute_result"
    }
   ],
   "source": [
    "import matplotlib.pyplot as plt\n",
    "import pandas as pd\n",
    "import ipywidgets as widgets\n",
    "from IPython.display import display\n",
    "\n",
    "# Function to plot based on the top K, gender, and year selected\n",
    "def plot_migration_top_k_gender_year(top_k, gender, year):\n",
    "    # Filter data based on gender\n",
    "    filtered_df = df[df['Migration by Gender Name'] == gender] if gender != 'Total' else df\n",
    "\n",
    "    # Check if 'Total' is selected for year and use 'Total Migration', otherwise use the selected year column\n",
    "    if year == 'Total':\n",
    "        source_migration = filtered_df.groupby('Country Origin Name')['Total Migration'].sum().reset_index()\n",
    "        dest_migration = filtered_df.groupby('Country Dest Name')['Total Migration'].sum().reset_index()\n",
    "        y_label = 'Total Migration (in Millions)'\n",
    "    else:\n",
    "        source_migration = filtered_df.groupby('Country Origin Name')[year].sum().reset_index()\n",
    "        dest_migration = filtered_df.groupby('Country Dest Name')[year].sum().reset_index()\n",
    "        y_label = f'Migration in {year} (in Millions)'\n",
    "\n",
    "    # Convert to millions for both source and destination\n",
    "    source_migration[year if year != 'Total' else 'Total Migration'] /= 1_000_000\n",
    "    dest_migration[year if year != 'Total' else 'Total Migration'] /= 1_000_000\n",
    "\n",
    "    # Sort and select top K for both source and destination\n",
    "    source_migration = source_migration.sort_values(by=year if year != 'Total' else 'Total Migration', ascending=False).head(top_k)\n",
    "    dest_migration = dest_migration.sort_values(by=year if year != 'Total' else 'Total Migration', ascending=False).head(top_k)\n",
    "\n",
    "    # Plot for source countries\n",
    "    plt.figure(figsize=(12, 6))\n",
    "    plt.bar(source_migration['Country Origin Name'], source_migration[year if year != 'Total' else 'Total Migration'])\n",
    "    plt.title(f'Top {top_k} Source Countries for Migration ({gender}, {year})')\n",
    "    plt.xticks(rotation=0)\n",
    "    plt.xlabel('Country of Origin')\n",
    "    plt.ylabel(y_label)\n",
    "    plt.show()\n",
    "\n",
    "    # Plot for destination countries\n",
    "    plt.figure(figsize=(12, 6))\n",
    "    plt.bar(dest_migration['Country Dest Name'], dest_migration[year if year != 'Total' else 'Total Migration'])\n",
    "    plt.title(f'Top {top_k} Destination Countries for Migration ({gender}, {year})')\n",
    "    plt.xticks(rotation=0)\n",
    "    plt.xlabel('Country of Destination')\n",
    "    plt.ylabel(y_label)\n",
    "    plt.show()\n",
    "\n",
    "# Dropdown widget for selecting the top K countries\n",
    "top_k_widget = widgets.IntSlider(min=1, max=20, step=1, value=5, description='Select Top K:')\n",
    "\n",
    "# Dropdown widget for gender selection with default set to 'Total'\n",
    "gender_widget = widgets.Dropdown(\n",
    "    options=['Total', 'Male', 'Female'],\n",
    "    value='Total',\n",
    "    description='Gender',\n",
    ")\n",
    "\n",
    "# Dropdown widget for year selection with 'Total' as an option\n",
    "year_widget = widgets.Dropdown(\n",
    "    options=['Total', '1960', '1970', '1980', '1990', '2000'],\n",
    "    value='Total',\n",
    "    description='Year',\n",
    ")\n",
    "\n",
    "# Display the widgets and link them to the plot function\n",
    "widgets.interact(plot_migration_top_k_gender_year, top_k=top_k_widget, gender=gender_widget, year=year_widget)\n"
   ]
  },
  {
   "cell_type": "code",
   "execution_count": 116,
   "id": "c5d51c89",
   "metadata": {},
   "outputs": [
    {
     "data": {
      "application/vnd.jupyter.widget-view+json": {
       "model_id": "55503a77eea94fc3bcb43754ad3678e5",
       "version_major": 2,
       "version_minor": 0
      },
      "text/plain": [
       "interactive(children=(IntSlider(value=5, description='Select Top K:', max=10, min=1), Dropdown(description='Ge…"
      ]
     },
     "metadata": {},
     "output_type": "display_data"
    },
    {
     "data": {
      "text/plain": [
       "<function __main__.plot_migration_top_k_gender_year(top_k, gender, year)>"
      ]
     },
     "execution_count": 116,
     "metadata": {},
     "output_type": "execute_result"
    }
   ],
   "source": [
    "import matplotlib.pyplot as plt\n",
    "import pandas as pd\n",
    "import ipywidgets as widgets\n",
    "from IPython.display import display\n",
    "\n",
    "# Function to plot based on the top K, gender, and year selected\n",
    "def plot_migration_top_k_gender_year(top_k, gender, year):\n",
    "    # Filter data based on gender\n",
    "    filtered_df = df[df['Migration by Gender Name'] == gender] if gender != 'Total' else df\n",
    "\n",
    "    # Check if 'Total' is selected for year and use 'Total Migration', otherwise use the selected year column\n",
    "    if year == 'Total':\n",
    "        source_migration = filtered_df.groupby('Country Origin Name')['Total Migration'].sum().reset_index()\n",
    "        dest_migration = filtered_df.groupby('Country Dest Name')['Total Migration'].sum().reset_index()\n",
    "        y_label = 'Total Migration (in Millions)'\n",
    "    else:\n",
    "        source_migration = filtered_df.groupby('Country Origin Name')[year].sum().reset_index()\n",
    "        dest_migration = filtered_df.groupby('Country Dest Name')[year].sum().reset_index()\n",
    "        y_label = f'Migration in {year} (in Millions)'\n",
    "\n",
    "    # Convert to millions for both source and destination\n",
    "    source_migration[year if year != 'Total' else 'Total Migration'] /= 1_000_000\n",
    "    dest_migration[year if year != 'Total' else 'Total Migration'] /= 1_000_000\n",
    "\n",
    "    # Sort and select top K for both source and destination\n",
    "    source_migration = source_migration.sort_values(by=year if year != 'Total' else 'Total Migration', ascending=False).head(top_k)\n",
    "    dest_migration = dest_migration.sort_values(by=year if year != 'Total' else 'Total Migration', ascending=False).head(top_k)\n",
    "\n",
    "    # Plot for source countries\n",
    "    plt.figure(figsize=(12, 6))\n",
    "    plt.bar(source_migration['Country Origin Name'], source_migration[year if year != 'Total' else 'Total Migration'])\n",
    "    plt.title(f'Top {top_k} Source Countries for Migration ({gender}, {year})')\n",
    "    plt.xticks(rotation=0)\n",
    "    plt.xlabel('Country of Origin')\n",
    "    plt.ylabel(y_label)\n",
    "    plt.show()\n",
    "\n",
    "    # Plot for destination countries\n",
    "    plt.figure(figsize=(12, 6))\n",
    "    plt.bar(dest_migration['Country Dest Name'], dest_migration[year if year != 'Total' else 'Total Migration'])\n",
    "    plt.title(f'Top {top_k} Destination Countries for Migration ({gender}, {year})')\n",
    "    plt.xticks(rotation=45)\n",
    "    plt.xlabel('Country of Destination')\n",
    "    plt.ylabel(y_label)\n",
    "    plt.show()\n",
    "\n",
    "# Dropdown widget for selecting the top K countries, limited to 10\n",
    "top_k_widget = widgets.IntSlider(min=1, max=10, step=1, value=5, description='Select Top K:')\n",
    "\n",
    "# Dropdown widget for gender selection with default set to 'Total'\n",
    "gender_widget = widgets.Dropdown(\n",
    "    options=['Total', 'Male', 'Female'],\n",
    "    value='Total',\n",
    "    description='Gender',\n",
    ")\n",
    "\n",
    "# Dropdown widget for year selection with 'Total' as an option\n",
    "year_widget = widgets.Dropdown(\n",
    "    options=['Total', '1960', '1970', '1980', '1990', '2000'],\n",
    "    value='Total',\n",
    "    description='Year',\n",
    ")\n",
    "\n",
    "# Display the widgets and link them to the plot function\n",
    "widgets.interact(plot_migration_top_k_gender_year, top_k=top_k_widget, gender=gender_widget, year=year_widget)\n"
   ]
  },
  {
   "cell_type": "code",
   "execution_count": 12,
   "id": "ab5a0df1",
   "metadata": {},
   "outputs": [
    {
     "data": {
      "application/vnd.jupyter.widget-view+json": {
       "model_id": "6f75fdeaf7204dfa917724b74f29b5ca",
       "version_major": 2,
       "version_minor": 0
      },
      "text/plain": [
       "interactive(children=(Dropdown(description='Gender', options=('Total', 'Male', 'Female'), value='Total'), Outp…"
      ]
     },
     "metadata": {},
     "output_type": "display_data"
    },
    {
     "data": {
      "text/plain": [
       "<function __main__.plot_migration_trends(gender)>"
      ]
     },
     "execution_count": 12,
     "metadata": {},
     "output_type": "execute_result"
    }
   ],
   "source": [
    "import plotly.express as px\n",
    "import pandas as pd\n",
    "import ipywidgets as widgets\n",
    "from IPython.display import display\n",
    "\n",
    "# Function to prepare migration data by decade\n",
    "def prepare_decade_migration(gender):\n",
    "    # Filter data based on gender\n",
    "    filtered_df = df[df['Migration by Gender Name'] == gender] if gender != 'Total' else df\n",
    "    \n",
    "    # Summing the decade columns\n",
    "    decade_migration = filtered_df[['1960', '1970', '1980', '1990', '2000']].sum().reset_index()\n",
    "    decade_migration.columns = ['Decade', 'Total Migration']\n",
    "    \n",
    "    # Convert 'Total Migration' to millions\n",
    "    decade_migration['Total Migration'] = decade_migration['Total Migration'] / 1_000_000\n",
    "    \n",
    "    return decade_migration\n",
    "\n",
    "# Function to create and display interactive plot\n",
    "def plot_migration_trends(gender):\n",
    "    # Prepare data\n",
    "    decade_migration = prepare_decade_migration(gender)\n",
    "    \n",
    "    # Create Plotly line plot with hover tips\n",
    "    fig = px.line(\n",
    "        decade_migration, \n",
    "        x='Decade', \n",
    "        y='Total Migration', \n",
    "        title=f'Migration Trends by Decade ({gender})',\n",
    "        markers=True,\n",
    "        labels={'Total Migration': 'Total Migration (in Millions)'},\n",
    "        hover_name='Decade',\n",
    "        hover_data={'Total Migration': ':.2f'}  # Hover tip showing the value with 2 decimal places\n",
    "    )\n",
    "    \n",
    "    fig.update_layout(\n",
    "        xaxis_title=\"Decade\",\n",
    "        yaxis_title=\"Total Migration (in Millions)\",\n",
    "        title_x=0.5,\n",
    "        template=\"simple_white\"\n",
    "    )\n",
    "    \n",
    "    fig.show()\n",
    "\n",
    "# Dropdown widget for gender selection with default set to 'Total'\n",
    "gender_widget = widgets.Dropdown(\n",
    "    options=['Total', 'Male', 'Female'],\n",
    "    value='Total',\n",
    "    description='Gender',\n",
    ")\n",
    "\n",
    "# Display the widget and link it to the plot function\n",
    "widgets.interact(plot_migration_trends, gender=gender_widget)\n"
   ]
  },
  {
   "cell_type": "code",
   "execution_count": 13,
   "id": "c20e5edc",
   "metadata": {
    "scrolled": true
   },
   "outputs": [
    {
     "data": {
      "application/vnd.jupyter.widget-view+json": {
       "model_id": "e100ecf6258b4914b372932b0e90d34f",
       "version_major": 2,
       "version_minor": 0
      },
      "text/plain": [
       "interactive(children=(Dropdown(description='Origin:', options=('Afghanistan', 'Albania', 'Algeria', 'American …"
      ]
     },
     "metadata": {},
     "output_type": "display_data"
    }
   ],
   "source": [
    "import ipywidgets as widgets\n",
    "from IPython.display import display\n",
    "origin_widget = widgets.Dropdown(\n",
    "    options=df['Country Origin Name'].unique(),\n",
    "    description='Origin:',\n",
    "    disabled=False,\n",
    ")\n",
    "\n",
    "dest_widget = widgets.Dropdown(\n",
    "    options=df['Country Dest Name'].unique(),\n",
    "    description='Destination:',\n",
    "    disabled=False,\n",
    ")\n",
    "\n",
    "# Function to update the plot based on widget values\n",
    "def update_plot(origin, dest):\n",
    "    filtered_df = df[(df['Country Origin Name'] == origin) & (df['Country Dest Name'] == dest)]\n",
    "    decade_migration = filtered_df[['1960', '1970', '1980', '1990', '2000']].sum().reset_index()\n",
    "    decade_migration.columns = ['Decade', 'Total Migration']\n",
    "    \n",
    "    plt.figure(figsize=(12, 6))\n",
    "    sns.lineplot(x='Decade', y='Total Migration', data=decade_migration, marker='o')\n",
    "    plt.title(f'Migration Trends by Decade for {origin} to {dest}')\n",
    "    plt.show()\n",
    "\n",
    "# Set up interactive widgets\n",
    "interactive_plot = widgets.interactive(update_plot, origin=origin_widget, dest=dest_widget)\n",
    "\n",
    "# Display widgets and the plot\n",
    "display(interactive_plot)"
   ]
  },
  {
   "cell_type": "code",
   "execution_count": 46,
   "id": "e8a7264b",
   "metadata": {},
   "outputs": [
    {
     "data": {
      "text/plain": [
       "Index(['Country Origin Name', 'Country Origin Code',\n",
       "       'Migration by Gender Name', 'Migration by Gender Code',\n",
       "       'Country Dest Name', 'Country Dest Code', '1960', '1970', '1980',\n",
       "       '1990', '2000', 'Total Migration'],\n",
       "      dtype='object')"
      ]
     },
     "execution_count": 46,
     "metadata": {},
     "output_type": "execute_result"
    }
   ],
   "source": [
    "df.columns"
   ]
  },
  {
   "cell_type": "code",
   "execution_count": 47,
   "id": "a1d95d9c",
   "metadata": {},
   "outputs": [
    {
     "data": {
      "text/plain": [
       "0         Total\n",
       "1         Total\n",
       "2         Total\n",
       "3         Total\n",
       "4         Total\n",
       "          ...  \n",
       "160771     Male\n",
       "160772     Male\n",
       "160773     Male\n",
       "160774     Male\n",
       "160775     Male\n",
       "Name: Migration by Gender Name, Length: 160776, dtype: object"
      ]
     },
     "execution_count": 47,
     "metadata": {},
     "output_type": "execute_result"
    }
   ],
   "source": [
    "df['Migration by Gender Name']"
   ]
  },
  {
   "cell_type": "code",
   "execution_count": 14,
   "id": "12f6d1c3",
   "metadata": {},
   "outputs": [
    {
     "data": {
      "application/vnd.jupyter.widget-view+json": {
       "model_id": "564e2de64b99459cb445362930e76ae6",
       "version_major": 2,
       "version_minor": 0
      },
      "text/plain": [
       "interactive(children=(Dropdown(description='Type', options=('Source', 'Destination'), value='Source'), Output(…"
      ]
     },
     "metadata": {},
     "output_type": "display_data"
    },
    {
     "data": {
      "text/plain": [
       "<function __main__.plot_migration_trends(source_or_dest)>"
      ]
     },
     "execution_count": 14,
     "metadata": {},
     "output_type": "execute_result"
    }
   ],
   "source": [
    "import plotly.express as px\n",
    "import pandas as pd\n",
    "import ipywidgets as widgets\n",
    "from IPython.display import display\n",
    "\n",
    "# Function to prepare migration data by decade, source or destination, and gender\n",
    "def prepare_decade_migration(source_or_dest):\n",
    "    # Group by the selected column (source or destination)\n",
    "    if source_or_dest == \"Source\":\n",
    "        filtered_df = df.groupby(['Country Origin Name', 'Migration by Gender Name'])[['1960', '1970', '1980', '1990', '2000']].sum().reset_index()\n",
    "    else:\n",
    "        filtered_df = df.groupby(['Country Dest Name', 'Migration by Gender Name'])[['1960', '1970', '1980', '1990', '2000']].sum().reset_index()\n",
    "\n",
    "    # Filter out 'Total' from 'Migration by Gender Name' and keep only 'Male' and 'Female'\n",
    "    filtered_df = filtered_df[filtered_df['Migration by Gender Name'].isin(['Male', 'Female'])]\n",
    "    \n",
    "    # Sum the decade columns by gender\n",
    "    decade_migration = filtered_df.groupby('Migration by Gender Name')[['1960', '1970', '1980', '1990', '2000']].sum().T\n",
    "    decade_migration.columns = ['Male', 'Female']\n",
    "    \n",
    "    # Convert to millions\n",
    "    decade_migration['Male'] = decade_migration['Male'] / 1_000_000\n",
    "    decade_migration['Female'] = decade_migration['Female'] / 1_000_000\n",
    "    decade_migration = decade_migration.reset_index()\n",
    "    decade_migration.columns = ['Decade', 'Male', 'Female']\n",
    "    \n",
    "    return decade_migration\n",
    "\n",
    "# Function to create and display interactive plot for source or destination migration trends\n",
    "def plot_migration_trends(source_or_dest):\n",
    "    # Prepare the data\n",
    "    decade_migration = prepare_decade_migration(source_or_dest)\n",
    "    \n",
    "    # Create a Plotly line plot with both male and female migration trends\n",
    "    fig = px.line(\n",
    "        decade_migration, \n",
    "        x='Decade', \n",
    "        y=['Male', 'Female'], \n",
    "        title=f'{source_or_dest} Migration Trends by Decade (Male and Female)',\n",
    "        markers=True,\n",
    "        labels={'value': 'Total Migration (in Millions)', 'variable': 'Gender'},\n",
    "        hover_name='Decade',\n",
    "        hover_data={'value': ':.2f'}\n",
    "    )\n",
    "    \n",
    "    # Update layout for aesthetic\n",
    "    fig.update_layout(\n",
    "        xaxis_title=\"Decade\",\n",
    "        yaxis_title=\"Total Migration (in Millions)\",\n",
    "        title_x=0.5,\n",
    "        template=\"simple_white\",\n",
    "        legend_title_text='Gender'\n",
    "    )\n",
    "    \n",
    "    fig.show()\n",
    "\n",
    "# Dropdown widget for selecting source or destination\n",
    "source_dest_widget = widgets.Dropdown(\n",
    "    options=['Source', 'Destination'],\n",
    "    value='Source',\n",
    "    description='Type',\n",
    ")\n",
    "\n",
    "# Display the widget and link it to the plot function\n",
    "widgets.interact(plot_migration_trends, source_or_dest=source_dest_widget)\n"
   ]
  },
  {
   "cell_type": "code",
   "execution_count": 49,
   "id": "321749db",
   "metadata": {},
   "outputs": [
    {
     "data": {
      "text/plain": [
       "Index(['Country Origin Name', 'Country Origin Code',\n",
       "       'Migration by Gender Name', 'Migration by Gender Code',\n",
       "       'Country Dest Name', 'Country Dest Code', '1960', '1970', '1980',\n",
       "       '1990', '2000', 'Total Migration'],\n",
       "      dtype='object')"
      ]
     },
     "execution_count": 49,
     "metadata": {},
     "output_type": "execute_result"
    }
   ],
   "source": [
    "df.columns"
   ]
  },
  {
   "cell_type": "code",
   "execution_count": 15,
   "id": "f973f14d",
   "metadata": {},
   "outputs": [
    {
     "data": {
      "application/vnd.jupyter.widget-view+json": {
       "model_id": "75bedd5cd2894ff38c9d61f6a19ccefc",
       "version_major": 2,
       "version_minor": 0
      },
      "text/plain": [
       "interactive(children=(Dropdown(description='Type', options=('Source', 'Destination'), value='Source'), Dropdow…"
      ]
     },
     "metadata": {},
     "output_type": "display_data"
    },
    {
     "data": {
      "text/plain": [
       "<function __main__.plot_migration_trends(source_or_dest, country)>"
      ]
     },
     "execution_count": 15,
     "metadata": {},
     "output_type": "execute_result"
    }
   ],
   "source": [
    "import plotly.express as px\n",
    "import pandas as pd\n",
    "import ipywidgets as widgets\n",
    "from IPython.display import display\n",
    "\n",
    "# Function to prepare migration data by decade, source or destination, gender, and country\n",
    "def prepare_decade_migration(source_or_dest, country):\n",
    "    # Group by the selected column (source or destination)\n",
    "    if source_or_dest == \"Source\":\n",
    "        filtered_df = df[df['Country Origin Name'] == country].groupby(['Country Origin Name', 'Migration by Gender Name'])[['1960', '1970', '1980', '1990', '2000']].sum().reset_index()\n",
    "    else:\n",
    "        filtered_df = df[df['Country Dest Name'] == country].groupby(['Country Dest Name', 'Migration by Gender Name'])[['1960', '1970', '1980', '1990', '2000']].sum().reset_index()\n",
    "\n",
    "    # Filter out 'Total' from 'Migration by Gender Name' and keep only 'Male' and 'Female'\n",
    "    filtered_df = filtered_df[filtered_df['Migration by Gender Name'].isin(['Male', 'Female'])]\n",
    "    \n",
    "    # Sum the decade columns by gender\n",
    "    decade_migration = filtered_df.groupby('Migration by Gender Name')[['1960', '1970', '1980', '1990', '2000']].sum().T\n",
    "    decade_migration.columns = ['Male', 'Female']\n",
    "    \n",
    "    # Convert to millions\n",
    "    decade_migration['Male'] = decade_migration['Male'] / 1_000_000\n",
    "    decade_migration['Female'] = decade_migration['Female'] / 1_000_000\n",
    "    decade_migration = decade_migration.reset_index()\n",
    "    decade_migration.columns = ['Decade', 'Male', 'Female']\n",
    "    \n",
    "    return decade_migration\n",
    "\n",
    "# Function to update country dropdown based on source/destination selection\n",
    "def update_country_options(source_or_dest):\n",
    "    if source_or_dest == \"Source\":\n",
    "        country_options = df['Country Origin Name'].unique()\n",
    "    else:\n",
    "        country_options = df['Country Dest Name'].unique()\n",
    "    \n",
    "    # Update the country dropdown options\n",
    "    country_widget.options = country_options\n",
    "    country_widget.value = country_options[0]  # Set the default to the first option\n",
    "\n",
    "# Function to create and display interactive plot for migration trends with country filter\n",
    "def plot_migration_trends(source_or_dest, country):\n",
    "    # Prepare the data\n",
    "    decade_migration = prepare_decade_migration(source_or_dest, country)\n",
    "    \n",
    "    # Create a Plotly line plot with both male and female migration trends\n",
    "    fig = px.line(\n",
    "        decade_migration, \n",
    "        x='Decade', \n",
    "        y=['Male', 'Female'], \n",
    "        title=f'{source_or_dest} Migration Trends by Decade (Male and Female) - {country}',\n",
    "        markers=True,\n",
    "        labels={'value': 'Total Migration (in Millions)', 'variable': 'Gender'},\n",
    "        hover_name='Decade',\n",
    "        hover_data={'value': ':.2f'}\n",
    "    )\n",
    "    \n",
    "    # Update layout for aesthetic\n",
    "    fig.update_layout(\n",
    "        xaxis_title=\"Decade\",\n",
    "        yaxis_title=\"Total Migration (in Millions)\",\n",
    "        title_x=0.5,\n",
    "        template=\"simple_white\",\n",
    "        legend_title_text='Gender'\n",
    "    )\n",
    "    \n",
    "    fig.show()\n",
    "\n",
    "# Dropdown widget for selecting source or destination\n",
    "source_dest_widget = widgets.Dropdown(\n",
    "    options=['Source', 'Destination'],\n",
    "    value='Source',\n",
    "    description='Type',\n",
    ")\n",
    "\n",
    "# Dropdown widget for selecting country\n",
    "country_widget = widgets.Dropdown(\n",
    "    options=df['Country Origin Name'].unique(),  # Initially populate with 'Country Origin Name'\n",
    "    value=df['Country Origin Name'].unique()[0],\n",
    "    description='Country',\n",
    ")\n",
    "\n",
    "# Update the country dropdown options when 'Source' or 'Destination' is changed\n",
    "def on_source_dest_change(change):\n",
    "    update_country_options(change['new'])\n",
    "\n",
    "source_dest_widget.observe(on_source_dest_change, names='value')\n",
    "\n",
    "# Display the widgets and link them to the plot function\n",
    "widgets.interact(plot_migration_trends, source_or_dest=source_dest_widget, country=country_widget)\n"
   ]
  },
  {
   "cell_type": "code",
   "execution_count": 16,
   "id": "796a37b0",
   "metadata": {},
   "outputs": [
    {
     "data": {
      "application/vnd.jupyter.widget-view+json": {
       "model_id": "f3dbd774401046169cea7f82c1f57516",
       "version_major": 2,
       "version_minor": 0
      },
      "text/plain": [
       "interactive(children=(Dropdown(description='Source:', options=('Afghanistan', 'Albania', 'Algeria', 'American …"
      ]
     },
     "metadata": {},
     "output_type": "display_data"
    },
    {
     "data": {
      "text/plain": [
       "<function __main__.plot_migration_trends(source_country, dest_country)>"
      ]
     },
     "execution_count": 16,
     "metadata": {},
     "output_type": "execute_result"
    }
   ],
   "source": [
    "import plotly.express as px\n",
    "import pandas as pd\n",
    "import ipywidgets as widgets\n",
    "from IPython.display import display\n",
    "\n",
    "# Function to prepare migration data by decade, gender, source country, and destination country\n",
    "def prepare_decade_migration(source_country, dest_country):\n",
    "    # Filter by the selected source and destination countries\n",
    "    filtered_df = df[(df['Country Origin Name'] == source_country) & (df['Country Dest Name'] == dest_country)]\n",
    "\n",
    "    # Filter out 'Total' from 'Migration by Gender Name' and keep only 'Male' and 'Female'\n",
    "    filtered_df = filtered_df[filtered_df['Migration by Gender Name'].isin(['Male', 'Female'])]\n",
    "\n",
    "    # Sum the decade columns by gender\n",
    "    decade_migration = filtered_df.groupby('Migration by Gender Name')[['1960', '1970', '1980', '1990', '2000']].sum().T\n",
    "    decade_migration.columns = ['Male', 'Female']\n",
    "    \n",
    "    # Convert to millions\n",
    "    decade_migration['Male'] = decade_migration['Male'] / 1_000_000\n",
    "    decade_migration['Female'] = decade_migration['Female'] / 1_000_000\n",
    "    decade_migration = decade_migration.reset_index()\n",
    "    decade_migration.columns = ['Decade', 'Male', 'Female']\n",
    "    \n",
    "    return decade_migration\n",
    "\n",
    "# Function to create and display interactive plot for migration trends from source to destination\n",
    "def plot_migration_trends(source_country, dest_country):\n",
    "    # Check if both source and destination are selected\n",
    "    if source_country and dest_country:\n",
    "        # Prepare the data\n",
    "        decade_migration = prepare_decade_migration(source_country, dest_country)\n",
    "        \n",
    "        # Create a Plotly line plot with both male and female migration trends\n",
    "        fig = px.line(\n",
    "            decade_migration, \n",
    "            x='Decade', \n",
    "            y=['Male', 'Female'], \n",
    "            title=f'Migration Trends from {source_country} to {dest_country} by Decade (Male and Female)',\n",
    "            markers=True,\n",
    "            labels={'value': 'Total Migration (in Millions)', 'variable': 'Gender'},\n",
    "            hover_name='Decade',\n",
    "            hover_data={'value': ':.2f'}\n",
    "        )\n",
    "        \n",
    "        # Update layout for aesthetic\n",
    "        fig.update_layout(\n",
    "            xaxis_title=\"Decade\",\n",
    "            yaxis_title=\"Total Migration (in Millions)\",\n",
    "            title_x=0.5,\n",
    "            template=\"simple_white\",\n",
    "            legend_title_text='Gender'\n",
    "        )\n",
    "        \n",
    "        fig.show()\n",
    "\n",
    "# Dropdown widget for selecting source country\n",
    "source_country_widget = widgets.Dropdown(\n",
    "    options=df['Country Origin Name'].unique(),\n",
    "    value=df['Country Origin Name'].unique()[0],\n",
    "    description='Source:',\n",
    ")\n",
    "\n",
    "# Dropdown widget for selecting destination country\n",
    "dest_country_widget = widgets.Dropdown(\n",
    "    options=df['Country Dest Name'].unique(),\n",
    "    value=df['Country Dest Name'].unique()[0],\n",
    "    description='Destination:',\n",
    ")\n",
    "\n",
    "# Display the widgets and link them to the plot function\n",
    "widgets.interact(plot_migration_trends, source_country=source_country_widget, dest_country=dest_country_widget)\n"
   ]
  },
  {
   "cell_type": "code",
   "execution_count": 17,
   "id": "64145158",
   "metadata": {},
   "outputs": [
    {
     "data": {
      "application/vnd.jupyter.widget-view+json": {
       "model_id": "3c4f71d0065b4af8ba7cbff2e3bdcd14",
       "version_major": 2,
       "version_minor": 0
      },
      "text/plain": [
       "interactive(children=(Dropdown(description='Country', options=('Afghanistan', 'Albania', 'Algeria', 'American …"
      ]
     },
     "metadata": {},
     "output_type": "display_data"
    },
    {
     "data": {
      "text/plain": [
       "<function __main__.plot_top_k_migration(selected_country, top_k)>"
      ]
     },
     "execution_count": 17,
     "metadata": {},
     "output_type": "execute_result"
    }
   ],
   "source": [
    "import plotly.graph_objects as go\n",
    "from plotly.subplots import make_subplots\n",
    "import pandas as pd\n",
    "import ipywidgets as widgets\n",
    "from IPython.display import display\n",
    "\n",
    "# Function to get top K source and destination countries for a selected country\n",
    "def prepare_top_k_migration(selected_country, top_k):\n",
    "    # Top K source countries (countries that send people to the selected country)\n",
    "    top_k_sources = df[df['Country Dest Name'] == selected_country].groupby('Country Origin Name')['Total Migration'].sum().nlargest(top_k).reset_index()\n",
    "    \n",
    "    # Top K destination countries (countries where people migrate to from the selected country)\n",
    "    top_k_destinations = df[df['Country Origin Name'] == selected_country].groupby('Country Dest Name')['Total Migration'].sum().nlargest(top_k).reset_index()\n",
    "    \n",
    "    return top_k_sources, top_k_destinations\n",
    "\n",
    "# Function to create and display side-by-side bar plots for top K source and destination countries\n",
    "def plot_top_k_migration(selected_country, top_k):\n",
    "    # Prepare the data\n",
    "    top_k_sources, top_k_destinations = prepare_top_k_migration(selected_country, top_k)\n",
    "    \n",
    "    # Create the figure with two subplots\n",
    "    fig = make_subplots(rows=1, cols=2, subplot_titles=[f'Top {top_k} Source Countries to {selected_country}', \n",
    "                                                        f'Top {top_k} Destination Countries from {selected_country}'])\n",
    "    \n",
    "    # Bar plot for top K source countries\n",
    "    fig.add_trace(go.Bar(x=top_k_sources['Country Origin Name'], y=top_k_sources['Total Migration'] / 1_000_000, \n",
    "                         name='Source Countries', marker_color='blue'), row=1, col=1)\n",
    "    \n",
    "    # Bar plot for top K destination countries\n",
    "    fig.add_trace(go.Bar(x=top_k_destinations['Country Dest Name'], y=top_k_destinations['Total Migration'] / 1_000_000, \n",
    "                         name='Destination Countries', marker_color='green'), row=1, col=2)\n",
    "    \n",
    "    # Update layout for the figure\n",
    "    fig.update_layout(title_text=f'Top {top_k} Source and Destination Countries for {selected_country}', \n",
    "                      showlegend=False, \n",
    "                      xaxis_title='Country', \n",
    "                      yaxis_title='Total Migration (in Millions)',\n",
    "                      height=500, width=1000)\n",
    "    \n",
    "    fig.show()\n",
    "\n",
    "# Dropdown widget for selecting the country\n",
    "country_widget = widgets.Dropdown(\n",
    "    options=df['Country Origin Name'].unique(),\n",
    "    value=df['Country Origin Name'].unique()[0],\n",
    "    description='Country',\n",
    ")\n",
    "\n",
    "# Slider widget for selecting the top K countries\n",
    "top_k_widget = widgets.IntSlider(\n",
    "    value=5,\n",
    "    min=1,\n",
    "    max=10,\n",
    "    step=1,\n",
    "    description='Top K',\n",
    ")\n",
    "\n",
    "# Display the widgets and link them to the plot function\n",
    "widgets.interact(plot_top_k_migration, selected_country=country_widget, top_k=top_k_widget)\n"
   ]
  },
  {
   "cell_type": "code",
   "execution_count": 57,
   "id": "27b190c5",
   "metadata": {},
   "outputs": [
    {
     "data": {
      "text/plain": [
       "Index(['Country Origin Name', 'Country Origin Code',\n",
       "       'Migration by Gender Name', 'Migration by Gender Code',\n",
       "       'Country Dest Name', 'Country Dest Code', '1960', '1970', '1980',\n",
       "       '1990', '2000', 'Total Migration'],\n",
       "      dtype='object')"
      ]
     },
     "execution_count": 57,
     "metadata": {},
     "output_type": "execute_result"
    }
   ],
   "source": [
    "df.columns"
   ]
  },
  {
   "cell_type": "code",
   "execution_count": 60,
   "id": "f6cffafe",
   "metadata": {},
   "outputs": [
    {
     "data": {
      "application/vnd.jupyter.widget-view+json": {
       "model_id": "4898a4afb97148e78f6ef424fba868b3",
       "version_major": 2,
       "version_minor": 0
      },
      "text/plain": [
       "interactive(children=(Dropdown(description='selected_country', options=('Afghanistan', 'Albania', 'Algeria', '…"
      ]
     },
     "metadata": {},
     "output_type": "display_data"
    },
    {
     "data": {
      "text/plain": [
       "<function __main__.plot_top_k_migration(selected_country, top_k, gender, year)>"
      ]
     },
     "execution_count": 60,
     "metadata": {},
     "output_type": "execute_result"
    }
   ],
   "source": []
  },
  {
   "cell_type": "code",
   "execution_count": 18,
   "id": "5dc16372",
   "metadata": {},
   "outputs": [
    {
     "data": {
      "application/vnd.jupyter.widget-view+json": {
       "model_id": "8d2ec27e073241ec85cd47a67760dbfe",
       "version_major": 2,
       "version_minor": 0
      },
      "text/plain": [
       "interactive(children=(Dropdown(description='selected_country', options=('Afghanistan', 'Albania', 'Algeria', '…"
      ]
     },
     "metadata": {},
     "output_type": "display_data"
    },
    {
     "data": {
      "text/plain": [
       "<function __main__.plot_top_k_migration(selected_country, top_k, gender, year)>"
      ]
     },
     "execution_count": 18,
     "metadata": {},
     "output_type": "execute_result"
    }
   ],
   "source": [
    "import plotly.graph_objects as go\n",
    "from plotly.subplots import make_subplots\n",
    "import pandas as pd\n",
    "import ipywidgets as widgets\n",
    "from IPython.display import display\n",
    "\n",
    "# Function to get top K source and destination countries for a selected country, gender, and year\n",
    "def prepare_top_k_migration(selected_country, top_k, gender, year):\n",
    "    # Filter data by gender\n",
    "    filtered_df = df[df['Migration by Gender Name'] == gender]\n",
    "    \n",
    "    # Filter by the selected year or total migration\n",
    "    if year != 'Total Migration':\n",
    "        filtered_df = filtered_df[['Country Origin Name', 'Country Dest Name', year]].rename(columns={year: 'Total Migration'})\n",
    "    \n",
    "    # Top K source countries (countries that send people to the selected country)\n",
    "    top_k_sources = filtered_df[filtered_df['Country Dest Name'] == selected_country].groupby('Country Origin Name')['Total Migration'].sum().nlargest(top_k).reset_index()\n",
    "    \n",
    "    # Top K destination countries (countries where people migrate to from the selected country)\n",
    "    top_k_destinations = filtered_df[filtered_df['Country Origin Name'] == selected_country].groupby('Country Dest Name')['Total Migration'].sum().nlargest(top_k).reset_index()\n",
    "    \n",
    "    return top_k_sources, top_k_destinations\n",
    "\n",
    "# Function to create and display side-by-side bar plots for top K source and destination countries\n",
    "def plot_top_k_migration(selected_country, top_k, gender, year):\n",
    "    # Prepare the data\n",
    "    top_k_sources, top_k_destinations = prepare_top_k_migration(selected_country, int(top_k), gender, year)\n",
    "    \n",
    "    # Create the figure with two subplots\n",
    "    fig = make_subplots(rows=1, cols=2, subplot_titles=[f'Top {top_k} Source Countries to {selected_country}', \n",
    "                                                        f'Top {top_k} Destination Countries from {selected_country}'])\n",
    "    \n",
    "    # Bar plot for top K source countries\n",
    "    fig.add_trace(go.Bar(x=top_k_sources['Country Origin Name'], y=top_k_sources['Total Migration'] / 1_000_000, \n",
    "                         name='Source Countries', marker_color='blue'), row=1, col=1)\n",
    "    \n",
    "    # Bar plot for top K destination countries\n",
    "    fig.add_trace(go.Bar(x=top_k_destinations['Country Dest Name'], y=top_k_destinations['Total Migration'] / 1_000_000, \n",
    "                         name='Destination Countries', marker_color='green'), row=1, col=2)\n",
    "    \n",
    "    # Update layout for the figure\n",
    "    fig.update_layout(title_text=f'Top {top_k} Source and Destination Countries for {selected_country} ({gender}, {year})', \n",
    "                      showlegend=False, \n",
    "                      xaxis_title='', \n",
    "                      yaxis_title='Total Migration (in Millions)',\n",
    "                      height=500, width=1000)\n",
    "    \n",
    "    fig.show()\n",
    "\n",
    "# Dropdown widget for selecting the country\n",
    "country_widget = widgets.Dropdown(\n",
    "    options=df['Country Origin Name'].unique(),\n",
    "    value=df['Country Origin Name'].unique()[0],\n",
    ")\n",
    "\n",
    "# Dropdown widget for selecting top K countries\n",
    "top_k_widget = widgets.Dropdown(\n",
    "    options=[str(i) for i in range(1, 11)],  # Options from 1 to 10 as strings\n",
    "    value='5',\n",
    "    description='Top K',\n",
    ")\n",
    "\n",
    "# Dropdown widget for selecting gender\n",
    "gender_widget = widgets.Dropdown(\n",
    "    options=['Total', 'Male', 'Female'],\n",
    "    value='Total',\n",
    "    description='Gender',\n",
    ")\n",
    "\n",
    "# Dropdown widget for selecting year\n",
    "year_widget = widgets.Dropdown(\n",
    "    options=['1960', '1970', '1980', '1990', '2000', 'Total Migration'],\n",
    "    value='Total Migration',\n",
    "    description='Year',\n",
    ")\n",
    "\n",
    "# Display the widgets and link them to the plot function\n",
    "widgets.interact(plot_top_k_migration, selected_country=country_widget, top_k=top_k_widget, gender=gender_widget, year=year_widget)\n"
   ]
  },
  {
   "cell_type": "code",
   "execution_count": 19,
   "id": "f63a842f",
   "metadata": {},
   "outputs": [
    {
     "data": {
      "application/vnd.jupyter.widget-view+json": {
       "model_id": "de2e8f97c121476fabf442c2a49aaa8b",
       "version_major": 2,
       "version_minor": 0
      },
      "text/plain": [
       "interactive(children=(Dropdown(description='Country', options=('Afghanistan', 'Albania', 'Algeria', 'American …"
      ]
     },
     "metadata": {},
     "output_type": "display_data"
    },
    {
     "data": {
      "text/plain": [
       "<function __main__.plot_top_k_migration(selected_country, top_k, gender, year)>"
      ]
     },
     "execution_count": 19,
     "metadata": {},
     "output_type": "execute_result"
    }
   ],
   "source": [
    "import plotly.graph_objects as go\n",
    "from plotly.subplots import make_subplots\n",
    "import pandas as pd\n",
    "import ipywidgets as widgets\n",
    "from IPython.display import display\n",
    "\n",
    "# Function to get top K source and destination countries for a selected country, gender, and year\n",
    "def prepare_top_k_migration(selected_country, top_k, gender, year):\n",
    "    # Filter data by gender\n",
    "    filtered_df = df[df['Migration by Gender Name'] == gender]\n",
    "    \n",
    "    # Filter by the selected year or total migration\n",
    "    if year != 'Total Migration':\n",
    "        filtered_df = filtered_df[['Country Origin Name', 'Country Dest Name', year]].rename(columns={year: 'Total Migration'})\n",
    "    \n",
    "    # Top K source countries (countries that send people to the selected country)\n",
    "    top_k_sources = filtered_df[filtered_df['Country Dest Name'] == selected_country].groupby('Country Origin Name')['Total Migration'].sum().nlargest(top_k).reset_index()\n",
    "    \n",
    "    # Top K destination countries (countries where people migrate to from the selected country)\n",
    "    top_k_destinations = filtered_df[filtered_df['Country Origin Name'] == selected_country].groupby('Country Dest Name')['Total Migration'].sum().nlargest(top_k).reset_index()\n",
    "    \n",
    "    return top_k_sources, top_k_destinations\n",
    "\n",
    "# Function to create and display side-by-side bar plots for top K source and destination countries\n",
    "def plot_top_k_migration(selected_country, top_k, gender, year):\n",
    "    # Prepare the data\n",
    "    top_k_sources, top_k_destinations = prepare_top_k_migration(selected_country, int(top_k), gender, year)\n",
    "    \n",
    "    # Create the figure with two subplots\n",
    "    fig = make_subplots(rows=1, cols=2, subplot_titles=[f'Top {top_k} Source Countries to {selected_country}', \n",
    "                                                        f'Top {top_k} Destination Countries from {selected_country}'])\n",
    "    \n",
    "    # Bar plot for top K source countries\n",
    "    fig.add_trace(go.Bar(x=top_k_sources['Country Origin Name'], y=top_k_sources['Total Migration'] / 1_000_000, \n",
    "                         name='Source Countries', marker_color='blue'), row=1, col=1)\n",
    "    \n",
    "    # Bar plot for top K destination countries\n",
    "    fig.add_trace(go.Bar(x=top_k_destinations['Country Dest Name'], y=top_k_destinations['Total Migration'] / 1_000_000, \n",
    "                         name='Destination Countries', marker_color='green'), row=1, col=2)\n",
    "    \n",
    "    # Update layout for the figure\n",
    "    fig.update_layout(title_text=f'Top {top_k} Source and Destination Countries for {selected_country} ({gender}, {year})', \n",
    "                      showlegend=False, \n",
    "                      xaxis_title='', \n",
    "                      yaxis_title='Total Migration (in Millions)',\n",
    "                      height=500, width=1000)\n",
    "    \n",
    "    fig.show()\n",
    "\n",
    "# Dropdown widget for selecting the country\n",
    "country_widget = widgets.Dropdown(\n",
    "    options=df['Country Origin Name'].unique(),\n",
    "    value=df['Country Origin Name'].unique()[0],\n",
    "    description='Country',\n",
    ")\n",
    "\n",
    "# Dropdown widget for selecting top K countries\n",
    "top_k_widget = widgets.Dropdown(\n",
    "    options=[str(i) for i in range(1, 11)],  # Options from 1 to 10 as strings\n",
    "    value='5',\n",
    "    description='Top K',\n",
    ")\n",
    "\n",
    "# Dropdown widget for selecting gender\n",
    "gender_widget = widgets.Dropdown(\n",
    "    options=['Total', 'Male', 'Female'],\n",
    "    value='Total',\n",
    "    description='Gender',\n",
    ")\n",
    "\n",
    "# Dropdown widget for selecting year\n",
    "year_widget = widgets.Dropdown(\n",
    "    options=['1960', '1970', '1980', '1990', '2000', 'Total Migration'],\n",
    "    value='Total Migration',\n",
    "    description='Year',\n",
    ")\n",
    "\n",
    "# Display the widgets and link them to the plot function\n",
    "widgets.interact(plot_top_k_migration, selected_country=country_widget, top_k=top_k_widget, gender=gender_widget, year=year_widget)\n"
   ]
  },
  {
   "cell_type": "code",
   "execution_count": 66,
   "id": "70114421",
   "metadata": {},
   "outputs": [
    {
     "data": {
      "image/png": "[encoded data removed]",
      "text/plain": [
       "<Figure size 1000x600 with 1 Axes>"
      ]
     },
     "metadata": {},
     "output_type": "display_data"
    }
   ],
   "source": [
    "country_1 = 'Afghanistan'\n",
    "country_2 = 'Pakistan'\n",
    "\n",
    "filtered_df = df[(df['Country Origin Name'] == country_1) & \n",
    "                     (df['Country Dest Name'] == country_2) & \n",
    "                     (df['Migration by Gender Name'] == 'Total')]\n",
    "\n",
    "# Extract relevant columns (years and migration flow)\n",
    "years = ['1960', '1970', '1980', '1990', '2000']\n",
    "migration_flows = filtered_df[years].values.flatten()\n",
    "\n",
    "# Create scatterplot\n",
    "plt.figure(figsize=(10, 6))\n",
    "plt.scatter(years, migration_flows, color='b', s=100, edgecolor='k')\n",
    "\n",
    "# Add labels and title\n",
    "plt.title(f'Migration Flows from {country_1} to {country_2} Over Time', fontsize=14)\n",
    "plt.xlabel('Year', fontsize=12)\n",
    "plt.ylabel('Migration Flow', fontsize=12)\n",
    "\n",
    "# Aesthetic improvements\n",
    "plt.grid(True, linestyle='--', alpha=0.7)\n",
    "plt.xticks(fontsize=10)\n",
    "plt.yticks(fontsize=10)\n",
    "plt.tight_layout()\n",
    "\n",
    "# Show plot\n",
    "plt.show()"
   ]
  },
  {
   "cell_type": "code",
   "execution_count": 70,
   "id": "4643b407",
   "metadata": {},
   "outputs": [
    {
     "data": {
      "image/png": "[encoded data removed]",
      "text/plain": [
       "<Figure size 1200x800 with 1 Axes>"
      ]
     },
     "metadata": {},
     "output_type": "display_data"
    }
   ],
   "source": [
    "import seaborn as sns\n",
    "import matplotlib.pyplot as plt\n",
    "\n",
    "# Exclude the 'Total' gender category\n",
    "filtered_data = df[(df['Country Origin Name'].isin(top_5_countries)) & (df['Migration by Gender Name'] != 'Total')]\n",
    "\n",
    "# Create the violin plot\n",
    "plt.figure(figsize=(12, 8))\n",
    "sns.violinplot(x='Country Origin Name', y='Total Migration', hue='Migration by Gender Name', data=filtered_data, split=True)\n",
    "\n",
    "# Adding titles and labels\n",
    "plt.title('Distribution of Migration Flows by Gender (Male/Female) for Top 5 Countries', fontsize=16)\n",
    "plt.xlabel('Country', fontsize=12)\n",
    "plt.ylabel('Migration Flow', fontsize=12)\n",
    "\n",
    "# Show plot\n",
    "plt.show()\n"
   ]
  },
  {
   "cell_type": "code",
   "execution_count": 74,
   "id": "f2f9872e",
   "metadata": {},
   "outputs": [
    {
     "data": {
      "application/vnd.jupyter.widget-view+json": {
       "model_id": "77ea942e3796444c8b686c7a7b9e11ac",
       "version_major": 2,
       "version_minor": 0
      },
      "text/plain": [
       "interactive(children=(IntSlider(value=5, description='Top N Corridors', max=20, min=1), Output()), _dom_classe…"
      ]
     },
     "metadata": {},
     "output_type": "display_data"
    },
    {
     "data": {
      "application/vnd.jupyter.widget-view+json": {
       "model_id": "2e186c62aa8e411292f8de5901c4aad5",
       "version_major": 2,
       "version_minor": 0
      },
      "text/plain": [
       "IntSlider(value=5, description='Top N Corridors', max=20, min=1)"
      ]
     },
     "metadata": {},
     "output_type": "display_data"
    }
   ],
   "source": [
    "for year in ['1960', '1970', '1980', '1990', '2000']:\n",
    "    df[year] = pd.to_numeric(df[year], errors='coerce').fillna(0).astype(int)\n",
    "\n",
    "# Correctly calculate 'Total Migration' column\n",
    "df['Total Migration'] = df[['1960', '1970', '1980', '1990', '2000']].sum(axis=1)\n",
    "\n",
    "# Calculate total migration for each corridor\n",
    "total_migration = df.groupby(['Country Origin Name', 'Country Dest Name'])['Total Migration'].sum().reset_index()\n",
    "\n",
    "# Function to create and save the map\n",
    "def create_and_save_map(top_n):\n",
    "    top_corridors = total_migration.sort_values(by='Total Migration', ascending=False).head(top_n)\n",
    "    fig = go.Figure()\n",
    "\n",
    "    for _, row in top_corridors.iterrows():\n",
    "        origin = row['Country Origin Name']\n",
    "        dest = row['Country Dest Name']\n",
    "        if origin in country_coords and dest in country_coords:\n",
    "            origin_coords = country_coords[origin]\n",
    "            dest_coords = country_coords[dest]\n",
    "\n",
    "            fig.add_trace(go.Scattergeo(\n",
    "                locationmode='country names',\n",
    "                lon=[origin_coords[1], dest_coords[1]],\n",
    "                lat=[origin_coords[0], dest_coords[0]],\n",
    "                mode='lines+markers+text',\n",
    "                text=[origin, dest],\n",
    "                hoverinfo='text',\n",
    "                line=dict(width=2, color='blue'),\n",
    "                marker=dict(size=5),\n",
    "                name=f'{origin} to {dest}'\n",
    "            ))\n",
    "\n",
    "    fig.update_layout(\n",
    "        title=f'Top {top_n} Migration Corridors',\n",
    "        showlegend=True,\n",
    "        geo=dict(\n",
    "            showframe=False,\n",
    "            showcoastlines=True,\n",
    "            projection_type='equirectangular'\n",
    "        ),\n",
    "    )\n",
    "\n",
    "    # Save as HTML file\n",
    "    file_name = f\"top_{top_n}_migration_corridors.html\"\n",
    "    fig.write_html(file_name)\n",
    "    print(f\"Map saved as {file_name}\")\n",
    "\n",
    "# Create a slider widget\n",
    "top_n_slider = widgets.IntSlider(value=5, min=1, max=20, step=1, description='Top N Corridors')\n",
    "\n",
    "# Display the slider and update the map when the value changes\n",
    "def update_map(top_n):\n",
    "    create_and_save_map(top_n)\n",
    "\n",
    "widgets.interact(update_map, top_n=top_n_slider)\n",
    "display(top_n_slider)"
   ]
  },
  {
   "cell_type": "code",
   "execution_count": 20,
   "id": "5ad85dc7",
   "metadata": {},
   "outputs": [
    {
     "data": {
      "application/vnd.plotly.v1+json": {
       "config": {
        "plotlyServerURL": "https://plot.ly"
       },
       "data": [
        {
         "coloraxis": "coloraxis",
         "geo": "geo",
         "hovertemplate": "<b>%{hovertext}</b><br><br>Country Origin Name=%{location}<br>Total Migration=%{z}<extra></extra>",
         "hovertext": [
          "Pakistan",
          "Russian Federation",
          "India",
          "Ukraine",
          "Mexico"
         ],
         "locationmode": "country names",
         "locations": [
          "Pakistan",
          "Russian Federation",
          "India",
          "Ukraine",
          "Mexico"
         ],
         "name": "",
         "type": "choropleth",
         "z": [
          46130957,
          42088836,
          41389963,
          37908205,
          35971713
         ]
        }
       ],
       "layout": {
        "coloraxis": {
         "colorbar": {
          "title": {
           "text": "Total Migration"
          }
         },
         "colorscale": [
          [
           0,
           "#0d0887"
          ],
          [
           0.1111111111111111,
           "#46039f"
          ],
          [
           0.2222222222222222,
           "#7201a8"
          ],
          [
           0.3333333333333333,
           "#9c179e"
          ],
          [
           0.4444444444444444,
           "#bd3786"
          ],
          [
           0.5555555555555556,
           "#d8576b"
          ],
          [
           0.6666666666666666,
           "#ed7953"
          ],
          [
           0.7777777777777778,
           "#fb9f3a"
          ],
          [
           0.8888888888888888,
           "#fdca26"
          ],
          [
           1,
           "#f0f921"
          ]
         ]
        },
        "geo": {
         "center": {},
         "domain": {
          "x": [
           0,
           1
          ],
          "y": [
           0,
           1
          ]
         },
         "projection": {
          "type": "equirectangular"
         },
         "showcoastlines": true,
         "showframe": false
        },
        "legend": {
         "tracegroupgap": 0
        },
        "template": {
         "data": {
          "bar": [
           {
            "error_x": {
             "color": "#2a3f5f"
            },
            "error_y": {
             "color": "#2a3f5f"
            },
            "marker": {
             "line": {
              "color": "#E5ECF6",
              "width": 0.5
             },
             "pattern": {
              "fillmode": "overlay",
              "size": 10,
              "solidity": 0.2
             }
            },
            "type": "bar"
           }
          ],
          "barpolar": [
           {
            "marker": {
             "line": {
              "color": "#E5ECF6",
              "width": 0.5
             },
             "pattern": {
              "fillmode": "overlay",
              "size": 10,
              "solidity": 0.2
             }
            },
            "type": "barpolar"
           }
          ],
          "carpet": [
           {
            "aaxis": {
             "endlinecolor": "#2a3f5f",
             "gridcolor": "white",
             "linecolor": "white",
             "minorgridcolor": "white",
             "startlinecolor": "#2a3f5f"
            },
            "baxis": {
             "endlinecolor": "#2a3f5f",
             "gridcolor": "white",
             "linecolor": "white",
             "minorgridcolor": "white",
             "startlinecolor": "#2a3f5f"
            },
            "type": "carpet"
           }
          ],
          "choropleth": [
           {
            "colorbar": {
             "outlinewidth": 0,
             "ticks": ""
            },
            "type": "choropleth"
           }
          ],
          "contour": [
           {
            "colorbar": {
             "outlinewidth": 0,
             "ticks": ""
            },
            "colorscale": [
             [
              0,
              "#0d0887"
             ],
             [
              0.1111111111111111,
              "#46039f"
             ],
             [
              0.2222222222222222,
              "#7201a8"
             ],
             [
              0.3333333333333333,
              "#9c179e"
             ],
             [
              0.4444444444444444,
              "#bd3786"
             ],
             [
              0.5555555555555556,
              "#d8576b"
             ],
             [
              0.6666666666666666,
              "#ed7953"
             ],
             [
              0.7777777777777778,
              "#fb9f3a"
             ],
             [
              0.8888888888888888,
              "#fdca26"
             ],
             [
              1,
              "#f0f921"
             ]
            ],
            "type": "contour"
           }
          ],
          "contourcarpet": [
           {
            "colorbar": {
             "outlinewidth": 0,
             "ticks": ""
            },
            "type": "contourcarpet"
           }
          ],
          "heatmap": [
           {
            "colorbar": {
             "outlinewidth": 0,
             "ticks": ""
            },
            "colorscale": [
             [
              0,
              "#0d0887"
             ],
             [
              0.1111111111111111,
              "#46039f"
             ],
             [
              0.2222222222222222,
              "#7201a8"
             ],
             [
              0.3333333333333333,
              "#9c179e"
             ],
             [
              0.4444444444444444,
              "#bd3786"
             ],
             [
              0.5555555555555556,
              "#d8576b"
             ],
             [
              0.6666666666666666,
              "#ed7953"
             ],
             [
              0.7777777777777778,
              "#fb9f3a"
             ],
             [
              0.8888888888888888,
              "#fdca26"
             ],
             [
              1,
              "#f0f921"
             ]
            ],
            "type": "heatmap"
           }
          ],
          "heatmapgl": [
           {
            "colorbar": {
             "outlinewidth": 0,
             "ticks": ""
            },
            "colorscale": [
             [
              0,
              "#0d0887"
             ],
             [
              0.1111111111111111,
              "#46039f"
             ],
             [
              0.2222222222222222,
              "#7201a8"
             ],
             [
              0.3333333333333333,
              "#9c179e"
             ],
             [
              0.4444444444444444,
              "#bd3786"
             ],
             [
              0.5555555555555556,
              "#d8576b"
             ],
             [
              0.6666666666666666,
              "#ed7953"
             ],
             [
              0.7777777777777778,
              "#fb9f3a"
             ],
             [
              0.8888888888888888,
              "#fdca26"
             ],
             [
              1,
              "#f0f921"
             ]
            ],
            "type": "heatmapgl"
           }
          ],
          "histogram": [
           {
            "marker": {
             "pattern": {
              "fillmode": "overlay",
              "size": 10,
              "solidity": 0.2
             }
            },
            "type": "histogram"
           }
          ],
          "histogram2d": [
           {
            "colorbar": {
             "outlinewidth": 0,
             "ticks": ""
            },
            "colorscale": [
             [
              0,
              "#0d0887"
             ],
             [
              0.1111111111111111,
              "#46039f"
             ],
             [
              0.2222222222222222,
              "#7201a8"
             ],
             [
              0.3333333333333333,
              "#9c179e"
             ],
             [
              0.4444444444444444,
              "#bd3786"
             ],
             [
              0.5555555555555556,
              "#d8576b"
             ],
             [
              0.6666666666666666,
              "#ed7953"
             ],
             [
              0.7777777777777778,
              "#fb9f3a"
             ],
             [
              0.8888888888888888,
              "#fdca26"
             ],
             [
              1,
              "#f0f921"
             ]
            ],
            "type": "histogram2d"
           }
          ],
          "histogram2dcontour": [
           {
            "colorbar": {
             "outlinewidth": 0,
             "ticks": ""
            },
            "colorscale": [
             [
              0,
              "#0d0887"
             ],
             [
              0.1111111111111111,
              "#46039f"
             ],
             [
              0.2222222222222222,
              "#7201a8"
             ],
             [
              0.3333333333333333,
              "#9c179e"
             ],
             [
              0.4444444444444444,
              "#bd3786"
             ],
             [
              0.5555555555555556,
              "#d8576b"
             ],
             [
              0.6666666666666666,
              "#ed7953"
             ],
             [
              0.7777777777777778,
              "#fb9f3a"
             ],
             [
              0.8888888888888888,
              "#fdca26"
             ],
             [
              1,
              "#f0f921"
             ]
            ],
            "type": "histogram2dcontour"
           }
          ],
          "mesh3d": [
           {
            "colorbar": {
             "outlinewidth": 0,
             "ticks": ""
            },
            "type": "mesh3d"
           }
          ],
          "parcoords": [
           {
            "line": {
             "colorbar": {
              "outlinewidth": 0,
              "ticks": ""
             }
            },
            "type": "parcoords"
           }
          ],
          "pie": [
           {
            "automargin": true,
            "type": "pie"
           }
          ],
          "scatter": [
           {
            "fillpattern": {
             "fillmode": "overlay",
             "size": 10,
             "solidity": 0.2
            },
            "type": "scatter"
           }
          ],
          "scatter3d": [
           {
            "line": {
             "colorbar": {
              "outlinewidth": 0,
              "ticks": ""
             }
            },
            "marker": {
             "colorbar": {
              "outlinewidth": 0,
              "ticks": ""
             }
            },
            "type": "scatter3d"
           }
          ],
          "scattercarpet": [
           {
            "marker": {
             "colorbar": {
              "outlinewidth": 0,
              "ticks": ""
             }
            },
            "type": "scattercarpet"
           }
          ],
          "scattergeo": [
           {
            "marker": {
             "colorbar": {
              "outlinewidth": 0,
              "ticks": ""
             }
            },
            "type": "scattergeo"
           }
          ],
          "scattergl": [
           {
            "marker": {
             "colorbar": {
              "outlinewidth": 0,
              "ticks": ""
             }
            },
            "type": "scattergl"
           }
          ],
          "scattermapbox": [
           {
            "marker": {
             "colorbar": {
              "outlinewidth": 0,
              "ticks": ""
             }
            },
            "type": "scattermapbox"
           }
          ],
          "scatterpolar": [
           {
            "marker": {
             "colorbar": {
              "outlinewidth": 0,
              "ticks": ""
             }
            },
            "type": "scatterpolar"
           }
          ],
          "scatterpolargl": [
           {
            "marker": {
             "colorbar": {
              "outlinewidth": 0,
              "ticks": ""
             }
            },
            "type": "scatterpolargl"
           }
          ],
          "scatterternary": [
           {
            "marker": {
             "colorbar": {
              "outlinewidth": 0,
              "ticks": ""
             }
            },
            "type": "scatterternary"
           }
          ],
          "surface": [
           {
            "colorbar": {
             "outlinewidth": 0,
             "ticks": ""
            },
            "colorscale": [
             [
              0,
              "#0d0887"
             ],
             [
              0.1111111111111111,
              "#46039f"
             ],
             [
              0.2222222222222222,
              "#7201a8"
             ],
             [
              0.3333333333333333,
              "#9c179e"
             ],
             [
              0.4444444444444444,
              "#bd3786"
             ],
             [
              0.5555555555555556,
              "#d8576b"
             ],
             [
              0.6666666666666666,
              "#ed7953"
             ],
             [
              0.7777777777777778,
              "#fb9f3a"
             ],
             [
              0.8888888888888888,
              "#fdca26"
             ],
             [
              1,
              "#f0f921"
             ]
            ],
            "type": "surface"
           }
          ],
          "table": [
           {
            "cells": {
             "fill": {
              "color": "#EBF0F8"
             },
             "line": {
              "color": "white"
             }
            },
            "header": {
             "fill": {
              "color": "#C8D4E3"
             },
             "line": {
              "color": "white"
             }
            },
            "type": "table"
           }
          ]
         },
         "layout": {
          "annotationdefaults": {
           "arrowcolor": "#2a3f5f",
           "arrowhead": 0,
           "arrowwidth": 1
          },
          "autotypenumbers": "strict",
          "coloraxis": {
           "colorbar": {
            "outlinewidth": 0,
            "ticks": ""
           }
          },
          "colorscale": {
           "diverging": [
            [
             0,
             "#8e0152"
            ],
            [
             0.1,
             "#c51b7d"
            ],
            [
             0.2,
             "#de77ae"
            ],
            [
             0.3,
             "#f1b6da"
            ],
            [
             0.4,
             "#fde0ef"
            ],
            [
             0.5,
             "#f7f7f7"
            ],
            [
             0.6,
             "#e6f5d0"
            ],
            [
             0.7,
             "#b8e186"
            ],
            [
             0.8,
             "#7fbc41"
            ],
            [
             0.9,
             "#4d9221"
            ],
            [
             1,
             "#276419"
            ]
           ],
           "sequential": [
            [
             0,
             "#0d0887"
            ],
            [
             0.1111111111111111,
             "#46039f"
            ],
            [
             0.2222222222222222,
             "#7201a8"
            ],
            [
             0.3333333333333333,
             "#9c179e"
            ],
            [
             0.4444444444444444,
             "#bd3786"
            ],
            [
             0.5555555555555556,
             "#d8576b"
            ],
            [
             0.6666666666666666,
             "#ed7953"
            ],
            [
             0.7777777777777778,
             "#fb9f3a"
            ],
            [
             0.8888888888888888,
             "#fdca26"
            ],
            [
             1,
             "#f0f921"
            ]
           ],
           "sequentialminus": [
            [
             0,
             "#0d0887"
            ],
            [
             0.1111111111111111,
             "#46039f"
            ],
            [
             0.2222222222222222,
             "#7201a8"
            ],
            [
             0.3333333333333333,
             "#9c179e"
            ],
            [
             0.4444444444444444,
             "#bd3786"
            ],
            [
             0.5555555555555556,
             "#d8576b"
            ],
            [
             0.6666666666666666,
             "#ed7953"
            ],
            [
             0.7777777777777778,
             "#fb9f3a"
            ],
            [
             0.8888888888888888,
             "#fdca26"
            ],
            [
             1,
             "#f0f921"
            ]
           ]
          },
          "colorway": [
           "#636efa",
           "#EF553B",
           "#00cc96",
           "#ab63fa",
           "#FFA15A",
           "#19d3f3",
           "#FF6692",
           "#B6E880",
           "#FF97FF",
           "#FECB52"
          ],
          "font": {
           "color": "#2a3f5f"
          },
          "geo": {
           "bgcolor": "white",
           "lakecolor": "white",
           "landcolor": "#E5ECF6",
           "showlakes": true,
           "showland": true,
           "subunitcolor": "white"
          },
          "hoverlabel": {
           "align": "left"
          },
          "hovermode": "closest",
          "mapbox": {
           "style": "light"
          },
          "paper_bgcolor": "white",
          "plot_bgcolor": "#E5ECF6",
          "polar": {
           "angularaxis": {
            "gridcolor": "white",
            "linecolor": "white",
            "ticks": ""
           },
           "bgcolor": "#E5ECF6",
           "radialaxis": {
            "gridcolor": "white",
            "linecolor": "white",
            "ticks": ""
           }
          },
          "scene": {
           "xaxis": {
            "backgroundcolor": "#E5ECF6",
            "gridcolor": "white",
            "gridwidth": 2,
            "linecolor": "white",
            "showbackground": true,
            "ticks": "",
            "zerolinecolor": "white"
           },
           "yaxis": {
            "backgroundcolor": "#E5ECF6",
            "gridcolor": "white",
            "gridwidth": 2,
            "linecolor": "white",
            "showbackground": true,
            "ticks": "",
            "zerolinecolor": "white"
           },
           "zaxis": {
            "backgroundcolor": "#E5ECF6",
            "gridcolor": "white",
            "gridwidth": 2,
            "linecolor": "white",
            "showbackground": true,
            "ticks": "",
            "zerolinecolor": "white"
           }
          },
          "shapedefaults": {
           "line": {
            "color": "#2a3f5f"
           }
          },
          "ternary": {
           "aaxis": {
            "gridcolor": "white",
            "linecolor": "white",
            "ticks": ""
           },
           "baxis": {
            "gridcolor": "white",
            "linecolor": "white",
            "ticks": ""
           },
           "bgcolor": "#E5ECF6",
           "caxis": {
            "gridcolor": "white",
            "linecolor": "white",
            "ticks": ""
           }
          },
          "title": {
           "x": 0.05
          },
          "xaxis": {
           "automargin": true,
           "gridcolor": "white",
           "linecolor": "white",
           "ticks": "",
           "title": {
            "standoff": 15
           },
           "zerolinecolor": "white",
           "zerolinewidth": 2
          },
          "yaxis": {
           "automargin": true,
           "gridcolor": "white",
           "linecolor": "white",
           "ticks": "",
           "title": {
            "standoff": 15
           },
           "zerolinecolor": "white",
           "zerolinewidth": 2
          }
         }
        },
        "title": {
         "text": "Top 5 Bilateral Migration Corridors (Origins)"
        }
       }
      },
      "text/html": [
       "<div>                            <div id=\"615d4085-99da-4ecd-9a1c-7f84fa78f366\" class=\"plotly-graph-div\" style=\"height:525px; width:100%;\"></div>            <script type=\"text/javascript\">                require([\"plotly\"], function(Plotly) {                    window.PLOTLYENV=window.PLOTLYENV || {};                                    if (document.getElementById(\"615d4085-99da-4ecd-9a1c-7f84fa78f366\")) {                    Plotly.newPlot(                        \"615d4085-99da-4ecd-9a1c-7f84fa78f366\",                        [{\"coloraxis\":\"coloraxis\",\"geo\":\"geo\",\"hovertemplate\":\"\\u003cb\\u003e%{hovertext}\\u003c\\u002fb\\u003e\\u003cbr\\u003e\\u003cbr\\u003eCountry Origin Name=%{location}\\u003cbr\\u003eTotal Migration=%{z}\\u003cextra\\u003e\\u003c\\u002fextra\\u003e\",\"hovertext\":[\"Pakistan\",\"Russian Federation\",\"India\",\"Ukraine\",\"Mexico\"],\"locationmode\":\"country names\",\"locations\":[\"Pakistan\",\"Russian Federation\",\"India\",\"Ukraine\",\"Mexico\"],\"name\":\"\",\"z\":[46130957,42088836,41389963,37908205,35971713],\"type\":\"choropleth\"}],                        {\"template\":{\"data\":{\"histogram2dcontour\":[{\"type\":\"histogram2dcontour\",\"colorbar\":{\"outlinewidth\":0,\"ticks\":\"\"},\"colorscale\":[[0.0,\"#0d0887\"],[0.1111111111111111,\"#46039f\"],[0.2222222222222222,\"#7201a8\"],[0.3333333333333333,\"#9c179e\"],[0.4444444444444444,\"#bd3786\"],[0.5555555555555556,\"#d8576b\"],[0.6666666666666666,\"#ed7953\"],[0.7777777777777778,\"#fb9f3a\"],[0.8888888888888888,\"#fdca26\"],[1.0,\"#f0f921\"]]}],\"choropleth\":[{\"type\":\"choropleth\",\"colorbar\":{\"outlinewidth\":0,\"ticks\":\"\"}}],\"histogram2d\":[{\"type\":\"histogram2d\",\"colorbar\":{\"outlinewidth\":0,\"ticks\":\"\"},\"colorscale\":[[0.0,\"#0d0887\"],[0.1111111111111111,\"#46039f\"],[0.2222222222222222,\"#7201a8\"],[0.3333333333333333,\"#9c179e\"],[0.4444444444444444,\"#bd3786\"],[0.5555555555555556,\"#d8576b\"],[0.6666666666666666,\"#ed7953\"],[0.7777777777777778,\"#fb9f3a\"],[0.8888888888888888,\"#fdca26\"],[1.0,\"#f0f921\"]]}],\"heatmap\":[{\"type\":\"heatmap\",\"colorbar\":{\"outlinewidth\":0,\"ticks\":\"\"},\"colorscale\":[[0.0,\"#0d0887\"],[0.1111111111111111,\"#46039f\"],[0.2222222222222222,\"#7201a8\"],[0.3333333333333333,\"#9c179e\"],[0.4444444444444444,\"#bd3786\"],[0.5555555555555556,\"#d8576b\"],[0.6666666666666666,\"#ed7953\"],[0.7777777777777778,\"#fb9f3a\"],[0.8888888888888888,\"#fdca26\"],[1.0,\"#f0f921\"]]}],\"heatmapgl\":[{\"type\":\"heatmapgl\",\"colorbar\":{\"outlinewidth\":0,\"ticks\":\"\"},\"colorscale\":[[0.0,\"#0d0887\"],[0.1111111111111111,\"#46039f\"],[0.2222222222222222,\"#7201a8\"],[0.3333333333333333,\"#9c179e\"],[0.4444444444444444,\"#bd3786\"],[0.5555555555555556,\"#d8576b\"],[0.6666666666666666,\"#ed7953\"],[0.7777777777777778,\"#fb9f3a\"],[0.8888888888888888,\"#fdca26\"],[1.0,\"#f0f921\"]]}],\"contourcarpet\":[{\"type\":\"contourcarpet\",\"colorbar\":{\"outlinewidth\":0,\"ticks\":\"\"}}],\"contour\":[{\"type\":\"contour\",\"colorbar\":{\"outlinewidth\":0,\"ticks\":\"\"},\"colorscale\":[[0.0,\"#0d0887\"],[0.1111111111111111,\"#46039f\"],[0.2222222222222222,\"#7201a8\"],[0.3333333333333333,\"#9c179e\"],[0.4444444444444444,\"#bd3786\"],[0.5555555555555556,\"#d8576b\"],[0.6666666666666666,\"#ed7953\"],[0.7777777777777778,\"#fb9f3a\"],[0.8888888888888888,\"#fdca26\"],[1.0,\"#f0f921\"]]}],\"surface\":[{\"type\":\"surface\",\"colorbar\":{\"outlinewidth\":0,\"ticks\":\"\"},\"colorscale\":[[0.0,\"#0d0887\"],[0.1111111111111111,\"#46039f\"],[0.2222222222222222,\"#7201a8\"],[0.3333333333333333,\"#9c179e\"],[0.4444444444444444,\"#bd3786\"],[0.5555555555555556,\"#d8576b\"],[0.6666666666666666,\"#ed7953\"],[0.7777777777777778,\"#fb9f3a\"],[0.8888888888888888,\"#fdca26\"],[1.0,\"#f0f921\"]]}],\"mesh3d\":[{\"type\":\"mesh3d\",\"colorbar\":{\"outlinewidth\":0,\"ticks\":\"\"}}],\"scatter\":[{\"fillpattern\":{\"fillmode\":\"overlay\",\"size\":10,\"solidity\":0.2},\"type\":\"scatter\"}],\"parcoords\":[{\"type\":\"parcoords\",\"line\":{\"colorbar\":{\"outlinewidth\":0,\"ticks\":\"\"}}}],\"scatterpolargl\":[{\"type\":\"scatterpolargl\",\"marker\":{\"colorbar\":{\"outlinewidth\":0,\"ticks\":\"\"}}}],\"bar\":[{\"error_x\":{\"color\":\"#2a3f5f\"},\"error_y\":{\"color\":\"#2a3f5f\"},\"marker\":{\"line\":{\"color\":\"#E5ECF6\",\"width\":0.5},\"pattern\":{\"fillmode\":\"overlay\",\"size\":10,\"solidity\":0.2}},\"type\":\"bar\"}],\"scattergeo\":[{\"type\":\"scattergeo\",\"marker\":{\"colorbar\":{\"outlinewidth\":0,\"ticks\":\"\"}}}],\"scatterpolar\":[{\"type\":\"scatterpolar\",\"marker\":{\"colorbar\":{\"outlinewidth\":0,\"ticks\":\"\"}}}],\"histogram\":[{\"marker\":{\"pattern\":{\"fillmode\":\"overlay\",\"size\":10,\"solidity\":0.2}},\"type\":\"histogram\"}],\"scattergl\":[{\"type\":\"scattergl\",\"marker\":{\"colorbar\":{\"outlinewidth\":0,\"ticks\":\"\"}}}],\"scatter3d\":[{\"type\":\"scatter3d\",\"line\":{\"colorbar\":{\"outlinewidth\":0,\"ticks\":\"\"}},\"marker\":{\"colorbar\":{\"outlinewidth\":0,\"ticks\":\"\"}}}],\"scattermapbox\":[{\"type\":\"scattermapbox\",\"marker\":{\"colorbar\":{\"outlinewidth\":0,\"ticks\":\"\"}}}],\"scatterternary\":[{\"type\":\"scatterternary\",\"marker\":{\"colorbar\":{\"outlinewidth\":0,\"ticks\":\"\"}}}],\"scattercarpet\":[{\"type\":\"scattercarpet\",\"marker\":{\"colorbar\":{\"outlinewidth\":0,\"ticks\":\"\"}}}],\"carpet\":[{\"aaxis\":{\"endlinecolor\":\"#2a3f5f\",\"gridcolor\":\"white\",\"linecolor\":\"white\",\"minorgridcolor\":\"white\",\"startlinecolor\":\"#2a3f5f\"},\"baxis\":{\"endlinecolor\":\"#2a3f5f\",\"gridcolor\":\"white\",\"linecolor\":\"white\",\"minorgridcolor\":\"white\",\"startlinecolor\":\"#2a3f5f\"},\"type\":\"carpet\"}],\"table\":[{\"cells\":{\"fill\":{\"color\":\"#EBF0F8\"},\"line\":{\"color\":\"white\"}},\"header\":{\"fill\":{\"color\":\"#C8D4E3\"},\"line\":{\"color\":\"white\"}},\"type\":\"table\"}],\"barpolar\":[{\"marker\":{\"line\":{\"color\":\"#E5ECF6\",\"width\":0.5},\"pattern\":{\"fillmode\":\"overlay\",\"size\":10,\"solidity\":0.2}},\"type\":\"barpolar\"}],\"pie\":[{\"automargin\":true,\"type\":\"pie\"}]},\"layout\":{\"autotypenumbers\":\"strict\",\"colorway\":[\"#636efa\",\"#EF553B\",\"#00cc96\",\"#ab63fa\",\"#FFA15A\",\"#19d3f3\",\"#FF6692\",\"#B6E880\",\"#FF97FF\",\"#FECB52\"],\"font\":{\"color\":\"#2a3f5f\"},\"hovermode\":\"closest\",\"hoverlabel\":{\"align\":\"left\"},\"paper_bgcolor\":\"white\",\"plot_bgcolor\":\"#E5ECF6\",\"polar\":{\"bgcolor\":\"#E5ECF6\",\"angularaxis\":{\"gridcolor\":\"white\",\"linecolor\":\"white\",\"ticks\":\"\"},\"radialaxis\":{\"gridcolor\":\"white\",\"linecolor\":\"white\",\"ticks\":\"\"}},\"ternary\":{\"bgcolor\":\"#E5ECF6\",\"aaxis\":{\"gridcolor\":\"white\",\"linecolor\":\"white\",\"ticks\":\"\"},\"baxis\":{\"gridcolor\":\"white\",\"linecolor\":\"white\",\"ticks\":\"\"},\"caxis\":{\"gridcolor\":\"white\",\"linecolor\":\"white\",\"ticks\":\"\"}},\"coloraxis\":{\"colorbar\":{\"outlinewidth\":0,\"ticks\":\"\"}},\"colorscale\":{\"sequential\":[[0.0,\"#0d0887\"],[0.1111111111111111,\"#46039f\"],[0.2222222222222222,\"#7201a8\"],[0.3333333333333333,\"#9c179e\"],[0.4444444444444444,\"#bd3786\"],[0.5555555555555556,\"#d8576b\"],[0.6666666666666666,\"#ed7953\"],[0.7777777777777778,\"#fb9f3a\"],[0.8888888888888888,\"#fdca26\"],[1.0,\"#f0f921\"]],\"sequentialminus\":[[0.0,\"#0d0887\"],[0.1111111111111111,\"#46039f\"],[0.2222222222222222,\"#7201a8\"],[0.3333333333333333,\"#9c179e\"],[0.4444444444444444,\"#bd3786\"],[0.5555555555555556,\"#d8576b\"],[0.6666666666666666,\"#ed7953\"],[0.7777777777777778,\"#fb9f3a\"],[0.8888888888888888,\"#fdca26\"],[1.0,\"#f0f921\"]],\"diverging\":[[0,\"#8e0152\"],[0.1,\"#c51b7d\"],[0.2,\"#de77ae\"],[0.3,\"#f1b6da\"],[0.4,\"#fde0ef\"],[0.5,\"#f7f7f7\"],[0.6,\"#e6f5d0\"],[0.7,\"#b8e186\"],[0.8,\"#7fbc41\"],[0.9,\"#4d9221\"],[1,\"#276419\"]]},\"xaxis\":{\"gridcolor\":\"white\",\"linecolor\":\"white\",\"ticks\":\"\",\"title\":{\"standoff\":15},\"zerolinecolor\":\"white\",\"automargin\":true,\"zerolinewidth\":2},\"yaxis\":{\"gridcolor\":\"white\",\"linecolor\":\"white\",\"ticks\":\"\",\"title\":{\"standoff\":15},\"zerolinecolor\":\"white\",\"automargin\":true,\"zerolinewidth\":2},\"scene\":{\"xaxis\":{\"backgroundcolor\":\"#E5ECF6\",\"gridcolor\":\"white\",\"linecolor\":\"white\",\"showbackground\":true,\"ticks\":\"\",\"zerolinecolor\":\"white\",\"gridwidth\":2},\"yaxis\":{\"backgroundcolor\":\"#E5ECF6\",\"gridcolor\":\"white\",\"linecolor\":\"white\",\"showbackground\":true,\"ticks\":\"\",\"zerolinecolor\":\"white\",\"gridwidth\":2},\"zaxis\":{\"backgroundcolor\":\"#E5ECF6\",\"gridcolor\":\"white\",\"linecolor\":\"white\",\"showbackground\":true,\"ticks\":\"\",\"zerolinecolor\":\"white\",\"gridwidth\":2}},\"shapedefaults\":{\"line\":{\"color\":\"#2a3f5f\"}},\"annotationdefaults\":{\"arrowcolor\":\"#2a3f5f\",\"arrowhead\":0,\"arrowwidth\":1},\"geo\":{\"bgcolor\":\"white\",\"landcolor\":\"#E5ECF6\",\"subunitcolor\":\"white\",\"showland\":true,\"showlakes\":true,\"lakecolor\":\"white\"},\"title\":{\"x\":0.05},\"mapbox\":{\"style\":\"light\"}}},\"geo\":{\"domain\":{\"x\":[0.0,1.0],\"y\":[0.0,1.0]},\"center\":{},\"projection\":{\"type\":\"equirectangular\"},\"showframe\":false,\"showcoastlines\":true},\"coloraxis\":{\"colorbar\":{\"title\":{\"text\":\"Total Migration\"}},\"colorscale\":[[0.0,\"#0d0887\"],[0.1111111111111111,\"#46039f\"],[0.2222222222222222,\"#7201a8\"],[0.3333333333333333,\"#9c179e\"],[0.4444444444444444,\"#bd3786\"],[0.5555555555555556,\"#d8576b\"],[0.6666666666666666,\"#ed7953\"],[0.7777777777777778,\"#fb9f3a\"],[0.8888888888888888,\"#fdca26\"],[1.0,\"#f0f921\"]]},\"legend\":{\"tracegroupgap\":0},\"title\":{\"text\":\"Top 5 Bilateral Migration Corridors (Origins)\"}},                        {\"responsive\": true}                    ).then(function(){\n",
       "                            \n",
       "var gd = document.getElementById('615d4085-99da-4ecd-9a1c-7f84fa78f366');\n",
       "var x = new MutationObserver(function (mutations, observer) {{\n",
       "        var display = window.getComputedStyle(gd).display;\n",
       "        if (!display || display === 'none') {{\n",
       "            console.log([gd, 'removed!']);\n",
       "            Plotly.purge(gd);\n",
       "            observer.disconnect();\n",
       "        }}\n",
       "}});\n",
       "\n",
       "// Listen for the removal of the full notebook cells\n",
       "var notebookContainer = gd.closest('#notebook-container');\n",
       "if (notebookContainer) {{\n",
       "    x.observe(notebookContainer, {childList: true});\n",
       "}}\n",
       "\n",
       "// Listen for the clearing of the current output cell\n",
       "var outputEl = gd.closest('.output');\n",
       "if (outputEl) {{\n",
       "    x.observe(outputEl, {childList: true});\n",
       "}}\n",
       "\n",
       "                        })                };                });            </script>        </div>"
      ]
     },
     "metadata": {},
     "output_type": "display_data"
    }
   ],
   "source": [
    "import pandas as pd\n",
    "import plotly.express as px\n",
    "\n",
    "# Assuming df is your DataFrame\n",
    "# Calculate total migration for each corridor\n",
    "df['Total Migration'] = df[['1960', '1970', '1980', '1990', '2000']].sum(axis=1)\n",
    "total_migration = df.groupby(['Country Origin Name', 'Country Dest Name'])['Total Migration'].sum().reset_index()\n",
    "\n",
    "# Get the top 5 corridors by total migration\n",
    "top_corridors = total_migration.sort_values(by='Total Migration', ascending=False).head(5)\n",
    "\n",
    "# Create a dataframe for the origin countries in the top 5 corridors\n",
    "top_origins = top_corridors[['Country Origin Name', 'Total Migration']]\n",
    "\n",
    "# Create a choropleth map using Plotly Express\n",
    "fig = px.choropleth(top_origins,\n",
    "                    locations='Country Origin Name',\n",
    "                    locationmode='country names',\n",
    "                    color='Total Migration',\n",
    "                    hover_name='Country Origin Name',\n",
    "                    title='Top 5 Bilateral Migration Corridors (Origins)',\n",
    "                    color_continuous_scale=px.colors.sequential.Plasma)\n",
    "\n",
    "# Update layout for better display\n",
    "fig.update_layout(\n",
    "    geo=dict(showframe=False, showcoastlines=True, projection_type='equirectangular'),\n",
    ")\n",
    "\n",
    "# Show plot\n",
    "fig.show()\n"
   ]
  },
  {
   "cell_type": "code",
   "execution_count": 21,
   "id": "84169f5f",
   "metadata": {},
   "outputs": [
    {
     "ename": "GeocoderInsufficientPrivileges",
     "evalue": "Non-successful status code 403",
     "output_type": "error",
     "traceback": [
      "\u001b[0;31m---------------------------------------------------------------------------\u001b[0m",
      "\u001b[0;31mAdapterHTTPError\u001b[0m                          Traceback (most recent call last)",
      "File \u001b[0;32m~/anaconda3/envs/domino-generalized/lib/python3.10/site-packages/geopy/geocoders/base.py:368\u001b[0m, in \u001b[0;36mGeocoder._call_geocoder\u001b[0;34m(self, url, callback, timeout, is_json, headers)\u001b[0m\n\u001b[1;32m    367\u001b[0m \u001b[38;5;28;01mif\u001b[39;00m is_json:\n\u001b[0;32m--> 368\u001b[0m     result \u001b[38;5;241m=\u001b[39m \u001b[38;5;28;43mself\u001b[39;49m\u001b[38;5;241;43m.\u001b[39;49m\u001b[43madapter\u001b[49m\u001b[38;5;241;43m.\u001b[39;49m\u001b[43mget_json\u001b[49m\u001b[43m(\u001b[49m\u001b[43murl\u001b[49m\u001b[43m,\u001b[49m\u001b[43m \u001b[49m\u001b[43mtimeout\u001b[49m\u001b[38;5;241;43m=\u001b[39;49m\u001b[43mtimeout\u001b[49m\u001b[43m,\u001b[49m\u001b[43m \u001b[49m\u001b[43mheaders\u001b[49m\u001b[38;5;241;43m=\u001b[39;49m\u001b[43mreq_headers\u001b[49m\u001b[43m)\u001b[49m\n\u001b[1;32m    369\u001b[0m \u001b[38;5;28;01melse\u001b[39;00m:\n",
      "File \u001b[0;32m~/anaconda3/envs/domino-generalized/lib/python3.10/site-packages/geopy/adapters.py:472\u001b[0m, in \u001b[0;36mRequestsAdapter.get_json\u001b[0;34m(self, url, timeout, headers)\u001b[0m\n\u001b[1;32m    471\u001b[0m \u001b[38;5;28;01mdef\u001b[39;00m \u001b[38;5;21mget_json\u001b[39m(\u001b[38;5;28mself\u001b[39m, url, \u001b[38;5;241m*\u001b[39m, timeout, headers):\n\u001b[0;32m--> 472\u001b[0m     resp \u001b[38;5;241m=\u001b[39m \u001b[38;5;28;43mself\u001b[39;49m\u001b[38;5;241;43m.\u001b[39;49m\u001b[43m_request\u001b[49m\u001b[43m(\u001b[49m\u001b[43murl\u001b[49m\u001b[43m,\u001b[49m\u001b[43m \u001b[49m\u001b[43mtimeout\u001b[49m\u001b[38;5;241;43m=\u001b[39;49m\u001b[43mtimeout\u001b[49m\u001b[43m,\u001b[49m\u001b[43m \u001b[49m\u001b[43mheaders\u001b[49m\u001b[38;5;241;43m=\u001b[39;49m\u001b[43mheaders\u001b[49m\u001b[43m)\u001b[49m\n\u001b[1;32m    473\u001b[0m     \u001b[38;5;28;01mtry\u001b[39;00m:\n",
      "File \u001b[0;32m~/anaconda3/envs/domino-generalized/lib/python3.10/site-packages/geopy/adapters.py:500\u001b[0m, in \u001b[0;36mRequestsAdapter._request\u001b[0;34m(self, url, timeout, headers)\u001b[0m\n\u001b[1;32m    499\u001b[0m     \u001b[38;5;28;01mif\u001b[39;00m resp\u001b[38;5;241m.\u001b[39mstatus_code \u001b[38;5;241m>\u001b[39m\u001b[38;5;241m=\u001b[39m \u001b[38;5;241m400\u001b[39m:\n\u001b[0;32m--> 500\u001b[0m         \u001b[38;5;28;01mraise\u001b[39;00m AdapterHTTPError(\n\u001b[1;32m    501\u001b[0m             \u001b[38;5;124m\"\u001b[39m\u001b[38;5;124mNon-successful status code \u001b[39m\u001b[38;5;132;01m%s\u001b[39;00m\u001b[38;5;124m\"\u001b[39m \u001b[38;5;241m%\u001b[39m resp\u001b[38;5;241m.\u001b[39mstatus_code,\n\u001b[1;32m    502\u001b[0m             status_code\u001b[38;5;241m=\u001b[39mresp\u001b[38;5;241m.\u001b[39mstatus_code,\n\u001b[1;32m    503\u001b[0m             headers\u001b[38;5;241m=\u001b[39mresp\u001b[38;5;241m.\u001b[39mheaders,\n\u001b[1;32m    504\u001b[0m             text\u001b[38;5;241m=\u001b[39mresp\u001b[38;5;241m.\u001b[39mtext,\n\u001b[1;32m    505\u001b[0m         )\n\u001b[1;32m    507\u001b[0m \u001b[38;5;28;01mreturn\u001b[39;00m resp\n",
      "\u001b[0;31mAdapterHTTPError\u001b[0m: Non-successful status code 403",
      "\nThe above exception was the direct cause of the following exception:\n",
      "\u001b[0;31mGeocoderInsufficientPrivileges\u001b[0m            Traceback (most recent call last)",
      "Cell \u001b[0;32mIn[21], line 22\u001b[0m\n\u001b[1;32m     20\u001b[0m country_coords \u001b[38;5;241m=\u001b[39m {}\n\u001b[1;32m     21\u001b[0m \u001b[38;5;28;01mfor\u001b[39;00m country \u001b[38;5;129;01min\u001b[39;00m unique_countries:\n\u001b[0;32m---> 22\u001b[0m     location \u001b[38;5;241m=\u001b[39m \u001b[43mgeolocator\u001b[49m\u001b[38;5;241;43m.\u001b[39;49m\u001b[43mgeocode\u001b[49m\u001b[43m(\u001b[49m\u001b[43mcountry\u001b[49m\u001b[43m)\u001b[49m\n\u001b[1;32m     23\u001b[0m     \u001b[38;5;28;01mif\u001b[39;00m location:\n\u001b[1;32m     24\u001b[0m         country_coords[country] \u001b[38;5;241m=\u001b[39m [location\u001b[38;5;241m.\u001b[39mlatitude, location\u001b[38;5;241m.\u001b[39mlongitude]\n",
      "File \u001b[0;32m~/anaconda3/envs/domino-generalized/lib/python3.10/site-packages/geopy/geocoders/nominatim.py:297\u001b[0m, in \u001b[0;36mNominatim.geocode\u001b[0;34m(self, query, exactly_one, timeout, limit, addressdetails, language, geometry, extratags, country_codes, viewbox, bounded, featuretype, namedetails)\u001b[0m\n\u001b[1;32m    295\u001b[0m logger\u001b[38;5;241m.\u001b[39mdebug(\u001b[38;5;124m\"\u001b[39m\u001b[38;5;132;01m%s\u001b[39;00m\u001b[38;5;124m.geocode: \u001b[39m\u001b[38;5;132;01m%s\u001b[39;00m\u001b[38;5;124m\"\u001b[39m, \u001b[38;5;28mself\u001b[39m\u001b[38;5;241m.\u001b[39m\u001b[38;5;18m__class__\u001b[39m\u001b[38;5;241m.\u001b[39m\u001b[38;5;18m__name__\u001b[39m, url)\n\u001b[1;32m    296\u001b[0m callback \u001b[38;5;241m=\u001b[39m partial(\u001b[38;5;28mself\u001b[39m\u001b[38;5;241m.\u001b[39m_parse_json, exactly_one\u001b[38;5;241m=\u001b[39mexactly_one)\n\u001b[0;32m--> 297\u001b[0m \u001b[38;5;28;01mreturn\u001b[39;00m \u001b[38;5;28;43mself\u001b[39;49m\u001b[38;5;241;43m.\u001b[39;49m\u001b[43m_call_geocoder\u001b[49m\u001b[43m(\u001b[49m\u001b[43murl\u001b[49m\u001b[43m,\u001b[49m\u001b[43m \u001b[49m\u001b[43mcallback\u001b[49m\u001b[43m,\u001b[49m\u001b[43m \u001b[49m\u001b[43mtimeout\u001b[49m\u001b[38;5;241;43m=\u001b[39;49m\u001b[43mtimeout\u001b[49m\u001b[43m)\u001b[49m\n",
      "File \u001b[0;32m~/anaconda3/envs/domino-generalized/lib/python3.10/site-packages/geopy/geocoders/base.py:388\u001b[0m, in \u001b[0;36mGeocoder._call_geocoder\u001b[0;34m(self, url, callback, timeout, is_json, headers)\u001b[0m\n\u001b[1;32m    386\u001b[0m         \u001b[38;5;28;01mreturn\u001b[39;00m callback(result)\n\u001b[1;32m    387\u001b[0m \u001b[38;5;28;01mexcept\u001b[39;00m \u001b[38;5;167;01mException\u001b[39;00m \u001b[38;5;28;01mas\u001b[39;00m error:\n\u001b[0;32m--> 388\u001b[0m     res \u001b[38;5;241m=\u001b[39m \u001b[38;5;28;43mself\u001b[39;49m\u001b[38;5;241;43m.\u001b[39;49m\u001b[43m_adapter_error_handler\u001b[49m\u001b[43m(\u001b[49m\u001b[43merror\u001b[49m\u001b[43m)\u001b[49m\n\u001b[1;32m    389\u001b[0m     \u001b[38;5;28;01mif\u001b[39;00m res \u001b[38;5;129;01mis\u001b[39;00m NONE_RESULT:\n\u001b[1;32m    390\u001b[0m         \u001b[38;5;28;01mreturn\u001b[39;00m \u001b[38;5;28;01mNone\u001b[39;00m\n",
      "File \u001b[0;32m~/anaconda3/envs/domino-generalized/lib/python3.10/site-packages/geopy/geocoders/base.py:411\u001b[0m, in \u001b[0;36mGeocoder._adapter_error_handler\u001b[0;34m(self, error)\u001b[0m\n\u001b[1;32m    407\u001b[0m         \u001b[38;5;28;01mraise\u001b[39;00m exc_cls(\n\u001b[1;32m    408\u001b[0m             \u001b[38;5;28mstr\u001b[39m(error), retry_after\u001b[38;5;241m=\u001b[39mget_retry_after(error\u001b[38;5;241m.\u001b[39mheaders)\n\u001b[1;32m    409\u001b[0m         ) \u001b[38;5;28;01mfrom\u001b[39;00m \u001b[38;5;21;01merror\u001b[39;00m\n\u001b[1;32m    410\u001b[0m     \u001b[38;5;28;01melse\u001b[39;00m:\n\u001b[0;32m--> 411\u001b[0m         \u001b[38;5;28;01mraise\u001b[39;00m exc_cls(\u001b[38;5;28mstr\u001b[39m(error)) \u001b[38;5;28;01mfrom\u001b[39;00m \u001b[38;5;21;01merror\u001b[39;00m\n\u001b[1;32m    412\u001b[0m \u001b[38;5;28;01melse\u001b[39;00m:\n\u001b[1;32m    413\u001b[0m     res \u001b[38;5;241m=\u001b[39m \u001b[38;5;28mself\u001b[39m\u001b[38;5;241m.\u001b[39m_geocoder_exception_handler(error)\n",
      "\u001b[0;31mGeocoderInsufficientPrivileges\u001b[0m: Non-successful status code 403"
     ]
    }
   ],
   "source": [
    "import pandas as pd\n",
    "import plotly.graph_objects as go\n",
    "from geopy.geocoders import Nominatim\n",
    "\n",
    "# Assuming df is your DataFrame\n",
    "# Calculate total migration for each corridor\n",
    "df['Total Migration'] = df[['1960', '1970', '1980', '1990', '2000']].sum(axis=1)\n",
    "total_migration = df.groupby(['Country Origin Name', 'Country Dest Name'])['Total Migration'].sum().reset_index()\n",
    "\n",
    "# Get the top 5 corridors by total migration\n",
    "top_corridors = total_migration.sort_values(by='Total Migration', ascending=False).head(5)\n",
    "\n",
    "# Get unique countries from the top corridors (origins and destinations)\n",
    "unique_countries = set(top_corridors['Country Origin Name']).union(set(top_corridors['Country Dest Name']))\n",
    "\n",
    "# Initialize geolocator\n",
    "geolocator = Nominatim(user_agent=\"geoapiExercises\")\n",
    "\n",
    "# Get coordinates for each unique country\n",
    "country_coords = {}\n",
    "for country in unique_countries:\n",
    "    location = geolocator.geocode(country)\n",
    "    if location:\n",
    "        country_coords[country] = [location.latitude, location.longitude]\n",
    "\n",
    "# Create the interactive map\n",
    "fig = go.Figure()\n",
    "\n",
    "# Plot blue lines between the top 5 origin and destination countries\n",
    "for _, row in top_corridors.iterrows():\n",
    "    origin = row['Country Origin Name']\n",
    "    dest = row['Country Dest Name']\n",
    "    \n",
    "    if origin in country_coords and dest in country_coords:\n",
    "        origin_coords = country_coords[origin]\n",
    "        dest_coords = country_coords[dest]\n",
    "\n",
    "        # Add lines connecting origin to destination\n",
    "        fig.add_trace(go.Scattergeo(\n",
    "            locationmode='country names',\n",
    "            lon=[origin_coords[1], dest_coords[1]],\n",
    "            lat=[origin_coords[0], dest_coords[0]],\n",
    "            mode='lines+markers',\n",
    "            line=dict(width=2, color='blue'),\n",
    "            marker=dict(size=5, color='blue'),\n",
    "            name=f'{origin} to {dest}',\n",
    "            hoverinfo='text'\n",
    "        ))\n",
    "\n",
    "# Update layout\n",
    "fig.update_layout(\n",
    "    title='Top 5 Bilateral Migration Corridors',\n",
    "    showlegend=True,\n",
    "    geo=dict(\n",
    "        showframe=False,\n",
    "        showcoastlines=True,\n",
    "        projection_type='equirectangular'\n",
    "    ),\n",
    ")\n",
    "\n",
    "# Show map\n",
    "fig.show()\n"
   ]
  },
  {
   "cell_type": "code",
   "execution_count": 79,
   "id": "bbcaba47",
   "metadata": {},
   "outputs": [
    {
     "name": "stdout",
     "output_type": "stream",
     "text": [
      "      Country Origin Name   Country Dest Name  Total Migration\n",
      "36358            Pakistan               India         46130957\n",
      "39716  Russian Federation             Ukraine         42088836\n",
      "21178               India            Pakistan         41389963\n",
      "50066             Ukraine  Russian Federation         37908205\n",
      "30710              Mexico       United States         35971713\n"
     ]
    }
   ],
   "source": [
    "# Calculate total migration for each corridor\n",
    "df['Total Migration'] = df[['1960', '1970', '1980', '1990', '2000']].sum(axis=1)\n",
    "total_migration = df.groupby(['Country Origin Name', 'Country Dest Name'])['Total Migration'].sum().reset_index()\n",
    "\n",
    "# Get the top 5 corridors by total migration\n",
    "top_corridors = total_migration.sort_values(by='Total Migration', ascending=False).head(5)\n",
    "\n",
    "# Display the top corridors\n",
    "print(top_corridors)\n"
   ]
  },
  {
   "cell_type": "code",
   "execution_count": 80,
   "id": "14bae417",
   "metadata": {},
   "outputs": [
    {
     "name": "stdout",
     "output_type": "stream",
     "text": [
      "                         Bilateral Pair  Total Migration\n",
      "17083                 (India, Pakistan)         87520920\n",
      "25181     (Russian Federation, Ukraine)         79997041\n",
      "22065           (Mexico, United States)         37793378\n",
      "18582  (Kazakhstan, Russian Federation)         37492940\n",
      "3667                (Bangladesh, India)         33387464\n"
     ]
    }
   ],
   "source": [
    "# Sum total migration across all years\n",
    "df['Total Migration'] = df[['1960', '1970', '1980', '1990', '2000']].sum(axis=1)\n",
    "\n",
    "# Create a bilateral identifier by sorting the country pairs alphabetically\n",
    "df['Bilateral Pair'] = df.apply(lambda row: tuple(sorted([row['Country Origin Name'], row['Country Dest Name']])), axis=1)\n",
    "\n",
    "# Group by the bilateral pair and sum the total migration\n",
    "total_bilateral_migration = df.groupby('Bilateral Pair')['Total Migration'].sum().reset_index()\n",
    "\n",
    "# Get the top 5 bilateral migration corridors by total migration\n",
    "top_bilateral_corridors = total_bilateral_migration.sort_values(by='Total Migration', ascending=False).head(5)\n",
    "\n",
    "# Display the top bilateral corridors\n",
    "print(top_bilateral_corridors)\n"
   ]
  },
  {
   "cell_type": "code",
   "execution_count": 22,
   "id": "c862ab18",
   "metadata": {},
   "outputs": [
    {
     "data": {
      "application/vnd.plotly.v1+json": {
       "config": {
        "plotlyServerURL": "https://plot.ly"
       },
       "data": [
        {
         "hoverinfo": "text",
         "lat": [
          28.6139,
          33.6844
         ],
         "line": {
          "color": "blue",
          "width": 2
         },
         "locationmode": "country names",
         "lon": [
          77.209,
          73.0479
         ],
         "marker": {
          "color": "red",
          "size": 5
         },
         "mode": "lines+markers",
         "name": "India to Pakistan",
         "type": "scattergeo"
        },
        {
         "hoverinfo": "text",
         "lat": [
          55.7558,
          50.4501
         ],
         "line": {
          "color": "blue",
          "width": 2
         },
         "locationmode": "country names",
         "lon": [
          37.6173,
          30.5234
         ],
         "marker": {
          "color": "red",
          "size": 5
         },
         "mode": "lines+markers",
         "name": "Russian Federation to Ukraine",
         "type": "scattergeo"
        },
        {
         "hoverinfo": "text",
         "lat": [
          19.4326,
          38.9072
         ],
         "line": {
          "color": "blue",
          "width": 2
         },
         "locationmode": "country names",
         "lon": [
          -99.1332,
          -77.0369
         ],
         "marker": {
          "color": "red",
          "size": 5
         },
         "mode": "lines+markers",
         "name": "Mexico to United States",
         "type": "scattergeo"
        },
        {
         "hoverinfo": "text",
         "lat": [
          51.1694,
          55.7558
         ],
         "line": {
          "color": "blue",
          "width": 2
         },
         "locationmode": "country names",
         "lon": [
          71.4491,
          37.6173
         ],
         "marker": {
          "color": "red",
          "size": 5
         },
         "mode": "lines+markers",
         "name": "Kazakhstan to Russian Federation",
         "type": "scattergeo"
        },
        {
         "hoverinfo": "text",
         "lat": [
          23.8103,
          28.6139
         ],
         "line": {
          "color": "blue",
          "width": 2
         },
         "locationmode": "country names",
         "lon": [
          90.4125,
          77.209
         ],
         "marker": {
          "color": "red",
          "size": 5
         },
         "mode": "lines+markers",
         "name": "Bangladesh to India",
         "type": "scattergeo"
        }
       ],
       "layout": {
        "geo": {
         "projection": {
          "type": "equirectangular"
         },
         "showcoastlines": true,
         "showframe": false
        },
        "showlegend": true,
        "template": {
         "data": {
          "bar": [
           {
            "error_x": {
             "color": "#2a3f5f"
            },
            "error_y": {
             "color": "#2a3f5f"
            },
            "marker": {
             "line": {
              "color": "#E5ECF6",
              "width": 0.5
             },
             "pattern": {
              "fillmode": "overlay",
              "size": 10,
              "solidity": 0.2
             }
            },
            "type": "bar"
           }
          ],
          "barpolar": [
           {
            "marker": {
             "line": {
              "color": "#E5ECF6",
              "width": 0.5
             },
             "pattern": {
              "fillmode": "overlay",
              "size": 10,
              "solidity": 0.2
             }
            },
            "type": "barpolar"
           }
          ],
          "carpet": [
           {
            "aaxis": {
             "endlinecolor": "#2a3f5f",
             "gridcolor": "white",
             "linecolor": "white",
             "minorgridcolor": "white",
             "startlinecolor": "#2a3f5f"
            },
            "baxis": {
             "endlinecolor": "#2a3f5f",
             "gridcolor": "white",
             "linecolor": "white",
             "minorgridcolor": "white",
             "startlinecolor": "#2a3f5f"
            },
            "type": "carpet"
           }
          ],
          "choropleth": [
           {
            "colorbar": {
             "outlinewidth": 0,
             "ticks": ""
            },
            "type": "choropleth"
           }
          ],
          "contour": [
           {
            "colorbar": {
             "outlinewidth": 0,
             "ticks": ""
            },
            "colorscale": [
             [
              0,
              "#0d0887"
             ],
             [
              0.1111111111111111,
              "#46039f"
             ],
             [
              0.2222222222222222,
              "#7201a8"
             ],
             [
              0.3333333333333333,
              "#9c179e"
             ],
             [
              0.4444444444444444,
              "#bd3786"
             ],
             [
              0.5555555555555556,
              "#d8576b"
             ],
             [
              0.6666666666666666,
              "#ed7953"
             ],
             [
              0.7777777777777778,
              "#fb9f3a"
             ],
             [
              0.8888888888888888,
              "#fdca26"
             ],
             [
              1,
              "#f0f921"
             ]
            ],
            "type": "contour"
           }
          ],
          "contourcarpet": [
           {
            "colorbar": {
             "outlinewidth": 0,
             "ticks": ""
            },
            "type": "contourcarpet"
           }
          ],
          "heatmap": [
           {
            "colorbar": {
             "outlinewidth": 0,
             "ticks": ""
            },
            "colorscale": [
             [
              0,
              "#0d0887"
             ],
             [
              0.1111111111111111,
              "#46039f"
             ],
             [
              0.2222222222222222,
              "#7201a8"
             ],
             [
              0.3333333333333333,
              "#9c179e"
             ],
             [
              0.4444444444444444,
              "#bd3786"
             ],
             [
              0.5555555555555556,
              "#d8576b"
             ],
             [
              0.6666666666666666,
              "#ed7953"
             ],
             [
              0.7777777777777778,
              "#fb9f3a"
             ],
             [
              0.8888888888888888,
              "#fdca26"
             ],
             [
              1,
              "#f0f921"
             ]
            ],
            "type": "heatmap"
           }
          ],
          "heatmapgl": [
           {
            "colorbar": {
             "outlinewidth": 0,
             "ticks": ""
            },
            "colorscale": [
             [
              0,
              "#0d0887"
             ],
             [
              0.1111111111111111,
              "#46039f"
             ],
             [
              0.2222222222222222,
              "#7201a8"
             ],
             [
              0.3333333333333333,
              "#9c179e"
             ],
             [
              0.4444444444444444,
              "#bd3786"
             ],
             [
              0.5555555555555556,
              "#d8576b"
             ],
             [
              0.6666666666666666,
              "#ed7953"
             ],
             [
              0.7777777777777778,
              "#fb9f3a"
             ],
             [
              0.8888888888888888,
              "#fdca26"
             ],
             [
              1,
              "#f0f921"
             ]
            ],
            "type": "heatmapgl"
           }
          ],
          "histogram": [
           {
            "marker": {
             "pattern": {
              "fillmode": "overlay",
              "size": 10,
              "solidity": 0.2
             }
            },
            "type": "histogram"
           }
          ],
          "histogram2d": [
           {
            "colorbar": {
             "outlinewidth": 0,
             "ticks": ""
            },
            "colorscale": [
             [
              0,
              "#0d0887"
             ],
             [
              0.1111111111111111,
              "#46039f"
             ],
             [
              0.2222222222222222,
              "#7201a8"
             ],
             [
              0.3333333333333333,
              "#9c179e"
             ],
             [
              0.4444444444444444,
              "#bd3786"
             ],
             [
              0.5555555555555556,
              "#d8576b"
             ],
             [
              0.6666666666666666,
              "#ed7953"
             ],
             [
              0.7777777777777778,
              "#fb9f3a"
             ],
             [
              0.8888888888888888,
              "#fdca26"
             ],
             [
              1,
              "#f0f921"
             ]
            ],
            "type": "histogram2d"
           }
          ],
          "histogram2dcontour": [
           {
            "colorbar": {
             "outlinewidth": 0,
             "ticks": ""
            },
            "colorscale": [
             [
              0,
              "#0d0887"
             ],
             [
              0.1111111111111111,
              "#46039f"
             ],
             [
              0.2222222222222222,
              "#7201a8"
             ],
             [
              0.3333333333333333,
              "#9c179e"
             ],
             [
              0.4444444444444444,
              "#bd3786"
             ],
             [
              0.5555555555555556,
              "#d8576b"
             ],
             [
              0.6666666666666666,
              "#ed7953"
             ],
             [
              0.7777777777777778,
              "#fb9f3a"
             ],
             [
              0.8888888888888888,
              "#fdca26"
             ],
             [
              1,
              "#f0f921"
             ]
            ],
            "type": "histogram2dcontour"
           }
          ],
          "mesh3d": [
           {
            "colorbar": {
             "outlinewidth": 0,
             "ticks": ""
            },
            "type": "mesh3d"
           }
          ],
          "parcoords": [
           {
            "line": {
             "colorbar": {
              "outlinewidth": 0,
              "ticks": ""
             }
            },
            "type": "parcoords"
           }
          ],
          "pie": [
           {
            "automargin": true,
            "type": "pie"
           }
          ],
          "scatter": [
           {
            "fillpattern": {
             "fillmode": "overlay",
             "size": 10,
             "solidity": 0.2
            },
            "type": "scatter"
           }
          ],
          "scatter3d": [
           {
            "line": {
             "colorbar": {
              "outlinewidth": 0,
              "ticks": ""
             }
            },
            "marker": {
             "colorbar": {
              "outlinewidth": 0,
              "ticks": ""
             }
            },
            "type": "scatter3d"
           }
          ],
          "scattercarpet": [
           {
            "marker": {
             "colorbar": {
              "outlinewidth": 0,
              "ticks": ""
             }
            },
            "type": "scattercarpet"
           }
          ],
          "scattergeo": [
           {
            "marker": {
             "colorbar": {
              "outlinewidth": 0,
              "ticks": ""
             }
            },
            "type": "scattergeo"
           }
          ],
          "scattergl": [
           {
            "marker": {
             "colorbar": {
              "outlinewidth": 0,
              "ticks": ""
             }
            },
            "type": "scattergl"
           }
          ],
          "scattermapbox": [
           {
            "marker": {
             "colorbar": {
              "outlinewidth": 0,
              "ticks": ""
             }
            },
            "type": "scattermapbox"
           }
          ],
          "scatterpolar": [
           {
            "marker": {
             "colorbar": {
              "outlinewidth": 0,
              "ticks": ""
             }
            },
            "type": "scatterpolar"
           }
          ],
          "scatterpolargl": [
           {
            "marker": {
             "colorbar": {
              "outlinewidth": 0,
              "ticks": ""
             }
            },
            "type": "scatterpolargl"
           }
          ],
          "scatterternary": [
           {
            "marker": {
             "colorbar": {
              "outlinewidth": 0,
              "ticks": ""
             }
            },
            "type": "scatterternary"
           }
          ],
          "surface": [
           {
            "colorbar": {
             "outlinewidth": 0,
             "ticks": ""
            },
            "colorscale": [
             [
              0,
              "#0d0887"
             ],
             [
              0.1111111111111111,
              "#46039f"
             ],
             [
              0.2222222222222222,
              "#7201a8"
             ],
             [
              0.3333333333333333,
              "#9c179e"
             ],
             [
              0.4444444444444444,
              "#bd3786"
             ],
             [
              0.5555555555555556,
              "#d8576b"
             ],
             [
              0.6666666666666666,
              "#ed7953"
             ],
             [
              0.7777777777777778,
              "#fb9f3a"
             ],
             [
              0.8888888888888888,
              "#fdca26"
             ],
             [
              1,
              "#f0f921"
             ]
            ],
            "type": "surface"
           }
          ],
          "table": [
           {
            "cells": {
             "fill": {
              "color": "#EBF0F8"
             },
             "line": {
              "color": "white"
             }
            },
            "header": {
             "fill": {
              "color": "#C8D4E3"
             },
             "line": {
              "color": "white"
             }
            },
            "type": "table"
           }
          ]
         },
         "layout": {
          "annotationdefaults": {
           "arrowcolor": "#2a3f5f",
           "arrowhead": 0,
           "arrowwidth": 1
          },
          "autotypenumbers": "strict",
          "coloraxis": {
           "colorbar": {
            "outlinewidth": 0,
            "ticks": ""
           }
          },
          "colorscale": {
           "diverging": [
            [
             0,
             "#8e0152"
            ],
            [
             0.1,
             "#c51b7d"
            ],
            [
             0.2,
             "#de77ae"
            ],
            [
             0.3,
             "#f1b6da"
            ],
            [
             0.4,
             "#fde0ef"
            ],
            [
             0.5,
             "#f7f7f7"
            ],
            [
             0.6,
             "#e6f5d0"
            ],
            [
             0.7,
             "#b8e186"
            ],
            [
             0.8,
             "#7fbc41"
            ],
            [
             0.9,
             "#4d9221"
            ],
            [
             1,
             "#276419"
            ]
           ],
           "sequential": [
            [
             0,
             "#0d0887"
            ],
            [
             0.1111111111111111,
             "#46039f"
            ],
            [
             0.2222222222222222,
             "#7201a8"
            ],
            [
             0.3333333333333333,
             "#9c179e"
            ],
            [
             0.4444444444444444,
             "#bd3786"
            ],
            [
             0.5555555555555556,
             "#d8576b"
            ],
            [
             0.6666666666666666,
             "#ed7953"
            ],
            [
             0.7777777777777778,
             "#fb9f3a"
            ],
            [
             0.8888888888888888,
             "#fdca26"
            ],
            [
             1,
             "#f0f921"
            ]
           ],
           "sequentialminus": [
            [
             0,
             "#0d0887"
            ],
            [
             0.1111111111111111,
             "#46039f"
            ],
            [
             0.2222222222222222,
             "#7201a8"
            ],
            [
             0.3333333333333333,
             "#9c179e"
            ],
            [
             0.4444444444444444,
             "#bd3786"
            ],
            [
             0.5555555555555556,
             "#d8576b"
            ],
            [
             0.6666666666666666,
             "#ed7953"
            ],
            [
             0.7777777777777778,
             "#fb9f3a"
            ],
            [
             0.8888888888888888,
             "#fdca26"
            ],
            [
             1,
             "#f0f921"
            ]
           ]
          },
          "colorway": [
           "#636efa",
           "#EF553B",
           "#00cc96",
           "#ab63fa",
           "#FFA15A",
           "#19d3f3",
           "#FF6692",
           "#B6E880",
           "#FF97FF",
           "#FECB52"
          ],
          "font": {
           "color": "#2a3f5f"
          },
          "geo": {
           "bgcolor": "white",
           "lakecolor": "white",
           "landcolor": "#E5ECF6",
           "showlakes": true,
           "showland": true,
           "subunitcolor": "white"
          },
          "hoverlabel": {
           "align": "left"
          },
          "hovermode": "closest",
          "mapbox": {
           "style": "light"
          },
          "paper_bgcolor": "white",
          "plot_bgcolor": "#E5ECF6",
          "polar": {
           "angularaxis": {
            "gridcolor": "white",
            "linecolor": "white",
            "ticks": ""
           },
           "bgcolor": "#E5ECF6",
           "radialaxis": {
            "gridcolor": "white",
            "linecolor": "white",
            "ticks": ""
           }
          },
          "scene": {
           "xaxis": {
            "backgroundcolor": "#E5ECF6",
            "gridcolor": "white",
            "gridwidth": 2,
            "linecolor": "white",
            "showbackground": true,
            "ticks": "",
            "zerolinecolor": "white"
           },
           "yaxis": {
            "backgroundcolor": "#E5ECF6",
            "gridcolor": "white",
            "gridwidth": 2,
            "linecolor": "white",
            "showbackground": true,
            "ticks": "",
            "zerolinecolor": "white"
           },
           "zaxis": {
            "backgroundcolor": "#E5ECF6",
            "gridcolor": "white",
            "gridwidth": 2,
            "linecolor": "white",
            "showbackground": true,
            "ticks": "",
            "zerolinecolor": "white"
           }
          },
          "shapedefaults": {
           "line": {
            "color": "#2a3f5f"
           }
          },
          "ternary": {
           "aaxis": {
            "gridcolor": "white",
            "linecolor": "white",
            "ticks": ""
           },
           "baxis": {
            "gridcolor": "white",
            "linecolor": "white",
            "ticks": ""
           },
           "bgcolor": "#E5ECF6",
           "caxis": {
            "gridcolor": "white",
            "linecolor": "white",
            "ticks": ""
           }
          },
          "title": {
           "x": 0.05
          },
          "xaxis": {
           "automargin": true,
           "gridcolor": "white",
           "linecolor": "white",
           "ticks": "",
           "title": {
            "standoff": 15
           },
           "zerolinecolor": "white",
           "zerolinewidth": 2
          },
          "yaxis": {
           "automargin": true,
           "gridcolor": "white",
           "linecolor": "white",
           "ticks": "",
           "title": {
            "standoff": 15
           },
           "zerolinecolor": "white",
           "zerolinewidth": 2
          }
         }
        },
        "title": {
         "text": "Top 5 Bilateral Migration Corridors"
        }
       }
      },
      "text/html": [
       "<div>                            <div id=\"d043270f-8c0d-43da-a863-c80e7530b70e\" class=\"plotly-graph-div\" style=\"height:525px; width:100%;\"></div>            <script type=\"text/javascript\">                require([\"plotly\"], function(Plotly) {                    window.PLOTLYENV=window.PLOTLYENV || {};                                    if (document.getElementById(\"d043270f-8c0d-43da-a863-c80e7530b70e\")) {                    Plotly.newPlot(                        \"d043270f-8c0d-43da-a863-c80e7530b70e\",                        [{\"hoverinfo\":\"text\",\"lat\":[28.6139,33.6844],\"line\":{\"color\":\"blue\",\"width\":2},\"locationmode\":\"country names\",\"lon\":[77.209,73.0479],\"marker\":{\"color\":\"red\",\"size\":5},\"mode\":\"lines+markers\",\"name\":\"India to Pakistan\",\"type\":\"scattergeo\"},{\"hoverinfo\":\"text\",\"lat\":[55.7558,50.4501],\"line\":{\"color\":\"blue\",\"width\":2},\"locationmode\":\"country names\",\"lon\":[37.6173,30.5234],\"marker\":{\"color\":\"red\",\"size\":5},\"mode\":\"lines+markers\",\"name\":\"Russian Federation to Ukraine\",\"type\":\"scattergeo\"},{\"hoverinfo\":\"text\",\"lat\":[19.4326,38.9072],\"line\":{\"color\":\"blue\",\"width\":2},\"locationmode\":\"country names\",\"lon\":[-99.1332,-77.0369],\"marker\":{\"color\":\"red\",\"size\":5},\"mode\":\"lines+markers\",\"name\":\"Mexico to United States\",\"type\":\"scattergeo\"},{\"hoverinfo\":\"text\",\"lat\":[51.1694,55.7558],\"line\":{\"color\":\"blue\",\"width\":2},\"locationmode\":\"country names\",\"lon\":[71.4491,37.6173],\"marker\":{\"color\":\"red\",\"size\":5},\"mode\":\"lines+markers\",\"name\":\"Kazakhstan to Russian Federation\",\"type\":\"scattergeo\"},{\"hoverinfo\":\"text\",\"lat\":[23.8103,28.6139],\"line\":{\"color\":\"blue\",\"width\":2},\"locationmode\":\"country names\",\"lon\":[90.4125,77.209],\"marker\":{\"color\":\"red\",\"size\":5},\"mode\":\"lines+markers\",\"name\":\"Bangladesh to India\",\"type\":\"scattergeo\"}],                        {\"template\":{\"data\":{\"histogram2dcontour\":[{\"type\":\"histogram2dcontour\",\"colorbar\":{\"outlinewidth\":0,\"ticks\":\"\"},\"colorscale\":[[0.0,\"#0d0887\"],[0.1111111111111111,\"#46039f\"],[0.2222222222222222,\"#7201a8\"],[0.3333333333333333,\"#9c179e\"],[0.4444444444444444,\"#bd3786\"],[0.5555555555555556,\"#d8576b\"],[0.6666666666666666,\"#ed7953\"],[0.7777777777777778,\"#fb9f3a\"],[0.8888888888888888,\"#fdca26\"],[1.0,\"#f0f921\"]]}],\"choropleth\":[{\"type\":\"choropleth\",\"colorbar\":{\"outlinewidth\":0,\"ticks\":\"\"}}],\"histogram2d\":[{\"type\":\"histogram2d\",\"colorbar\":{\"outlinewidth\":0,\"ticks\":\"\"},\"colorscale\":[[0.0,\"#0d0887\"],[0.1111111111111111,\"#46039f\"],[0.2222222222222222,\"#7201a8\"],[0.3333333333333333,\"#9c179e\"],[0.4444444444444444,\"#bd3786\"],[0.5555555555555556,\"#d8576b\"],[0.6666666666666666,\"#ed7953\"],[0.7777777777777778,\"#fb9f3a\"],[0.8888888888888888,\"#fdca26\"],[1.0,\"#f0f921\"]]}],\"heatmap\":[{\"type\":\"heatmap\",\"colorbar\":{\"outlinewidth\":0,\"ticks\":\"\"},\"colorscale\":[[0.0,\"#0d0887\"],[0.1111111111111111,\"#46039f\"],[0.2222222222222222,\"#7201a8\"],[0.3333333333333333,\"#9c179e\"],[0.4444444444444444,\"#bd3786\"],[0.5555555555555556,\"#d8576b\"],[0.6666666666666666,\"#ed7953\"],[0.7777777777777778,\"#fb9f3a\"],[0.8888888888888888,\"#fdca26\"],[1.0,\"#f0f921\"]]}],\"heatmapgl\":[{\"type\":\"heatmapgl\",\"colorbar\":{\"outlinewidth\":0,\"ticks\":\"\"},\"colorscale\":[[0.0,\"#0d0887\"],[0.1111111111111111,\"#46039f\"],[0.2222222222222222,\"#7201a8\"],[0.3333333333333333,\"#9c179e\"],[0.4444444444444444,\"#bd3786\"],[0.5555555555555556,\"#d8576b\"],[0.6666666666666666,\"#ed7953\"],[0.7777777777777778,\"#fb9f3a\"],[0.8888888888888888,\"#fdca26\"],[1.0,\"#f0f921\"]]}],\"contourcarpet\":[{\"type\":\"contourcarpet\",\"colorbar\":{\"outlinewidth\":0,\"ticks\":\"\"}}],\"contour\":[{\"type\":\"contour\",\"colorbar\":{\"outlinewidth\":0,\"ticks\":\"\"},\"colorscale\":[[0.0,\"#0d0887\"],[0.1111111111111111,\"#46039f\"],[0.2222222222222222,\"#7201a8\"],[0.3333333333333333,\"#9c179e\"],[0.4444444444444444,\"#bd3786\"],[0.5555555555555556,\"#d8576b\"],[0.6666666666666666,\"#ed7953\"],[0.7777777777777778,\"#fb9f3a\"],[0.8888888888888888,\"#fdca26\"],[1.0,\"#f0f921\"]]}],\"surface\":[{\"type\":\"surface\",\"colorbar\":{\"outlinewidth\":0,\"ticks\":\"\"},\"colorscale\":[[0.0,\"#0d0887\"],[0.1111111111111111,\"#46039f\"],[0.2222222222222222,\"#7201a8\"],[0.3333333333333333,\"#9c179e\"],[0.4444444444444444,\"#bd3786\"],[0.5555555555555556,\"#d8576b\"],[0.6666666666666666,\"#ed7953\"],[0.7777777777777778,\"#fb9f3a\"],[0.8888888888888888,\"#fdca26\"],[1.0,\"#f0f921\"]]}],\"mesh3d\":[{\"type\":\"mesh3d\",\"colorbar\":{\"outlinewidth\":0,\"ticks\":\"\"}}],\"scatter\":[{\"fillpattern\":{\"fillmode\":\"overlay\",\"size\":10,\"solidity\":0.2},\"type\":\"scatter\"}],\"parcoords\":[{\"type\":\"parcoords\",\"line\":{\"colorbar\":{\"outlinewidth\":0,\"ticks\":\"\"}}}],\"scatterpolargl\":[{\"type\":\"scatterpolargl\",\"marker\":{\"colorbar\":{\"outlinewidth\":0,\"ticks\":\"\"}}}],\"bar\":[{\"error_x\":{\"color\":\"#2a3f5f\"},\"error_y\":{\"color\":\"#2a3f5f\"},\"marker\":{\"line\":{\"color\":\"#E5ECF6\",\"width\":0.5},\"pattern\":{\"fillmode\":\"overlay\",\"size\":10,\"solidity\":0.2}},\"type\":\"bar\"}],\"scattergeo\":[{\"type\":\"scattergeo\",\"marker\":{\"colorbar\":{\"outlinewidth\":0,\"ticks\":\"\"}}}],\"scatterpolar\":[{\"type\":\"scatterpolar\",\"marker\":{\"colorbar\":{\"outlinewidth\":0,\"ticks\":\"\"}}}],\"histogram\":[{\"marker\":{\"pattern\":{\"fillmode\":\"overlay\",\"size\":10,\"solidity\":0.2}},\"type\":\"histogram\"}],\"scattergl\":[{\"type\":\"scattergl\",\"marker\":{\"colorbar\":{\"outlinewidth\":0,\"ticks\":\"\"}}}],\"scatter3d\":[{\"type\":\"scatter3d\",\"line\":{\"colorbar\":{\"outlinewidth\":0,\"ticks\":\"\"}},\"marker\":{\"colorbar\":{\"outlinewidth\":0,\"ticks\":\"\"}}}],\"scattermapbox\":[{\"type\":\"scattermapbox\",\"marker\":{\"colorbar\":{\"outlinewidth\":0,\"ticks\":\"\"}}}],\"scatterternary\":[{\"type\":\"scatterternary\",\"marker\":{\"colorbar\":{\"outlinewidth\":0,\"ticks\":\"\"}}}],\"scattercarpet\":[{\"type\":\"scattercarpet\",\"marker\":{\"colorbar\":{\"outlinewidth\":0,\"ticks\":\"\"}}}],\"carpet\":[{\"aaxis\":{\"endlinecolor\":\"#2a3f5f\",\"gridcolor\":\"white\",\"linecolor\":\"white\",\"minorgridcolor\":\"white\",\"startlinecolor\":\"#2a3f5f\"},\"baxis\":{\"endlinecolor\":\"#2a3f5f\",\"gridcolor\":\"white\",\"linecolor\":\"white\",\"minorgridcolor\":\"white\",\"startlinecolor\":\"#2a3f5f\"},\"type\":\"carpet\"}],\"table\":[{\"cells\":{\"fill\":{\"color\":\"#EBF0F8\"},\"line\":{\"color\":\"white\"}},\"header\":{\"fill\":{\"color\":\"#C8D4E3\"},\"line\":{\"color\":\"white\"}},\"type\":\"table\"}],\"barpolar\":[{\"marker\":{\"line\":{\"color\":\"#E5ECF6\",\"width\":0.5},\"pattern\":{\"fillmode\":\"overlay\",\"size\":10,\"solidity\":0.2}},\"type\":\"barpolar\"}],\"pie\":[{\"automargin\":true,\"type\":\"pie\"}]},\"layout\":{\"autotypenumbers\":\"strict\",\"colorway\":[\"#636efa\",\"#EF553B\",\"#00cc96\",\"#ab63fa\",\"#FFA15A\",\"#19d3f3\",\"#FF6692\",\"#B6E880\",\"#FF97FF\",\"#FECB52\"],\"font\":{\"color\":\"#2a3f5f\"},\"hovermode\":\"closest\",\"hoverlabel\":{\"align\":\"left\"},\"paper_bgcolor\":\"white\",\"plot_bgcolor\":\"#E5ECF6\",\"polar\":{\"bgcolor\":\"#E5ECF6\",\"angularaxis\":{\"gridcolor\":\"white\",\"linecolor\":\"white\",\"ticks\":\"\"},\"radialaxis\":{\"gridcolor\":\"white\",\"linecolor\":\"white\",\"ticks\":\"\"}},\"ternary\":{\"bgcolor\":\"#E5ECF6\",\"aaxis\":{\"gridcolor\":\"white\",\"linecolor\":\"white\",\"ticks\":\"\"},\"baxis\":{\"gridcolor\":\"white\",\"linecolor\":\"white\",\"ticks\":\"\"},\"caxis\":{\"gridcolor\":\"white\",\"linecolor\":\"white\",\"ticks\":\"\"}},\"coloraxis\":{\"colorbar\":{\"outlinewidth\":0,\"ticks\":\"\"}},\"colorscale\":{\"sequential\":[[0.0,\"#0d0887\"],[0.1111111111111111,\"#46039f\"],[0.2222222222222222,\"#7201a8\"],[0.3333333333333333,\"#9c179e\"],[0.4444444444444444,\"#bd3786\"],[0.5555555555555556,\"#d8576b\"],[0.6666666666666666,\"#ed7953\"],[0.7777777777777778,\"#fb9f3a\"],[0.8888888888888888,\"#fdca26\"],[1.0,\"#f0f921\"]],\"sequentialminus\":[[0.0,\"#0d0887\"],[0.1111111111111111,\"#46039f\"],[0.2222222222222222,\"#7201a8\"],[0.3333333333333333,\"#9c179e\"],[0.4444444444444444,\"#bd3786\"],[0.5555555555555556,\"#d8576b\"],[0.6666666666666666,\"#ed7953\"],[0.7777777777777778,\"#fb9f3a\"],[0.8888888888888888,\"#fdca26\"],[1.0,\"#f0f921\"]],\"diverging\":[[0,\"#8e0152\"],[0.1,\"#c51b7d\"],[0.2,\"#de77ae\"],[0.3,\"#f1b6da\"],[0.4,\"#fde0ef\"],[0.5,\"#f7f7f7\"],[0.6,\"#e6f5d0\"],[0.7,\"#b8e186\"],[0.8,\"#7fbc41\"],[0.9,\"#4d9221\"],[1,\"#276419\"]]},\"xaxis\":{\"gridcolor\":\"white\",\"linecolor\":\"white\",\"ticks\":\"\",\"title\":{\"standoff\":15},\"zerolinecolor\":\"white\",\"automargin\":true,\"zerolinewidth\":2},\"yaxis\":{\"gridcolor\":\"white\",\"linecolor\":\"white\",\"ticks\":\"\",\"title\":{\"standoff\":15},\"zerolinecolor\":\"white\",\"automargin\":true,\"zerolinewidth\":2},\"scene\":{\"xaxis\":{\"backgroundcolor\":\"#E5ECF6\",\"gridcolor\":\"white\",\"linecolor\":\"white\",\"showbackground\":true,\"ticks\":\"\",\"zerolinecolor\":\"white\",\"gridwidth\":2},\"yaxis\":{\"backgroundcolor\":\"#E5ECF6\",\"gridcolor\":\"white\",\"linecolor\":\"white\",\"showbackground\":true,\"ticks\":\"\",\"zerolinecolor\":\"white\",\"gridwidth\":2},\"zaxis\":{\"backgroundcolor\":\"#E5ECF6\",\"gridcolor\":\"white\",\"linecolor\":\"white\",\"showbackground\":true,\"ticks\":\"\",\"zerolinecolor\":\"white\",\"gridwidth\":2}},\"shapedefaults\":{\"line\":{\"color\":\"#2a3f5f\"}},\"annotationdefaults\":{\"arrowcolor\":\"#2a3f5f\",\"arrowhead\":0,\"arrowwidth\":1},\"geo\":{\"bgcolor\":\"white\",\"landcolor\":\"#E5ECF6\",\"subunitcolor\":\"white\",\"showland\":true,\"showlakes\":true,\"lakecolor\":\"white\"},\"title\":{\"x\":0.05},\"mapbox\":{\"style\":\"light\"}}},\"geo\":{\"projection\":{\"type\":\"equirectangular\"},\"showframe\":false,\"showcoastlines\":true},\"title\":{\"text\":\"Top 5 Bilateral Migration Corridors\"},\"showlegend\":true},                        {\"responsive\": true}                    ).then(function(){\n",
       "                            \n",
       "var gd = document.getElementById('d043270f-8c0d-43da-a863-c80e7530b70e');\n",
       "var x = new MutationObserver(function (mutations, observer) {{\n",
       "        var display = window.getComputedStyle(gd).display;\n",
       "        if (!display || display === 'none') {{\n",
       "            console.log([gd, 'removed!']);\n",
       "            Plotly.purge(gd);\n",
       "            observer.disconnect();\n",
       "        }}\n",
       "}});\n",
       "\n",
       "// Listen for the removal of the full notebook cells\n",
       "var notebookContainer = gd.closest('#notebook-container');\n",
       "if (notebookContainer) {{\n",
       "    x.observe(notebookContainer, {childList: true});\n",
       "}}\n",
       "\n",
       "// Listen for the clearing of the current output cell\n",
       "var outputEl = gd.closest('.output');\n",
       "if (outputEl) {{\n",
       "    x.observe(outputEl, {childList: true});\n",
       "}}\n",
       "\n",
       "                        })                };                });            </script>        </div>"
      ]
     },
     "metadata": {},
     "output_type": "display_data"
    }
   ],
   "source": [
    "import plotly.graph_objects as go\n",
    "\n",
    "# Capital coordinates as a dictionary (you can expand this if needed)\n",
    "capital_coords = {\n",
    "    'India': [28.6139, 77.2090],\n",
    "    'Pakistan': [33.6844, 73.0479],\n",
    "    'Russian Federation': [55.7558, 37.6173],\n",
    "    'Ukraine': [50.4501, 30.5234],\n",
    "    'Mexico': [19.4326, -99.1332],\n",
    "    'United States': [38.9072, -77.0369],\n",
    "    'Kazakhstan': [51.1694, 71.4491],\n",
    "    'Bangladesh': [23.8103, 90.4125]\n",
    "}\n",
    "\n",
    "# List of top 5 bilateral migration corridors\n",
    "top_bilateral_pairs = [\n",
    "    ('India', 'Pakistan'),\n",
    "    ('Russian Federation', 'Ukraine'),\n",
    "    ('Mexico', 'United States'),\n",
    "    ('Kazakhstan', 'Russian Federation'),\n",
    "    ('Bangladesh', 'India')\n",
    "]\n",
    "\n",
    "# Create the plotly figure\n",
    "fig = go.Figure()\n",
    "\n",
    "# Add arrows for each bilateral pair\n",
    "for origin, dest in top_bilateral_pairs:\n",
    "    if origin in capital_coords and dest in capital_coords:\n",
    "        origin_coords = capital_coords[origin]\n",
    "        dest_coords = capital_coords[dest]\n",
    "        \n",
    "        # Plot lines with arrows for bidirectional migration\n",
    "        fig.add_trace(go.Scattergeo(\n",
    "            locationmode='country names',\n",
    "            lon=[origin_coords[1], dest_coords[1]],  # Longitudes\n",
    "            lat=[origin_coords[0], dest_coords[0]],  # Latitudes\n",
    "            mode='lines+markers',\n",
    "            line=dict(width=2, color='blue'),\n",
    "            marker=dict(size=5, color='red'),\n",
    "            name=f'{origin} to {dest}',\n",
    "            hoverinfo='text'\n",
    "        ))\n",
    "\n",
    "# Update layout for the map\n",
    "fig.update_layout(\n",
    "    title='Top 5 Bilateral Migration Corridors',\n",
    "    showlegend=True,\n",
    "    geo=dict(\n",
    "        showframe=False,\n",
    "        showcoastlines=True,\n",
    "        projection_type='equirectangular'\n",
    "    ),\n",
    ")\n",
    "\n",
    "# Show plot\n",
    "fig.show()\n"
   ]
  },
  {
   "cell_type": "code",
   "execution_count": 83,
   "id": "c7f9846f",
   "metadata": {},
   "outputs": [
    {
     "name": "stdout",
     "output_type": "stream",
     "text": [
      "\u001b[33mWARNING: Ignoring invalid distribution -cipy (/home/IAIS/rrao/anaconda3/envs/domino-generalized/lib/python3.10/site-packages)\u001b[0m\u001b[33m\n",
      "\u001b[0m\u001b[33mWARNING: Ignoring invalid distribution -yarrow (/home/IAIS/rrao/anaconda3/envs/domino-generalized/lib/python3.10/site-packages)\u001b[0m\u001b[33m\n",
      "\u001b[0mCollecting basemap\n",
      "  Obtaining dependency information for basemap from https://files.pythonhosted.org/packages/31/c0/640b7a056671d51453b4685cf4c10f2bbe7326c3c9d301a2358b8889887b/basemap-1.4.1-cp310-cp310-manylinux1_x86_64.whl.metadata\n",
      "  Downloading basemap-1.4.1-cp310-cp310-manylinux1_x86_64.whl.metadata (9.1 kB)\n",
      "Collecting basemap-data-hires\n",
      "  Obtaining dependency information for basemap-data-hires from https://files.pythonhosted.org/packages/11/3a/4a975fc74b63e2d494e236ba70fe765151bf0adad758ad40e4cf4ecf2310/basemap_data_hires-1.3.2-py2.py3-none-any.whl.metadata\n",
      "  Downloading basemap_data_hires-1.3.2-py2.py3-none-any.whl.metadata (2.3 kB)\n",
      "Collecting basemap-data<1.4,>=1.3.2 (from basemap)\n",
      "  Obtaining dependency information for basemap-data<1.4,>=1.3.2 from https://files.pythonhosted.org/packages/2c/c3/63fdb885308c999206c7a497d79a50891581626da7dc491d432d2732bb46/basemap_data-1.3.2-py2.py3-none-any.whl.metadata\n",
      "  Downloading basemap_data-1.3.2-py2.py3-none-any.whl.metadata (2.7 kB)\n",
      "Collecting pyshp<2.4,>=1.2 (from basemap)\n",
      "  Obtaining dependency information for pyshp<2.4,>=1.2 from https://files.pythonhosted.org/packages/98/2f/68116db5b36b895c0450e3072b8cb6c2fac0359279b182ea97014d3c8ac0/pyshp-2.3.1-py2.py3-none-any.whl.metadata\n",
      "  Downloading pyshp-2.3.1-py2.py3-none-any.whl.metadata (55 kB)\n",
      "\u001b[2K     \u001b[90m━━━━━━━━━━━━━━━━━━━━━━━━━━━━━━━━━━━━━━━━\u001b[0m \u001b[32m56.0/56.0 kB\u001b[0m \u001b[31m3.5 MB/s\u001b[0m eta \u001b[36m0:00:00\u001b[0m\n",
      "\u001b[?25hRequirement already satisfied: matplotlib<3.9,>=1.5 in /home/IAIS/rrao/anaconda3/envs/domino-generalized/lib/python3.10/site-packages (from basemap) (3.7.2)\n",
      "Collecting pyproj<3.7.0,>=1.9.3 (from basemap)\n",
      "  Obtaining dependency information for pyproj<3.7.0,>=1.9.3 from https://files.pythonhosted.org/packages/f6/2b/b60cf73b0720abca313bfffef34e34f7f7dae23852b2853cf0368d49426b/pyproj-3.6.1-cp310-cp310-manylinux_2_17_x86_64.manylinux2014_x86_64.whl.metadata\n",
      "  Downloading pyproj-3.6.1-cp310-cp310-manylinux_2_17_x86_64.manylinux2014_x86_64.whl.metadata (31 kB)\n",
      "Requirement already satisfied: packaging<24.0,>=16.0 in /home/IAIS/rrao/anaconda3/envs/domino-generalized/lib/python3.10/site-packages (from basemap) (23.2)\n",
      "Requirement already satisfied: numpy<1.27,>=1.21 in /home/IAIS/rrao/anaconda3/envs/domino-generalized/lib/python3.10/site-packages (from basemap) (1.25.2)\n",
      "Requirement already satisfied: contourpy>=1.0.1 in /home/IAIS/rrao/anaconda3/envs/domino-generalized/lib/python3.10/site-packages (from matplotlib<3.9,>=1.5->basemap) (1.1.0)\n",
      "Requirement already satisfied: cycler>=0.10 in /home/IAIS/rrao/anaconda3/envs/domino-generalized/lib/python3.10/site-packages (from matplotlib<3.9,>=1.5->basemap) (0.11.0)\n",
      "Requirement already satisfied: fonttools>=4.22.0 in /home/IAIS/rrao/anaconda3/envs/domino-generalized/lib/python3.10/site-packages (from matplotlib<3.9,>=1.5->basemap) (4.42.1)\n",
      "Requirement already satisfied: kiwisolver>=1.0.1 in /home/IAIS/rrao/anaconda3/envs/domino-generalized/lib/python3.10/site-packages (from matplotlib<3.9,>=1.5->basemap) (1.4.5)\n",
      "Requirement already satisfied: pillow>=6.2.0 in /home/IAIS/rrao/anaconda3/envs/domino-generalized/lib/python3.10/site-packages (from matplotlib<3.9,>=1.5->basemap) (9.4.0)\n",
      "Requirement already satisfied: pyparsing<3.1,>=2.3.1 in /home/IAIS/rrao/anaconda3/envs/domino-generalized/lib/python3.10/site-packages (from matplotlib<3.9,>=1.5->basemap) (3.0.9)\n",
      "Requirement already satisfied: python-dateutil>=2.7 in /home/IAIS/rrao/anaconda3/envs/domino-generalized/lib/python3.10/site-packages (from matplotlib<3.9,>=1.5->basemap) (2.8.2)\n",
      "Requirement already satisfied: certifi in /home/IAIS/rrao/anaconda3/envs/domino-generalized/lib/python3.10/site-packages (from pyproj<3.7.0,>=1.9.3->basemap) (2023.7.22)\n",
      "Requirement already satisfied: six>=1.5 in /home/IAIS/rrao/anaconda3/envs/domino-generalized/lib/python3.10/site-packages (from python-dateutil>=2.7->matplotlib<3.9,>=1.5->basemap) (1.16.0)\n",
      "Downloading basemap-1.4.1-cp310-cp310-manylinux1_x86_64.whl (935 kB)\n",
      "\u001b[2K   \u001b[90m━━━━━━━━━━━━━━━━━━━━━━━━━━━━━━━━━━━━━━━━\u001b[0m \u001b[32m936.0/936.0 kB\u001b[0m \u001b[31m10.9 MB/s\u001b[0m eta \u001b[36m0:00:00\u001b[0m00:01\u001b[0m00:01\u001b[0m\n",
      "\u001b[?25hDownloading basemap_data_hires-1.3.2-py2.py3-none-any.whl (91.1 MB)\n",
      "\u001b[2K   \u001b[90m━━━━━━━━━━━━━━━━━━━━━━━━━━━━━━━━━━━━━━━━\u001b[0m \u001b[32m91.1/91.1 MB\u001b[0m \u001b[31m7.9 MB/s\u001b[0m eta \u001b[36m0:00:00\u001b[0m:00:01\u001b[0m00:01\u001b[0m\n",
      "\u001b[?25hDownloading basemap_data-1.3.2-py2.py3-none-any.whl (30.5 MB)\n",
      "\u001b[2K   \u001b[90m━━━━━━━━━━━━━━━━━━━━━━━━━━━━━━━━━━━━━━━━\u001b[0m \u001b[32m30.5/30.5 MB\u001b[0m \u001b[31m16.5 MB/s\u001b[0m eta \u001b[36m0:00:00\u001b[0m00:01\u001b[0m00:01\u001b[0m\n",
      "\u001b[?25hDownloading pyproj-3.6.1-cp310-cp310-manylinux_2_17_x86_64.manylinux2014_x86_64.whl (8.3 MB)\n",
      "\u001b[2K   \u001b[90m━━━━━━━━━━━━━━━━━━━━━━━━━━━━━━━━━━━━━━━━\u001b[0m \u001b[32m8.3/8.3 MB\u001b[0m \u001b[31m28.9 MB/s\u001b[0m eta \u001b[36m0:00:00\u001b[0m00:01\u001b[0m00:01\u001b[0m\n",
      "\u001b[?25hDownloading pyshp-2.3.1-py2.py3-none-any.whl (46 kB)\n",
      "\u001b[2K   \u001b[90m━━━━━━━━━━━━━━━━━━━━━━━━━━━━━━━━━━━━━━━━\u001b[0m \u001b[32m46.5/46.5 kB\u001b[0m \u001b[31m5.3 MB/s\u001b[0m eta \u001b[36m0:00:00\u001b[0m\n",
      "\u001b[?25h\u001b[33mWARNING: Ignoring invalid distribution -cipy (/home/IAIS/rrao/anaconda3/envs/domino-generalized/lib/python3.10/site-packages)\u001b[0m\u001b[33m\n",
      "\u001b[0m\u001b[33mWARNING: Ignoring invalid distribution -yarrow (/home/IAIS/rrao/anaconda3/envs/domino-generalized/lib/python3.10/site-packages)\u001b[0m\u001b[33m\n",
      "\u001b[0m\u001b[33mDEPRECATION: meerkat-ml 0.2.5 has a non-standard dependency specifier multiprocess>=0.70.11Cython>=0.29.21. pip 23.3 will enforce this behaviour change. A possible replacement is to upgrade to a newer version of meerkat-ml or contact the author to suggest that they release a version with a conforming dependency specifiers. Discussion can be found at https://github.com/pypa/pip/issues/12063\u001b[0m\u001b[33m\n",
      "\u001b[0mInstalling collected packages: pyshp, pyproj, basemap-data-hires, basemap-data, basemap\n",
      "Successfully installed basemap-1.4.1 basemap-data-1.3.2 basemap-data-hires-1.3.2 pyproj-3.6.1 pyshp-2.3.1\n",
      "Note: you may need to restart the kernel to use updated packages.\n"
     ]
    }
   ],
   "source": [
    "pip install basemap basemap-data-hires"
   ]
  },
  {
   "cell_type": "code",
   "execution_count": 23,
   "id": "7dcfedb3",
   "metadata": {},
   "outputs": [
    {
     "data": {
      "image/png": "[encoded data removed]",
      "text/plain": [
       "<Figure size 1500x1000 with 1 Axes>"
      ]
     },
     "metadata": {},
     "output_type": "display_data"
    }
   ],
   "source": [
    "import matplotlib.pyplot as plt\n",
    "from mpl_toolkits.basemap import Basemap\n",
    "\n",
    "# Define the capital coordinates\n",
    "capital_coords = {\n",
    "    'India': [28.6139, 77.2090],\n",
    "    'Pakistan': [33.6844, 73.0479],\n",
    "    'Russian Federation': [55.7558, 37.6173],\n",
    "    'Ukraine': [50.4501, 30.5234],\n",
    "    'Mexico': [19.4326, -99.1332],\n",
    "    'United States': [38.9072, -77.0369],\n",
    "    'Kazakhstan': [51.1694, 71.4491],\n",
    "    'Bangladesh': [23.8103, 90.4125]\n",
    "}\n",
    "\n",
    "# Top bilateral migration corridors\n",
    "top_bilateral_pairs = [\n",
    "    ('India', 'Pakistan'),\n",
    "    ('Russian Federation', 'Ukraine'),\n",
    "    ('Mexico', 'United States'),\n",
    "    ('Kazakhstan', 'Russian Federation'),\n",
    "    ('Bangladesh', 'India')\n",
    "]\n",
    "\n",
    "# Create a Basemap\n",
    "fig, ax = plt.subplots(figsize=(15, 10))\n",
    "m = Basemap(projection='merc', llcrnrlat=-60, urcrnrlat=90, llcrnrlon=-180, urcrnrlon=180, resolution='c')\n",
    "\n",
    "m.drawcoastlines()\n",
    "m.drawcountries()\n",
    "m.drawmapboundary(fill_color='lightblue')\n",
    "m.fillcontinents(color='lightgray', lake_color='lightblue')\n",
    "\n",
    "# Add migration arrows\n",
    "for origin, dest in top_bilateral_pairs:\n",
    "    origin_coords = capital_coords[origin]\n",
    "    dest_coords = capital_coords[dest]\n",
    "    \n",
    "    # Convert to map projection coordinates\n",
    "    origin_x, origin_y = m(origin_coords[1], origin_coords[0])\n",
    "    dest_x, dest_y = m(dest_coords[1], dest_coords[0])\n",
    "    \n",
    "    # Draw arrows with increased size and width for prominence\n",
    "    plt.arrow(origin_x, origin_y, dest_x - origin_x, dest_y - origin_y,\n",
    "              color='blue', alpha=0.7, head_width=500000, head_length=1000000, linewidth=2)\n",
    "\n",
    "# Title\n",
    "plt.title('Top 5 Bilateral Migration Corridors with Prominent Arrows', fontsize=18)\n",
    "plt.show()\n"
   ]
  },
  {
   "cell_type": "code",
   "execution_count": 86,
   "id": "b674faa9",
   "metadata": {},
   "outputs": [
    {
     "name": "stdout",
     "output_type": "stream",
     "text": [
      "\u001b[33mWARNING: Ignoring invalid distribution -cipy (/home/IAIS/rrao/anaconda3/envs/domino-generalized/lib/python3.10/site-packages)\u001b[0m\u001b[33m\n",
      "\u001b[0m\u001b[33mWARNING: Ignoring invalid distribution -yarrow (/home/IAIS/rrao/anaconda3/envs/domino-generalized/lib/python3.10/site-packages)\u001b[0m\u001b[33m\n",
      "\u001b[0mCollecting geopandas\n",
      "  Obtaining dependency information for geopandas from https://files.pythonhosted.org/packages/c4/64/7d344cfcef5efddf9cf32f59af7f855828e9d74b5f862eddf5bfd9f25323/geopandas-1.0.1-py3-none-any.whl.metadata\n",
      "  Downloading geopandas-1.0.1-py3-none-any.whl.metadata (2.2 kB)\n",
      "Collecting folium\n",
      "  Obtaining dependency information for folium from https://files.pythonhosted.org/packages/ae/6d/18a7546e1748ecdd6ed7cd00d3f183faf1df08bd4f5e5e0eb3e72458b862/folium-0.17.0-py2.py3-none-any.whl.metadata\n",
      "  Downloading folium-0.17.0-py2.py3-none-any.whl.metadata (3.8 kB)\n",
      "Requirement already satisfied: numpy>=1.22 in /home/IAIS/rrao/anaconda3/envs/domino-generalized/lib/python3.10/site-packages (from geopandas) (1.25.2)\n",
      "Collecting pyogrio>=0.7.2 (from geopandas)\n",
      "  Obtaining dependency information for pyogrio>=0.7.2 from https://files.pythonhosted.org/packages/a2/02/ced7d7c24750f59ff78241d9adf424fbd295c130d9a287326fa1891738fa/pyogrio-0.9.0-cp310-cp310-manylinux_2_17_x86_64.manylinux2014_x86_64.whl.metadata\n",
      "  Downloading pyogrio-0.9.0-cp310-cp310-manylinux_2_17_x86_64.manylinux2014_x86_64.whl.metadata (3.8 kB)\n",
      "Requirement already satisfied: packaging in /home/IAIS/rrao/anaconda3/envs/domino-generalized/lib/python3.10/site-packages (from geopandas) (23.2)\n",
      "Requirement already satisfied: pandas>=1.4.0 in /home/IAIS/rrao/anaconda3/envs/domino-generalized/lib/python3.10/site-packages (from geopandas) (1.5.3)\n",
      "Requirement already satisfied: pyproj>=3.3.0 in /home/IAIS/rrao/anaconda3/envs/domino-generalized/lib/python3.10/site-packages (from geopandas) (3.6.1)\n",
      "Collecting shapely>=2.0.0 (from geopandas)\n",
      "  Obtaining dependency information for shapely>=2.0.0 from https://files.pythonhosted.org/packages/2b/a6/302e0d9c210ccf4d1ffadf7ab941797d3255dcd5f93daa73aaf116a4db39/shapely-2.0.6-cp310-cp310-manylinux_2_17_x86_64.manylinux2014_x86_64.whl.metadata\n",
      "  Downloading shapely-2.0.6-cp310-cp310-manylinux_2_17_x86_64.manylinux2014_x86_64.whl.metadata (7.0 kB)\n",
      "Collecting branca>=0.6.0 (from folium)\n",
      "  Obtaining dependency information for branca>=0.6.0 from https://files.pythonhosted.org/packages/75/ca/6074ab4a04dd1a503201c18091b3426f3709670115fae316907a97f98d75/branca-0.7.2-py3-none-any.whl.metadata\n",
      "  Downloading branca-0.7.2-py3-none-any.whl.metadata (1.5 kB)\n",
      "Requirement already satisfied: jinja2>=2.9 in /home/IAIS/rrao/anaconda3/envs/domino-generalized/lib/python3.10/site-packages (from folium) (3.1.2)\n",
      "Requirement already satisfied: requests in /home/IAIS/rrao/anaconda3/envs/domino-generalized/lib/python3.10/site-packages (from folium) (2.28.1)\n",
      "Collecting xyzservices (from folium)\n",
      "  Obtaining dependency information for xyzservices from https://files.pythonhosted.org/packages/4c/d3/e07ce413d16ef64e885bea37551eac4c5ca3ddd440933f9c94594273d0d9/xyzservices-2024.9.0-py3-none-any.whl.metadata\n",
      "  Downloading xyzservices-2024.9.0-py3-none-any.whl.metadata (4.1 kB)\n",
      "Requirement already satisfied: MarkupSafe>=2.0 in /home/IAIS/rrao/anaconda3/envs/domino-generalized/lib/python3.10/site-packages (from jinja2>=2.9->folium) (2.1.1)\n",
      "Requirement already satisfied: python-dateutil>=2.8.1 in /home/IAIS/rrao/anaconda3/envs/domino-generalized/lib/python3.10/site-packages (from pandas>=1.4.0->geopandas) (2.8.2)\n",
      "Requirement already satisfied: pytz>=2020.1 in /home/IAIS/rrao/anaconda3/envs/domino-generalized/lib/python3.10/site-packages (from pandas>=1.4.0->geopandas) (2022.7)\n",
      "Requirement already satisfied: certifi in /home/IAIS/rrao/anaconda3/envs/domino-generalized/lib/python3.10/site-packages (from pyogrio>=0.7.2->geopandas) (2023.7.22)\n",
      "Requirement already satisfied: charset-normalizer<3,>=2 in /home/IAIS/rrao/anaconda3/envs/domino-generalized/lib/python3.10/site-packages (from requests->folium) (2.0.4)\n",
      "Requirement already satisfied: idna<4,>=2.5 in /home/IAIS/rrao/anaconda3/envs/domino-generalized/lib/python3.10/site-packages (from requests->folium) (3.4)\n",
      "Requirement already satisfied: urllib3<1.27,>=1.21.1 in /home/IAIS/rrao/anaconda3/envs/domino-generalized/lib/python3.10/site-packages (from requests->folium) (1.26.14)\n",
      "Requirement already satisfied: six>=1.5 in /home/IAIS/rrao/anaconda3/envs/domino-generalized/lib/python3.10/site-packages (from python-dateutil>=2.8.1->pandas>=1.4.0->geopandas) (1.16.0)\n",
      "Using cached geopandas-1.0.1-py3-none-any.whl (323 kB)\n",
      "Using cached folium-0.17.0-py2.py3-none-any.whl (108 kB)\n",
      "Using cached branca-0.7.2-py3-none-any.whl (25 kB)\n",
      "Downloading pyogrio-0.9.0-cp310-cp310-manylinux_2_17_x86_64.manylinux2014_x86_64.whl (23.1 MB)\n",
      "\u001b[2K   \u001b[90m━━━━━━━━━━━━━━━━━━━━━━━━━━━━━━━━━━━━━━━━\u001b[0m \u001b[32m23.1/23.1 MB\u001b[0m \u001b[31m19.3 MB/s\u001b[0m eta \u001b[36m0:00:00\u001b[0m00:01\u001b[0m00:01\u001b[0m\n",
      "\u001b[?25hDownloading shapely-2.0.6-cp310-cp310-manylinux_2_17_x86_64.manylinux2014_x86_64.whl (2.5 MB)\n",
      "\u001b[2K   \u001b[90m━━━━━━━━━━━━━━━━━━━━━━━━━━━━━━━━━━━━━━━━\u001b[0m \u001b[32m2.5/2.5 MB\u001b[0m \u001b[31m30.3 MB/s\u001b[0m eta \u001b[36m0:00:00\u001b[0m00:01\u001b[0m00:01\u001b[0m\n",
      "\u001b[?25hUsing cached xyzservices-2024.9.0-py3-none-any.whl (85 kB)\n",
      "\u001b[33mWARNING: Ignoring invalid distribution -cipy (/home/IAIS/rrao/anaconda3/envs/domino-generalized/lib/python3.10/site-packages)\u001b[0m\u001b[33m\n",
      "\u001b[0m\u001b[33mWARNING: Ignoring invalid distribution -yarrow (/home/IAIS/rrao/anaconda3/envs/domino-generalized/lib/python3.10/site-packages)\u001b[0m\u001b[33m\n",
      "\u001b[0m\u001b[33mDEPRECATION: meerkat-ml 0.2.5 has a non-standard dependency specifier multiprocess>=0.70.11Cython>=0.29.21. pip 23.3 will enforce this behaviour change. A possible replacement is to upgrade to a newer version of meerkat-ml or contact the author to suggest that they release a version with a conforming dependency specifiers. Discussion can be found at https://github.com/pypa/pip/issues/12063\u001b[0m\u001b[33m\n",
      "\u001b[0mInstalling collected packages: xyzservices, shapely, pyogrio, branca, geopandas, folium\n",
      "Successfully installed branca-0.7.2 folium-0.17.0 geopandas-1.0.1 pyogrio-0.9.0 shapely-2.0.6 xyzservices-2024.9.0\n",
      "Note: you may need to restart the kernel to use updated packages.\n"
     ]
    }
   ],
   "source": [
    "pip install geopandas folium"
   ]
  },
  {
   "cell_type": "code",
   "execution_count": 24,
   "id": "44a2a595",
   "metadata": {},
   "outputs": [
    {
     "data": {
      "text/html": [
       "<div style=\"width:100%;\"><div style=\"position:relative;width:100%;height:0;padding-bottom:60%;\"><span style=\"color:#565656\">Make this Notebook Trusted to load map: File -> Trust Notebook</span><iframe srcdoc=\"&lt;!DOCTYPE html&gt;\n",
       "&lt;html&gt;\n",
       "&lt;head&gt;\n",
       "    \n",
       "    &lt;meta http-equiv=&quot;content-type&quot; content=&quot;text/html; charset=UTF-8&quot; /&gt;\n",
       "    \n",
       "        &lt;script&gt;\n",
       "            L_NO_TOUCH = false;\n",
       "            L_DISABLE_3D = false;\n",
       "        &lt;/script&gt;\n",
       "    \n",
       "    &lt;style&gt;html, body {width: 100%;height: 100%;margin: 0;padding: 0;}&lt;/style&gt;\n",
       "    &lt;style&gt;#map {position:absolute;top:0;bottom:0;right:0;left:0;}&lt;/style&gt;\n",
       "    &lt;script src=&quot;https://cdn.jsdelivr.net/npm/leaflet@1.9.3/dist/leaflet.js&quot;&gt;&lt;/script&gt;\n",
       "    &lt;script src=&quot;https://code.jquery.com/jquery-3.7.1.min.js&quot;&gt;&lt;/script&gt;\n",
       "    &lt;script src=&quot;https://cdn.jsdelivr.net/npm/bootstrap@5.2.2/dist/js/bootstrap.bundle.min.js&quot;&gt;&lt;/script&gt;\n",
       "    &lt;script src=&quot;https://cdnjs.cloudflare.com/ajax/libs/Leaflet.awesome-markers/2.0.2/leaflet.awesome-markers.js&quot;&gt;&lt;/script&gt;\n",
       "    &lt;link rel=&quot;stylesheet&quot; href=&quot;https://cdn.jsdelivr.net/npm/leaflet@1.9.3/dist/leaflet.css&quot;/&gt;\n",
       "    &lt;link rel=&quot;stylesheet&quot; href=&quot;https://cdn.jsdelivr.net/npm/bootstrap@5.2.2/dist/css/bootstrap.min.css&quot;/&gt;\n",
       "    &lt;link rel=&quot;stylesheet&quot; href=&quot;https://netdna.bootstrapcdn.com/bootstrap/3.0.0/css/bootstrap-glyphicons.css&quot;/&gt;\n",
       "    &lt;link rel=&quot;stylesheet&quot; href=&quot;https://cdn.jsdelivr.net/npm/@fortawesome/fontawesome-free@6.2.0/css/all.min.css&quot;/&gt;\n",
       "    &lt;link rel=&quot;stylesheet&quot; href=&quot;https://cdnjs.cloudflare.com/ajax/libs/Leaflet.awesome-markers/2.0.2/leaflet.awesome-markers.css&quot;/&gt;\n",
       "    &lt;link rel=&quot;stylesheet&quot; href=&quot;https://cdn.jsdelivr.net/gh/python-visualization/folium/folium/templates/leaflet.awesome.rotate.min.css&quot;/&gt;\n",
       "    \n",
       "            &lt;meta name=&quot;viewport&quot; content=&quot;width=device-width,\n",
       "                initial-scale=1.0, maximum-scale=1.0, user-scalable=no&quot; /&gt;\n",
       "            &lt;style&gt;\n",
       "                #map_e9b3055f5038e33b6b74f9968b124c1f {\n",
       "                    position: relative;\n",
       "                    width: 100.0%;\n",
       "                    height: 100.0%;\n",
       "                    left: 0.0%;\n",
       "                    top: 0.0%;\n",
       "                }\n",
       "                .leaflet-container { font-size: 1rem; }\n",
       "            &lt;/style&gt;\n",
       "        \n",
       "&lt;/head&gt;\n",
       "&lt;body&gt;\n",
       "    \n",
       "    \n",
       "            &lt;div class=&quot;folium-map&quot; id=&quot;map_e9b3055f5038e33b6b74f9968b124c1f&quot; &gt;&lt;/div&gt;\n",
       "        \n",
       "&lt;/body&gt;\n",
       "&lt;script&gt;\n",
       "    \n",
       "    \n",
       "            var map_e9b3055f5038e33b6b74f9968b124c1f = L.map(\n",
       "                &quot;map_e9b3055f5038e33b6b74f9968b124c1f&quot;,\n",
       "                {\n",
       "                    center: [20.0, 0.0],\n",
       "                    crs: L.CRS.EPSG3857,\n",
       "                    zoom: 2,\n",
       "                    zoomControl: true,\n",
       "                    preferCanvas: false,\n",
       "                }\n",
       "            );\n",
       "\n",
       "            \n",
       "\n",
       "        \n",
       "    \n",
       "            var tile_layer_9cc2217e4aa0b10645efd0204eaa5534 = L.tileLayer(\n",
       "                &quot;https://tile.openstreetmap.org/{z}/{x}/{y}.png&quot;,\n",
       "                {&quot;attribution&quot;: &quot;\\u0026copy; \\u003ca href=\\&quot;https://www.openstreetmap.org/copyright\\&quot;\\u003eOpenStreetMap\\u003c/a\\u003e contributors&quot;, &quot;detectRetina&quot;: false, &quot;maxNativeZoom&quot;: 19, &quot;maxZoom&quot;: 19, &quot;minZoom&quot;: 0, &quot;noWrap&quot;: false, &quot;opacity&quot;: 1, &quot;subdomains&quot;: &quot;abc&quot;, &quot;tms&quot;: false}\n",
       "            );\n",
       "        \n",
       "    \n",
       "            tile_layer_9cc2217e4aa0b10645efd0204eaa5534.addTo(map_e9b3055f5038e33b6b74f9968b124c1f);\n",
       "        \n",
       "    \n",
       "            var poly_line_02713d1ccb7166d96f5c8d8c4fa4f57f = L.polyline(\n",
       "                [[28.6139, 77.209], [33.6844, 73.0479]],\n",
       "                {&quot;bubblingMouseEvents&quot;: true, &quot;color&quot;: &quot;blue&quot;, &quot;dashArray&quot;: null, &quot;dashOffset&quot;: null, &quot;fill&quot;: false, &quot;fillColor&quot;: &quot;blue&quot;, &quot;fillOpacity&quot;: 0.2, &quot;fillRule&quot;: &quot;evenodd&quot;, &quot;lineCap&quot;: &quot;round&quot;, &quot;lineJoin&quot;: &quot;round&quot;, &quot;noClip&quot;: false, &quot;opacity&quot;: 0.6, &quot;smoothFactor&quot;: 1.0, &quot;stroke&quot;: true, &quot;weight&quot;: 4}\n",
       "            ).addTo(map_e9b3055f5038e33b6b74f9968b124c1f);\n",
       "        \n",
       "    \n",
       "            var poly_line_a4e313c24376954f05816f812c24c567 = L.polyline(\n",
       "                [[55.7558, 37.6173], [50.4501, 30.5234]],\n",
       "                {&quot;bubblingMouseEvents&quot;: true, &quot;color&quot;: &quot;blue&quot;, &quot;dashArray&quot;: null, &quot;dashOffset&quot;: null, &quot;fill&quot;: false, &quot;fillColor&quot;: &quot;blue&quot;, &quot;fillOpacity&quot;: 0.2, &quot;fillRule&quot;: &quot;evenodd&quot;, &quot;lineCap&quot;: &quot;round&quot;, &quot;lineJoin&quot;: &quot;round&quot;, &quot;noClip&quot;: false, &quot;opacity&quot;: 0.6, &quot;smoothFactor&quot;: 1.0, &quot;stroke&quot;: true, &quot;weight&quot;: 4}\n",
       "            ).addTo(map_e9b3055f5038e33b6b74f9968b124c1f);\n",
       "        \n",
       "    \n",
       "            var poly_line_fbe8eada841d446e970f9e9676c95243 = L.polyline(\n",
       "                [[19.4326, -99.1332], [38.9072, -77.0369]],\n",
       "                {&quot;bubblingMouseEvents&quot;: true, &quot;color&quot;: &quot;blue&quot;, &quot;dashArray&quot;: null, &quot;dashOffset&quot;: null, &quot;fill&quot;: false, &quot;fillColor&quot;: &quot;blue&quot;, &quot;fillOpacity&quot;: 0.2, &quot;fillRule&quot;: &quot;evenodd&quot;, &quot;lineCap&quot;: &quot;round&quot;, &quot;lineJoin&quot;: &quot;round&quot;, &quot;noClip&quot;: false, &quot;opacity&quot;: 0.6, &quot;smoothFactor&quot;: 1.0, &quot;stroke&quot;: true, &quot;weight&quot;: 4}\n",
       "            ).addTo(map_e9b3055f5038e33b6b74f9968b124c1f);\n",
       "        \n",
       "    \n",
       "            var poly_line_d2b5482508f95fb40fdc2b960f5473d3 = L.polyline(\n",
       "                [[51.1694, 71.4491], [55.7558, 37.6173]],\n",
       "                {&quot;bubblingMouseEvents&quot;: true, &quot;color&quot;: &quot;blue&quot;, &quot;dashArray&quot;: null, &quot;dashOffset&quot;: null, &quot;fill&quot;: false, &quot;fillColor&quot;: &quot;blue&quot;, &quot;fillOpacity&quot;: 0.2, &quot;fillRule&quot;: &quot;evenodd&quot;, &quot;lineCap&quot;: &quot;round&quot;, &quot;lineJoin&quot;: &quot;round&quot;, &quot;noClip&quot;: false, &quot;opacity&quot;: 0.6, &quot;smoothFactor&quot;: 1.0, &quot;stroke&quot;: true, &quot;weight&quot;: 4}\n",
       "            ).addTo(map_e9b3055f5038e33b6b74f9968b124c1f);\n",
       "        \n",
       "    \n",
       "            var poly_line_a9b391a137482e607c49d0644a65e705 = L.polyline(\n",
       "                [[23.8103, 90.4125], [28.6139, 77.209]],\n",
       "                {&quot;bubblingMouseEvents&quot;: true, &quot;color&quot;: &quot;blue&quot;, &quot;dashArray&quot;: null, &quot;dashOffset&quot;: null, &quot;fill&quot;: false, &quot;fillColor&quot;: &quot;blue&quot;, &quot;fillOpacity&quot;: 0.2, &quot;fillRule&quot;: &quot;evenodd&quot;, &quot;lineCap&quot;: &quot;round&quot;, &quot;lineJoin&quot;: &quot;round&quot;, &quot;noClip&quot;: false, &quot;opacity&quot;: 0.6, &quot;smoothFactor&quot;: 1.0, &quot;stroke&quot;: true, &quot;weight&quot;: 4}\n",
       "            ).addTo(map_e9b3055f5038e33b6b74f9968b124c1f);\n",
       "        \n",
       "    \n",
       "            tile_layer_9cc2217e4aa0b10645efd0204eaa5534.addTo(map_e9b3055f5038e33b6b74f9968b124c1f);\n",
       "        \n",
       "&lt;/script&gt;\n",
       "&lt;/html&gt;\" style=\"position:absolute;width:100%;height:100%;left:0;top:0;border:none !important;\" allowfullscreen webkitallowfullscreen mozallowfullscreen></iframe></div></div>"
      ],
      "text/plain": [
       "<folium.folium.Map at 0x7f2241be2800>"
      ]
     },
     "execution_count": 24,
     "metadata": {},
     "output_type": "execute_result"
    }
   ],
   "source": [
    "import folium\n",
    "\n",
    "# Center of the map\n",
    "m = folium.Map(location=[20, 0], zoom_start=2, tiles='OpenStreetMap')\n",
    "\n",
    "# Add migration lines between origin and destination\n",
    "for origin, dest in top_bilateral_pairs:\n",
    "    origin_coords = capital_coords[origin]\n",
    "    dest_coords = capital_coords[dest]\n",
    "    \n",
    "    # Add line (bidirectional arrow effect)\n",
    "    folium.PolyLine(\n",
    "        locations=[origin_coords, dest_coords],\n",
    "        color='blue',\n",
    "        weight=4,\n",
    "        opacity=0.6\n",
    "    ).add_to(m)\n",
    "\n",
    "# Save to HTML file\n",
    "m.save(\"top_migration_corridors.html\")\n",
    "\n",
    "# Display map inline in notebook\n",
    "m\n"
   ]
  },
  {
   "cell_type": "code",
   "execution_count": 25,
   "id": "884c8bd0",
   "metadata": {},
   "outputs": [
    {
     "data": {
      "text/html": [
       "<div style=\"width:100%;\"><div style=\"position:relative;width:100%;height:0;padding-bottom:60%;\"><span style=\"color:#565656\">Make this Notebook Trusted to load map: File -> Trust Notebook</span><iframe srcdoc=\"&lt;!DOCTYPE html&gt;\n",
       "&lt;html&gt;\n",
       "&lt;head&gt;\n",
       "    \n",
       "    &lt;meta http-equiv=&quot;content-type&quot; content=&quot;text/html; charset=UTF-8&quot; /&gt;\n",
       "    \n",
       "        &lt;script&gt;\n",
       "            L_NO_TOUCH = false;\n",
       "            L_DISABLE_3D = false;\n",
       "        &lt;/script&gt;\n",
       "    \n",
       "    &lt;style&gt;html, body {width: 100%;height: 100%;margin: 0;padding: 0;}&lt;/style&gt;\n",
       "    &lt;style&gt;#map {position:absolute;top:0;bottom:0;right:0;left:0;}&lt;/style&gt;\n",
       "    &lt;script src=&quot;https://cdn.jsdelivr.net/npm/leaflet@1.9.3/dist/leaflet.js&quot;&gt;&lt;/script&gt;\n",
       "    &lt;script src=&quot;https://code.jquery.com/jquery-3.7.1.min.js&quot;&gt;&lt;/script&gt;\n",
       "    &lt;script src=&quot;https://cdn.jsdelivr.net/npm/bootstrap@5.2.2/dist/js/bootstrap.bundle.min.js&quot;&gt;&lt;/script&gt;\n",
       "    &lt;script src=&quot;https://cdnjs.cloudflare.com/ajax/libs/Leaflet.awesome-markers/2.0.2/leaflet.awesome-markers.js&quot;&gt;&lt;/script&gt;\n",
       "    &lt;link rel=&quot;stylesheet&quot; href=&quot;https://cdn.jsdelivr.net/npm/leaflet@1.9.3/dist/leaflet.css&quot;/&gt;\n",
       "    &lt;link rel=&quot;stylesheet&quot; href=&quot;https://cdn.jsdelivr.net/npm/bootstrap@5.2.2/dist/css/bootstrap.min.css&quot;/&gt;\n",
       "    &lt;link rel=&quot;stylesheet&quot; href=&quot;https://netdna.bootstrapcdn.com/bootstrap/3.0.0/css/bootstrap-glyphicons.css&quot;/&gt;\n",
       "    &lt;link rel=&quot;stylesheet&quot; href=&quot;https://cdn.jsdelivr.net/npm/@fortawesome/fontawesome-free@6.2.0/css/all.min.css&quot;/&gt;\n",
       "    &lt;link rel=&quot;stylesheet&quot; href=&quot;https://cdnjs.cloudflare.com/ajax/libs/Leaflet.awesome-markers/2.0.2/leaflet.awesome-markers.css&quot;/&gt;\n",
       "    &lt;link rel=&quot;stylesheet&quot; href=&quot;https://cdn.jsdelivr.net/gh/python-visualization/folium/folium/templates/leaflet.awesome.rotate.min.css&quot;/&gt;\n",
       "    \n",
       "            &lt;meta name=&quot;viewport&quot; content=&quot;width=device-width,\n",
       "                initial-scale=1.0, maximum-scale=1.0, user-scalable=no&quot; /&gt;\n",
       "            &lt;style&gt;\n",
       "                #map_780173221d880f49c2effd1c55c6b9c3 {\n",
       "                    position: relative;\n",
       "                    width: 100.0%;\n",
       "                    height: 100.0%;\n",
       "                    left: 0.0%;\n",
       "                    top: 0.0%;\n",
       "                }\n",
       "                .leaflet-container { font-size: 1rem; }\n",
       "            &lt;/style&gt;\n",
       "        \n",
       "&lt;/head&gt;\n",
       "&lt;body&gt;\n",
       "    \n",
       "    \n",
       "            &lt;div class=&quot;folium-map&quot; id=&quot;map_780173221d880f49c2effd1c55c6b9c3&quot; &gt;&lt;/div&gt;\n",
       "        \n",
       "&lt;/body&gt;\n",
       "&lt;script&gt;\n",
       "    \n",
       "    \n",
       "            var map_780173221d880f49c2effd1c55c6b9c3 = L.map(\n",
       "                &quot;map_780173221d880f49c2effd1c55c6b9c3&quot;,\n",
       "                {\n",
       "                    center: [20.0, 0.0],\n",
       "                    crs: L.CRS.EPSG3857,\n",
       "                    zoom: 2,\n",
       "                    zoomControl: true,\n",
       "                    preferCanvas: false,\n",
       "                }\n",
       "            );\n",
       "\n",
       "            \n",
       "\n",
       "        \n",
       "    \n",
       "            var tile_layer_1ac165c96d292979c73fac8691179e9a = L.tileLayer(\n",
       "                &quot;https://tile.openstreetmap.org/{z}/{x}/{y}.png&quot;,\n",
       "                {&quot;attribution&quot;: &quot;\\u0026copy; \\u003ca href=\\&quot;https://www.openstreetmap.org/copyright\\&quot;\\u003eOpenStreetMap\\u003c/a\\u003e contributors&quot;, &quot;detectRetina&quot;: false, &quot;maxNativeZoom&quot;: 19, &quot;maxZoom&quot;: 19, &quot;minZoom&quot;: 0, &quot;noWrap&quot;: false, &quot;opacity&quot;: 1, &quot;subdomains&quot;: &quot;abc&quot;, &quot;tms&quot;: false}\n",
       "            );\n",
       "        \n",
       "    \n",
       "            tile_layer_1ac165c96d292979c73fac8691179e9a.addTo(map_780173221d880f49c2effd1c55c6b9c3);\n",
       "        \n",
       "    \n",
       "            var poly_line_b59077fd5ce7a6564adeaf4fca4a3c0f = L.polyline(\n",
       "                [[28.6139, 77.209], [33.6844, 73.0479]],\n",
       "                {&quot;bubblingMouseEvents&quot;: true, &quot;color&quot;: &quot;blue&quot;, &quot;dashArray&quot;: null, &quot;dashOffset&quot;: null, &quot;fill&quot;: false, &quot;fillColor&quot;: &quot;blue&quot;, &quot;fillOpacity&quot;: 0.2, &quot;fillRule&quot;: &quot;evenodd&quot;, &quot;lineCap&quot;: &quot;round&quot;, &quot;lineJoin&quot;: &quot;round&quot;, &quot;noClip&quot;: false, &quot;opacity&quot;: 0.6, &quot;smoothFactor&quot;: 1.0, &quot;stroke&quot;: true, &quot;weight&quot;: 4}\n",
       "            ).addTo(map_780173221d880f49c2effd1c55c6b9c3);\n",
       "        \n",
       "    \n",
       "            var marker_3a24123f3805f1f216d40c8f6c537658 = L.marker(\n",
       "                [28.6139, 77.209],\n",
       "                {}\n",
       "            ).addTo(map_780173221d880f49c2effd1c55c6b9c3);\n",
       "        \n",
       "    \n",
       "            var icon_62757f395d0e183c5d9eabdd9600e2a1 = L.AwesomeMarkers.icon(\n",
       "                {&quot;extraClasses&quot;: &quot;fa-rotate-0&quot;, &quot;icon&quot;: &quot;info-sign&quot;, &quot;iconColor&quot;: &quot;white&quot;, &quot;markerColor&quot;: &quot;red&quot;, &quot;prefix&quot;: &quot;glyphicon&quot;}\n",
       "            );\n",
       "            marker_3a24123f3805f1f216d40c8f6c537658.setIcon(icon_62757f395d0e183c5d9eabdd9600e2a1);\n",
       "        \n",
       "    \n",
       "        var popup_c8580ad5a7c702dace8f6efbcd7d823d = L.popup({&quot;maxWidth&quot;: &quot;100%&quot;});\n",
       "\n",
       "        \n",
       "            \n",
       "                var html_4389183e111960e4ca5f05212747b592 = $(`&lt;div id=&quot;html_4389183e111960e4ca5f05212747b592&quot; style=&quot;width: 100.0%; height: 100.0%;&quot;&gt;India (Origin)&lt;/div&gt;`)[0];\n",
       "                popup_c8580ad5a7c702dace8f6efbcd7d823d.setContent(html_4389183e111960e4ca5f05212747b592);\n",
       "            \n",
       "        \n",
       "\n",
       "        marker_3a24123f3805f1f216d40c8f6c537658.bindPopup(popup_c8580ad5a7c702dace8f6efbcd7d823d)\n",
       "        ;\n",
       "\n",
       "        \n",
       "    \n",
       "    \n",
       "            var marker_9e8241852d9e424e3eab28a9f1e0690e = L.marker(\n",
       "                [33.6844, 73.0479],\n",
       "                {}\n",
       "            ).addTo(map_780173221d880f49c2effd1c55c6b9c3);\n",
       "        \n",
       "    \n",
       "            var icon_4b5e57918656940ea54c2acdee0ca856 = L.AwesomeMarkers.icon(\n",
       "                {&quot;extraClasses&quot;: &quot;fa-rotate-0&quot;, &quot;icon&quot;: &quot;info-sign&quot;, &quot;iconColor&quot;: &quot;white&quot;, &quot;markerColor&quot;: &quot;red&quot;, &quot;prefix&quot;: &quot;glyphicon&quot;}\n",
       "            );\n",
       "            marker_9e8241852d9e424e3eab28a9f1e0690e.setIcon(icon_4b5e57918656940ea54c2acdee0ca856);\n",
       "        \n",
       "    \n",
       "        var popup_bd4f469b65e9ea471ccc7786abe76424 = L.popup({&quot;maxWidth&quot;: &quot;100%&quot;});\n",
       "\n",
       "        \n",
       "            \n",
       "                var html_ac0e50e64f915aeaf8fabab3d6a86090 = $(`&lt;div id=&quot;html_ac0e50e64f915aeaf8fabab3d6a86090&quot; style=&quot;width: 100.0%; height: 100.0%;&quot;&gt;Pakistan (Destination)&lt;/div&gt;`)[0];\n",
       "                popup_bd4f469b65e9ea471ccc7786abe76424.setContent(html_ac0e50e64f915aeaf8fabab3d6a86090);\n",
       "            \n",
       "        \n",
       "\n",
       "        marker_9e8241852d9e424e3eab28a9f1e0690e.bindPopup(popup_bd4f469b65e9ea471ccc7786abe76424)\n",
       "        ;\n",
       "\n",
       "        \n",
       "    \n",
       "    \n",
       "            var poly_line_dc8ad1bf28b41f390a00a03c33a46d59 = L.polyline(\n",
       "                [[55.7558, 37.6173], [50.4501, 30.5234]],\n",
       "                {&quot;bubblingMouseEvents&quot;: true, &quot;color&quot;: &quot;blue&quot;, &quot;dashArray&quot;: null, &quot;dashOffset&quot;: null, &quot;fill&quot;: false, &quot;fillColor&quot;: &quot;blue&quot;, &quot;fillOpacity&quot;: 0.2, &quot;fillRule&quot;: &quot;evenodd&quot;, &quot;lineCap&quot;: &quot;round&quot;, &quot;lineJoin&quot;: &quot;round&quot;, &quot;noClip&quot;: false, &quot;opacity&quot;: 0.6, &quot;smoothFactor&quot;: 1.0, &quot;stroke&quot;: true, &quot;weight&quot;: 4}\n",
       "            ).addTo(map_780173221d880f49c2effd1c55c6b9c3);\n",
       "        \n",
       "    \n",
       "            var marker_64c5e7f467a7cdef703d3b880e165b56 = L.marker(\n",
       "                [55.7558, 37.6173],\n",
       "                {}\n",
       "            ).addTo(map_780173221d880f49c2effd1c55c6b9c3);\n",
       "        \n",
       "    \n",
       "            var icon_c93419810eee26b85840c4198ac72d84 = L.AwesomeMarkers.icon(\n",
       "                {&quot;extraClasses&quot;: &quot;fa-rotate-0&quot;, &quot;icon&quot;: &quot;info-sign&quot;, &quot;iconColor&quot;: &quot;white&quot;, &quot;markerColor&quot;: &quot;red&quot;, &quot;prefix&quot;: &quot;glyphicon&quot;}\n",
       "            );\n",
       "            marker_64c5e7f467a7cdef703d3b880e165b56.setIcon(icon_c93419810eee26b85840c4198ac72d84);\n",
       "        \n",
       "    \n",
       "        var popup_d763da75a0647b84a44d1932f33dcf71 = L.popup({&quot;maxWidth&quot;: &quot;100%&quot;});\n",
       "\n",
       "        \n",
       "            \n",
       "                var html_60ec23b86b5b5b33708ee236baf4fb78 = $(`&lt;div id=&quot;html_60ec23b86b5b5b33708ee236baf4fb78&quot; style=&quot;width: 100.0%; height: 100.0%;&quot;&gt;Russian Federation (Origin)&lt;/div&gt;`)[0];\n",
       "                popup_d763da75a0647b84a44d1932f33dcf71.setContent(html_60ec23b86b5b5b33708ee236baf4fb78);\n",
       "            \n",
       "        \n",
       "\n",
       "        marker_64c5e7f467a7cdef703d3b880e165b56.bindPopup(popup_d763da75a0647b84a44d1932f33dcf71)\n",
       "        ;\n",
       "\n",
       "        \n",
       "    \n",
       "    \n",
       "            var marker_c5883be59e46bd0dda35c91bde7a69db = L.marker(\n",
       "                [50.4501, 30.5234],\n",
       "                {}\n",
       "            ).addTo(map_780173221d880f49c2effd1c55c6b9c3);\n",
       "        \n",
       "    \n",
       "            var icon_eb844d8f8d7591722db3f5885a1c53b5 = L.AwesomeMarkers.icon(\n",
       "                {&quot;extraClasses&quot;: &quot;fa-rotate-0&quot;, &quot;icon&quot;: &quot;info-sign&quot;, &quot;iconColor&quot;: &quot;white&quot;, &quot;markerColor&quot;: &quot;red&quot;, &quot;prefix&quot;: &quot;glyphicon&quot;}\n",
       "            );\n",
       "            marker_c5883be59e46bd0dda35c91bde7a69db.setIcon(icon_eb844d8f8d7591722db3f5885a1c53b5);\n",
       "        \n",
       "    \n",
       "        var popup_308272acdd0dc8f31d6d6790ded6d06f = L.popup({&quot;maxWidth&quot;: &quot;100%&quot;});\n",
       "\n",
       "        \n",
       "            \n",
       "                var html_2d69c883cf50972f87d385af11ea4756 = $(`&lt;div id=&quot;html_2d69c883cf50972f87d385af11ea4756&quot; style=&quot;width: 100.0%; height: 100.0%;&quot;&gt;Ukraine (Destination)&lt;/div&gt;`)[0];\n",
       "                popup_308272acdd0dc8f31d6d6790ded6d06f.setContent(html_2d69c883cf50972f87d385af11ea4756);\n",
       "            \n",
       "        \n",
       "\n",
       "        marker_c5883be59e46bd0dda35c91bde7a69db.bindPopup(popup_308272acdd0dc8f31d6d6790ded6d06f)\n",
       "        ;\n",
       "\n",
       "        \n",
       "    \n",
       "    \n",
       "            var poly_line_3721a56cb652908287629d1f38dcbd9c = L.polyline(\n",
       "                [[19.4326, -99.1332], [38.9072, -77.0369]],\n",
       "                {&quot;bubblingMouseEvents&quot;: true, &quot;color&quot;: &quot;blue&quot;, &quot;dashArray&quot;: null, &quot;dashOffset&quot;: null, &quot;fill&quot;: false, &quot;fillColor&quot;: &quot;blue&quot;, &quot;fillOpacity&quot;: 0.2, &quot;fillRule&quot;: &quot;evenodd&quot;, &quot;lineCap&quot;: &quot;round&quot;, &quot;lineJoin&quot;: &quot;round&quot;, &quot;noClip&quot;: false, &quot;opacity&quot;: 0.6, &quot;smoothFactor&quot;: 1.0, &quot;stroke&quot;: true, &quot;weight&quot;: 4}\n",
       "            ).addTo(map_780173221d880f49c2effd1c55c6b9c3);\n",
       "        \n",
       "    \n",
       "            var marker_442f6e5cc82022ea4110579e0c0e373a = L.marker(\n",
       "                [19.4326, -99.1332],\n",
       "                {}\n",
       "            ).addTo(map_780173221d880f49c2effd1c55c6b9c3);\n",
       "        \n",
       "    \n",
       "            var icon_6aa0a01690121058a074a9b63008d92b = L.AwesomeMarkers.icon(\n",
       "                {&quot;extraClasses&quot;: &quot;fa-rotate-0&quot;, &quot;icon&quot;: &quot;info-sign&quot;, &quot;iconColor&quot;: &quot;white&quot;, &quot;markerColor&quot;: &quot;red&quot;, &quot;prefix&quot;: &quot;glyphicon&quot;}\n",
       "            );\n",
       "            marker_442f6e5cc82022ea4110579e0c0e373a.setIcon(icon_6aa0a01690121058a074a9b63008d92b);\n",
       "        \n",
       "    \n",
       "        var popup_cc1db3408eecc1a05380b3a9c970cfe6 = L.popup({&quot;maxWidth&quot;: &quot;100%&quot;});\n",
       "\n",
       "        \n",
       "            \n",
       "                var html_a2ac247573150f28d3dc48d8fa145dd8 = $(`&lt;div id=&quot;html_a2ac247573150f28d3dc48d8fa145dd8&quot; style=&quot;width: 100.0%; height: 100.0%;&quot;&gt;Mexico (Origin)&lt;/div&gt;`)[0];\n",
       "                popup_cc1db3408eecc1a05380b3a9c970cfe6.setContent(html_a2ac247573150f28d3dc48d8fa145dd8);\n",
       "            \n",
       "        \n",
       "\n",
       "        marker_442f6e5cc82022ea4110579e0c0e373a.bindPopup(popup_cc1db3408eecc1a05380b3a9c970cfe6)\n",
       "        ;\n",
       "\n",
       "        \n",
       "    \n",
       "    \n",
       "            var marker_02c0e9bbeac3119d72b1b7d35debfa27 = L.marker(\n",
       "                [38.9072, -77.0369],\n",
       "                {}\n",
       "            ).addTo(map_780173221d880f49c2effd1c55c6b9c3);\n",
       "        \n",
       "    \n",
       "            var icon_689455ba94901d6bef260f0aa96cc67f = L.AwesomeMarkers.icon(\n",
       "                {&quot;extraClasses&quot;: &quot;fa-rotate-0&quot;, &quot;icon&quot;: &quot;info-sign&quot;, &quot;iconColor&quot;: &quot;white&quot;, &quot;markerColor&quot;: &quot;red&quot;, &quot;prefix&quot;: &quot;glyphicon&quot;}\n",
       "            );\n",
       "            marker_02c0e9bbeac3119d72b1b7d35debfa27.setIcon(icon_689455ba94901d6bef260f0aa96cc67f);\n",
       "        \n",
       "    \n",
       "        var popup_5ce762e1c04d542be453f355718ce56d = L.popup({&quot;maxWidth&quot;: &quot;100%&quot;});\n",
       "\n",
       "        \n",
       "            \n",
       "                var html_a047ddd739ed3d752bb265eb1aac200c = $(`&lt;div id=&quot;html_a047ddd739ed3d752bb265eb1aac200c&quot; style=&quot;width: 100.0%; height: 100.0%;&quot;&gt;United States (Destination)&lt;/div&gt;`)[0];\n",
       "                popup_5ce762e1c04d542be453f355718ce56d.setContent(html_a047ddd739ed3d752bb265eb1aac200c);\n",
       "            \n",
       "        \n",
       "\n",
       "        marker_02c0e9bbeac3119d72b1b7d35debfa27.bindPopup(popup_5ce762e1c04d542be453f355718ce56d)\n",
       "        ;\n",
       "\n",
       "        \n",
       "    \n",
       "    \n",
       "            var poly_line_f14a50f657222b136ff66b28948ea965 = L.polyline(\n",
       "                [[51.1694, 71.4491], [55.7558, 37.6173]],\n",
       "                {&quot;bubblingMouseEvents&quot;: true, &quot;color&quot;: &quot;blue&quot;, &quot;dashArray&quot;: null, &quot;dashOffset&quot;: null, &quot;fill&quot;: false, &quot;fillColor&quot;: &quot;blue&quot;, &quot;fillOpacity&quot;: 0.2, &quot;fillRule&quot;: &quot;evenodd&quot;, &quot;lineCap&quot;: &quot;round&quot;, &quot;lineJoin&quot;: &quot;round&quot;, &quot;noClip&quot;: false, &quot;opacity&quot;: 0.6, &quot;smoothFactor&quot;: 1.0, &quot;stroke&quot;: true, &quot;weight&quot;: 4}\n",
       "            ).addTo(map_780173221d880f49c2effd1c55c6b9c3);\n",
       "        \n",
       "    \n",
       "            var marker_b62e551a988380795a4c90bf03d8a9fe = L.marker(\n",
       "                [51.1694, 71.4491],\n",
       "                {}\n",
       "            ).addTo(map_780173221d880f49c2effd1c55c6b9c3);\n",
       "        \n",
       "    \n",
       "            var icon_ceb9281b7619c68c50be07e9bc0bff20 = L.AwesomeMarkers.icon(\n",
       "                {&quot;extraClasses&quot;: &quot;fa-rotate-0&quot;, &quot;icon&quot;: &quot;info-sign&quot;, &quot;iconColor&quot;: &quot;white&quot;, &quot;markerColor&quot;: &quot;red&quot;, &quot;prefix&quot;: &quot;glyphicon&quot;}\n",
       "            );\n",
       "            marker_b62e551a988380795a4c90bf03d8a9fe.setIcon(icon_ceb9281b7619c68c50be07e9bc0bff20);\n",
       "        \n",
       "    \n",
       "        var popup_4b7d4a3e928e41fea1d8534824c603ff = L.popup({&quot;maxWidth&quot;: &quot;100%&quot;});\n",
       "\n",
       "        \n",
       "            \n",
       "                var html_050fb29353558419ffd04ff082a844b8 = $(`&lt;div id=&quot;html_050fb29353558419ffd04ff082a844b8&quot; style=&quot;width: 100.0%; height: 100.0%;&quot;&gt;Kazakhstan (Origin)&lt;/div&gt;`)[0];\n",
       "                popup_4b7d4a3e928e41fea1d8534824c603ff.setContent(html_050fb29353558419ffd04ff082a844b8);\n",
       "            \n",
       "        \n",
       "\n",
       "        marker_b62e551a988380795a4c90bf03d8a9fe.bindPopup(popup_4b7d4a3e928e41fea1d8534824c603ff)\n",
       "        ;\n",
       "\n",
       "        \n",
       "    \n",
       "    \n",
       "            var marker_25d4a1c494c217879b404074dc0222a3 = L.marker(\n",
       "                [55.7558, 37.6173],\n",
       "                {}\n",
       "            ).addTo(map_780173221d880f49c2effd1c55c6b9c3);\n",
       "        \n",
       "    \n",
       "            var icon_c603ea4e8a08ed0b56d78c6d0db144ea = L.AwesomeMarkers.icon(\n",
       "                {&quot;extraClasses&quot;: &quot;fa-rotate-0&quot;, &quot;icon&quot;: &quot;info-sign&quot;, &quot;iconColor&quot;: &quot;white&quot;, &quot;markerColor&quot;: &quot;red&quot;, &quot;prefix&quot;: &quot;glyphicon&quot;}\n",
       "            );\n",
       "            marker_25d4a1c494c217879b404074dc0222a3.setIcon(icon_c603ea4e8a08ed0b56d78c6d0db144ea);\n",
       "        \n",
       "    \n",
       "        var popup_1ddc17f908945633770a6eefbe9fa35d = L.popup({&quot;maxWidth&quot;: &quot;100%&quot;});\n",
       "\n",
       "        \n",
       "            \n",
       "                var html_08c9384f958210da28c2d606056c0889 = $(`&lt;div id=&quot;html_08c9384f958210da28c2d606056c0889&quot; style=&quot;width: 100.0%; height: 100.0%;&quot;&gt;Russian Federation (Destination)&lt;/div&gt;`)[0];\n",
       "                popup_1ddc17f908945633770a6eefbe9fa35d.setContent(html_08c9384f958210da28c2d606056c0889);\n",
       "            \n",
       "        \n",
       "\n",
       "        marker_25d4a1c494c217879b404074dc0222a3.bindPopup(popup_1ddc17f908945633770a6eefbe9fa35d)\n",
       "        ;\n",
       "\n",
       "        \n",
       "    \n",
       "    \n",
       "            var poly_line_b58cde4b24c415392b01630303626828 = L.polyline(\n",
       "                [[23.8103, 90.4125], [28.6139, 77.209]],\n",
       "                {&quot;bubblingMouseEvents&quot;: true, &quot;color&quot;: &quot;blue&quot;, &quot;dashArray&quot;: null, &quot;dashOffset&quot;: null, &quot;fill&quot;: false, &quot;fillColor&quot;: &quot;blue&quot;, &quot;fillOpacity&quot;: 0.2, &quot;fillRule&quot;: &quot;evenodd&quot;, &quot;lineCap&quot;: &quot;round&quot;, &quot;lineJoin&quot;: &quot;round&quot;, &quot;noClip&quot;: false, &quot;opacity&quot;: 0.6, &quot;smoothFactor&quot;: 1.0, &quot;stroke&quot;: true, &quot;weight&quot;: 4}\n",
       "            ).addTo(map_780173221d880f49c2effd1c55c6b9c3);\n",
       "        \n",
       "    \n",
       "            var marker_3d8f9b1d3245e16a76d0d5af412d10a3 = L.marker(\n",
       "                [23.8103, 90.4125],\n",
       "                {}\n",
       "            ).addTo(map_780173221d880f49c2effd1c55c6b9c3);\n",
       "        \n",
       "    \n",
       "            var icon_1eb7a1776b9b005500475b4c824e5749 = L.AwesomeMarkers.icon(\n",
       "                {&quot;extraClasses&quot;: &quot;fa-rotate-0&quot;, &quot;icon&quot;: &quot;info-sign&quot;, &quot;iconColor&quot;: &quot;white&quot;, &quot;markerColor&quot;: &quot;red&quot;, &quot;prefix&quot;: &quot;glyphicon&quot;}\n",
       "            );\n",
       "            marker_3d8f9b1d3245e16a76d0d5af412d10a3.setIcon(icon_1eb7a1776b9b005500475b4c824e5749);\n",
       "        \n",
       "    \n",
       "        var popup_e2e1d9a472ac189abdb8178af5ac1ea4 = L.popup({&quot;maxWidth&quot;: &quot;100%&quot;});\n",
       "\n",
       "        \n",
       "            \n",
       "                var html_108f8a520ffe427cc149253f7c4f2044 = $(`&lt;div id=&quot;html_108f8a520ffe427cc149253f7c4f2044&quot; style=&quot;width: 100.0%; height: 100.0%;&quot;&gt;Bangladesh (Origin)&lt;/div&gt;`)[0];\n",
       "                popup_e2e1d9a472ac189abdb8178af5ac1ea4.setContent(html_108f8a520ffe427cc149253f7c4f2044);\n",
       "            \n",
       "        \n",
       "\n",
       "        marker_3d8f9b1d3245e16a76d0d5af412d10a3.bindPopup(popup_e2e1d9a472ac189abdb8178af5ac1ea4)\n",
       "        ;\n",
       "\n",
       "        \n",
       "    \n",
       "    \n",
       "            var marker_ece36e6d312b2adda164fc4d5a4a756f = L.marker(\n",
       "                [28.6139, 77.209],\n",
       "                {}\n",
       "            ).addTo(map_780173221d880f49c2effd1c55c6b9c3);\n",
       "        \n",
       "    \n",
       "            var icon_ed2d3aec9f0242a4f6f2a4f0b41986d1 = L.AwesomeMarkers.icon(\n",
       "                {&quot;extraClasses&quot;: &quot;fa-rotate-0&quot;, &quot;icon&quot;: &quot;info-sign&quot;, &quot;iconColor&quot;: &quot;white&quot;, &quot;markerColor&quot;: &quot;red&quot;, &quot;prefix&quot;: &quot;glyphicon&quot;}\n",
       "            );\n",
       "            marker_ece36e6d312b2adda164fc4d5a4a756f.setIcon(icon_ed2d3aec9f0242a4f6f2a4f0b41986d1);\n",
       "        \n",
       "    \n",
       "        var popup_8d78bf9715d94c2cdd2c94f173eb25e9 = L.popup({&quot;maxWidth&quot;: &quot;100%&quot;});\n",
       "\n",
       "        \n",
       "            \n",
       "                var html_d03eeb0b8eb27a94245394c78f135156 = $(`&lt;div id=&quot;html_d03eeb0b8eb27a94245394c78f135156&quot; style=&quot;width: 100.0%; height: 100.0%;&quot;&gt;India (Destination)&lt;/div&gt;`)[0];\n",
       "                popup_8d78bf9715d94c2cdd2c94f173eb25e9.setContent(html_d03eeb0b8eb27a94245394c78f135156);\n",
       "            \n",
       "        \n",
       "\n",
       "        marker_ece36e6d312b2adda164fc4d5a4a756f.bindPopup(popup_8d78bf9715d94c2cdd2c94f173eb25e9)\n",
       "        ;\n",
       "\n",
       "        \n",
       "    \n",
       "    \n",
       "            tile_layer_1ac165c96d292979c73fac8691179e9a.addTo(map_780173221d880f49c2effd1c55c6b9c3);\n",
       "        \n",
       "&lt;/script&gt;\n",
       "&lt;/html&gt;\" style=\"position:absolute;width:100%;height:100%;left:0;top:0;border:none !important;\" allowfullscreen webkitallowfullscreen mozallowfullscreen></iframe></div></div>"
      ],
      "text/plain": [
       "<folium.folium.Map at 0x7f2238e39f90>"
      ]
     },
     "execution_count": 25,
     "metadata": {},
     "output_type": "execute_result"
    }
   ],
   "source": [
    "import folium\n",
    "\n",
    "# Center of the map\n",
    "m = folium.Map(location=[20, 0], zoom_start=2, tiles='OpenStreetMap')\n",
    "\n",
    "# Add migration lines and red markers at endpoints\n",
    "for origin, dest in top_bilateral_pairs:\n",
    "    origin_coords = capital_coords[origin]\n",
    "    dest_coords = capital_coords[dest]\n",
    "    \n",
    "    # Add line (bidirectional arrow effect)\n",
    "    folium.PolyLine(\n",
    "        locations=[origin_coords, dest_coords],\n",
    "        color='blue',\n",
    "        weight=4,\n",
    "        opacity=0.6\n",
    "    ).add_to(m)\n",
    "    \n",
    "    # Add red marker at the origin\n",
    "    folium.Marker(\n",
    "        location=origin_coords,\n",
    "        icon=folium.Icon(color='red'),\n",
    "        popup=f\"{origin} (Origin)\"\n",
    "    ).add_to(m)\n",
    "    \n",
    "    # Add red marker at the destination\n",
    "    folium.Marker(\n",
    "        location=dest_coords,\n",
    "        icon=folium.Icon(color='red'),\n",
    "        popup=f\"{dest} (Destination)\"\n",
    "    ).add_to(m)\n",
    "\n",
    "# Save to HTML file\n",
    "m.save(\"top_migration_corridors_with_red_markers.html\")\n",
    "\n",
    "# Display map inline in notebook\n",
    "m\n"
   ]
  },
  {
   "cell_type": "code",
   "execution_count": 89,
   "id": "b973085d",
   "metadata": {},
   "outputs": [
    {
     "data": {
      "text/html": [
       "<div style=\"width:100%;\"><div style=\"position:relative;width:100%;height:0;padding-bottom:60%;\"><span style=\"color:#565656\">Make this Notebook Trusted to load map: File -> Trust Notebook</span><iframe srcdoc=\"&lt;!DOCTYPE html&gt;\n",
       "&lt;html&gt;\n",
       "&lt;head&gt;\n",
       "    \n",
       "    &lt;meta http-equiv=&quot;content-type&quot; content=&quot;text/html; charset=UTF-8&quot; /&gt;\n",
       "    \n",
       "        &lt;script&gt;\n",
       "            L_NO_TOUCH = false;\n",
       "            L_DISABLE_3D = false;\n",
       "        &lt;/script&gt;\n",
       "    \n",
       "    &lt;style&gt;html, body {width: 100%;height: 100%;margin: 0;padding: 0;}&lt;/style&gt;\n",
       "    &lt;style&gt;#map {position:absolute;top:0;bottom:0;right:0;left:0;}&lt;/style&gt;\n",
       "    &lt;script src=&quot;https://cdn.jsdelivr.net/npm/leaflet@1.9.3/dist/leaflet.js&quot;&gt;&lt;/script&gt;\n",
       "    &lt;script src=&quot;https://code.jquery.com/jquery-3.7.1.min.js&quot;&gt;&lt;/script&gt;\n",
       "    &lt;script src=&quot;https://cdn.jsdelivr.net/npm/bootstrap@5.2.2/dist/js/bootstrap.bundle.min.js&quot;&gt;&lt;/script&gt;\n",
       "    &lt;script src=&quot;https://cdnjs.cloudflare.com/ajax/libs/Leaflet.awesome-markers/2.0.2/leaflet.awesome-markers.js&quot;&gt;&lt;/script&gt;\n",
       "    &lt;link rel=&quot;stylesheet&quot; href=&quot;https://cdn.jsdelivr.net/npm/leaflet@1.9.3/dist/leaflet.css&quot;/&gt;\n",
       "    &lt;link rel=&quot;stylesheet&quot; href=&quot;https://cdn.jsdelivr.net/npm/bootstrap@5.2.2/dist/css/bootstrap.min.css&quot;/&gt;\n",
       "    &lt;link rel=&quot;stylesheet&quot; href=&quot;https://netdna.bootstrapcdn.com/bootstrap/3.0.0/css/bootstrap-glyphicons.css&quot;/&gt;\n",
       "    &lt;link rel=&quot;stylesheet&quot; href=&quot;https://cdn.jsdelivr.net/npm/@fortawesome/fontawesome-free@6.2.0/css/all.min.css&quot;/&gt;\n",
       "    &lt;link rel=&quot;stylesheet&quot; href=&quot;https://cdnjs.cloudflare.com/ajax/libs/Leaflet.awesome-markers/2.0.2/leaflet.awesome-markers.css&quot;/&gt;\n",
       "    &lt;link rel=&quot;stylesheet&quot; href=&quot;https://cdn.jsdelivr.net/gh/python-visualization/folium/folium/templates/leaflet.awesome.rotate.min.css&quot;/&gt;\n",
       "    \n",
       "            &lt;meta name=&quot;viewport&quot; content=&quot;width=device-width,\n",
       "                initial-scale=1.0, maximum-scale=1.0, user-scalable=no&quot; /&gt;\n",
       "            &lt;style&gt;\n",
       "                #map_f5c716f8cdfea7ef3c54d97331d7f366 {\n",
       "                    position: relative;\n",
       "                    width: 100.0%;\n",
       "                    height: 100.0%;\n",
       "                    left: 0.0%;\n",
       "                    top: 0.0%;\n",
       "                }\n",
       "                .leaflet-container { font-size: 1rem; }\n",
       "            &lt;/style&gt;\n",
       "        \n",
       "&lt;/head&gt;\n",
       "&lt;body&gt;\n",
       "    \n",
       "    \n",
       "            &lt;div class=&quot;folium-map&quot; id=&quot;map_f5c716f8cdfea7ef3c54d97331d7f366&quot; &gt;&lt;/div&gt;\n",
       "        \n",
       "&lt;/body&gt;\n",
       "&lt;script&gt;\n",
       "    \n",
       "    \n",
       "            var map_f5c716f8cdfea7ef3c54d97331d7f366 = L.map(\n",
       "                &quot;map_f5c716f8cdfea7ef3c54d97331d7f366&quot;,\n",
       "                {\n",
       "                    center: [20.0, 0.0],\n",
       "                    crs: L.CRS.EPSG3857,\n",
       "                    zoom: 2,\n",
       "                    zoomControl: true,\n",
       "                    preferCanvas: false,\n",
       "                }\n",
       "            );\n",
       "\n",
       "            \n",
       "\n",
       "        \n",
       "    \n",
       "            var tile_layer_6ce6b1d7c3885b6ed0d87e465a1040be = L.tileLayer(\n",
       "                &quot;https://tile.openstreetmap.org/{z}/{x}/{y}.png&quot;,\n",
       "                {&quot;attribution&quot;: &quot;\\u0026copy; \\u003ca href=\\&quot;https://www.openstreetmap.org/copyright\\&quot;\\u003eOpenStreetMap\\u003c/a\\u003e contributors&quot;, &quot;detectRetina&quot;: false, &quot;maxNativeZoom&quot;: 19, &quot;maxZoom&quot;: 19, &quot;minZoom&quot;: 0, &quot;noWrap&quot;: false, &quot;opacity&quot;: 1, &quot;subdomains&quot;: &quot;abc&quot;, &quot;tms&quot;: false}\n",
       "            );\n",
       "        \n",
       "    \n",
       "            tile_layer_6ce6b1d7c3885b6ed0d87e465a1040be.addTo(map_f5c716f8cdfea7ef3c54d97331d7f366);\n",
       "        \n",
       "    \n",
       "            var poly_line_c7ae3316dd02fa1c919d6aa836428e8b = L.polyline(\n",
       "                [[28.6139, 77.209], [33.6844, 73.0479]],\n",
       "                {&quot;bubblingMouseEvents&quot;: true, &quot;color&quot;: &quot;blue&quot;, &quot;dashArray&quot;: null, &quot;dashOffset&quot;: null, &quot;fill&quot;: false, &quot;fillColor&quot;: &quot;blue&quot;, &quot;fillOpacity&quot;: 0.2, &quot;fillRule&quot;: &quot;evenodd&quot;, &quot;lineCap&quot;: &quot;round&quot;, &quot;lineJoin&quot;: &quot;round&quot;, &quot;noClip&quot;: false, &quot;opacity&quot;: 0.6, &quot;smoothFactor&quot;: 1.0, &quot;stroke&quot;: true, &quot;weight&quot;: 4}\n",
       "            ).addTo(map_f5c716f8cdfea7ef3c54d97331d7f366);\n",
       "        \n",
       "    \n",
       "            poly_line_c7ae3316dd02fa1c919d6aa836428e8b.bindTooltip(\n",
       "                `&lt;div&gt;\n",
       "                     India to Pakistan: 87.52 million\n",
       "                 &lt;/div&gt;`,\n",
       "                {&quot;sticky&quot;: true}\n",
       "            );\n",
       "        \n",
       "    \n",
       "            var marker_424575901d2e89d24cbd0e714c61e402 = L.marker(\n",
       "                [28.6139, 77.209],\n",
       "                {}\n",
       "            ).addTo(map_f5c716f8cdfea7ef3c54d97331d7f366);\n",
       "        \n",
       "    \n",
       "            var icon_0adcae80e48711e1b4720f751249e774 = L.AwesomeMarkers.icon(\n",
       "                {&quot;extraClasses&quot;: &quot;fa-rotate-0&quot;, &quot;icon&quot;: &quot;info-sign&quot;, &quot;iconColor&quot;: &quot;white&quot;, &quot;markerColor&quot;: &quot;red&quot;, &quot;prefix&quot;: &quot;glyphicon&quot;}\n",
       "            );\n",
       "            marker_424575901d2e89d24cbd0e714c61e402.setIcon(icon_0adcae80e48711e1b4720f751249e774);\n",
       "        \n",
       "    \n",
       "        var popup_03c40f4a7ad83a1284278031f772fc9c = L.popup({&quot;maxWidth&quot;: &quot;100%&quot;});\n",
       "\n",
       "        \n",
       "            \n",
       "                var html_76fc4ee4e8a50e18d9499fb68361cb06 = $(`&lt;div id=&quot;html_76fc4ee4e8a50e18d9499fb68361cb06&quot; style=&quot;width: 100.0%; height: 100.0%;&quot;&gt;India (Origin)&lt;/div&gt;`)[0];\n",
       "                popup_03c40f4a7ad83a1284278031f772fc9c.setContent(html_76fc4ee4e8a50e18d9499fb68361cb06);\n",
       "            \n",
       "        \n",
       "\n",
       "        marker_424575901d2e89d24cbd0e714c61e402.bindPopup(popup_03c40f4a7ad83a1284278031f772fc9c)\n",
       "        ;\n",
       "\n",
       "        \n",
       "    \n",
       "    \n",
       "            var marker_3359805f6287f2de468bb4449dffb6bc = L.marker(\n",
       "                [33.6844, 73.0479],\n",
       "                {}\n",
       "            ).addTo(map_f5c716f8cdfea7ef3c54d97331d7f366);\n",
       "        \n",
       "    \n",
       "            var icon_069541b93c0483acecfa2b60d50c0878 = L.AwesomeMarkers.icon(\n",
       "                {&quot;extraClasses&quot;: &quot;fa-rotate-0&quot;, &quot;icon&quot;: &quot;info-sign&quot;, &quot;iconColor&quot;: &quot;white&quot;, &quot;markerColor&quot;: &quot;red&quot;, &quot;prefix&quot;: &quot;glyphicon&quot;}\n",
       "            );\n",
       "            marker_3359805f6287f2de468bb4449dffb6bc.setIcon(icon_069541b93c0483acecfa2b60d50c0878);\n",
       "        \n",
       "    \n",
       "        var popup_30e7fd399de4e06debeeb9a1df73eddd = L.popup({&quot;maxWidth&quot;: &quot;100%&quot;});\n",
       "\n",
       "        \n",
       "            \n",
       "                var html_13b7dbd4f9e993fbc12bd8eb0b9f9839 = $(`&lt;div id=&quot;html_13b7dbd4f9e993fbc12bd8eb0b9f9839&quot; style=&quot;width: 100.0%; height: 100.0%;&quot;&gt;Pakistan (Destination)&lt;/div&gt;`)[0];\n",
       "                popup_30e7fd399de4e06debeeb9a1df73eddd.setContent(html_13b7dbd4f9e993fbc12bd8eb0b9f9839);\n",
       "            \n",
       "        \n",
       "\n",
       "        marker_3359805f6287f2de468bb4449dffb6bc.bindPopup(popup_30e7fd399de4e06debeeb9a1df73eddd)\n",
       "        ;\n",
       "\n",
       "        \n",
       "    \n",
       "    \n",
       "            var poly_line_3a56ec87d310cdffc104e65d6c67ca5f = L.polyline(\n",
       "                [[55.7558, 37.6173], [50.4501, 30.5234]],\n",
       "                {&quot;bubblingMouseEvents&quot;: true, &quot;color&quot;: &quot;blue&quot;, &quot;dashArray&quot;: null, &quot;dashOffset&quot;: null, &quot;fill&quot;: false, &quot;fillColor&quot;: &quot;blue&quot;, &quot;fillOpacity&quot;: 0.2, &quot;fillRule&quot;: &quot;evenodd&quot;, &quot;lineCap&quot;: &quot;round&quot;, &quot;lineJoin&quot;: &quot;round&quot;, &quot;noClip&quot;: false, &quot;opacity&quot;: 0.6, &quot;smoothFactor&quot;: 1.0, &quot;stroke&quot;: true, &quot;weight&quot;: 4}\n",
       "            ).addTo(map_f5c716f8cdfea7ef3c54d97331d7f366);\n",
       "        \n",
       "    \n",
       "            poly_line_3a56ec87d310cdffc104e65d6c67ca5f.bindTooltip(\n",
       "                `&lt;div&gt;\n",
       "                     Russian Federation to Ukraine: 80.00 million\n",
       "                 &lt;/div&gt;`,\n",
       "                {&quot;sticky&quot;: true}\n",
       "            );\n",
       "        \n",
       "    \n",
       "            var marker_b82a8bbd0ac3f1e4e588505b4d59718e = L.marker(\n",
       "                [55.7558, 37.6173],\n",
       "                {}\n",
       "            ).addTo(map_f5c716f8cdfea7ef3c54d97331d7f366);\n",
       "        \n",
       "    \n",
       "            var icon_e41af655571226de7802666024cb58e1 = L.AwesomeMarkers.icon(\n",
       "                {&quot;extraClasses&quot;: &quot;fa-rotate-0&quot;, &quot;icon&quot;: &quot;info-sign&quot;, &quot;iconColor&quot;: &quot;white&quot;, &quot;markerColor&quot;: &quot;red&quot;, &quot;prefix&quot;: &quot;glyphicon&quot;}\n",
       "            );\n",
       "            marker_b82a8bbd0ac3f1e4e588505b4d59718e.setIcon(icon_e41af655571226de7802666024cb58e1);\n",
       "        \n",
       "    \n",
       "        var popup_b0ff3aea2842f1835ce0d1d9ea2651f4 = L.popup({&quot;maxWidth&quot;: &quot;100%&quot;});\n",
       "\n",
       "        \n",
       "            \n",
       "                var html_aff0b527822b3a300591441212028b6f = $(`&lt;div id=&quot;html_aff0b527822b3a300591441212028b6f&quot; style=&quot;width: 100.0%; height: 100.0%;&quot;&gt;Russian Federation (Origin)&lt;/div&gt;`)[0];\n",
       "                popup_b0ff3aea2842f1835ce0d1d9ea2651f4.setContent(html_aff0b527822b3a300591441212028b6f);\n",
       "            \n",
       "        \n",
       "\n",
       "        marker_b82a8bbd0ac3f1e4e588505b4d59718e.bindPopup(popup_b0ff3aea2842f1835ce0d1d9ea2651f4)\n",
       "        ;\n",
       "\n",
       "        \n",
       "    \n",
       "    \n",
       "            var marker_c59ea95f19ae484b13f70c96d476fd21 = L.marker(\n",
       "                [50.4501, 30.5234],\n",
       "                {}\n",
       "            ).addTo(map_f5c716f8cdfea7ef3c54d97331d7f366);\n",
       "        \n",
       "    \n",
       "            var icon_94c62ab795e8bdefb7a0e604e446a313 = L.AwesomeMarkers.icon(\n",
       "                {&quot;extraClasses&quot;: &quot;fa-rotate-0&quot;, &quot;icon&quot;: &quot;info-sign&quot;, &quot;iconColor&quot;: &quot;white&quot;, &quot;markerColor&quot;: &quot;red&quot;, &quot;prefix&quot;: &quot;glyphicon&quot;}\n",
       "            );\n",
       "            marker_c59ea95f19ae484b13f70c96d476fd21.setIcon(icon_94c62ab795e8bdefb7a0e604e446a313);\n",
       "        \n",
       "    \n",
       "        var popup_677cd786a85c43caf2f6815a1327d823 = L.popup({&quot;maxWidth&quot;: &quot;100%&quot;});\n",
       "\n",
       "        \n",
       "            \n",
       "                var html_57f23651d70e4bf9d5598a1558208c57 = $(`&lt;div id=&quot;html_57f23651d70e4bf9d5598a1558208c57&quot; style=&quot;width: 100.0%; height: 100.0%;&quot;&gt;Ukraine (Destination)&lt;/div&gt;`)[0];\n",
       "                popup_677cd786a85c43caf2f6815a1327d823.setContent(html_57f23651d70e4bf9d5598a1558208c57);\n",
       "            \n",
       "        \n",
       "\n",
       "        marker_c59ea95f19ae484b13f70c96d476fd21.bindPopup(popup_677cd786a85c43caf2f6815a1327d823)\n",
       "        ;\n",
       "\n",
       "        \n",
       "    \n",
       "    \n",
       "            var poly_line_9fa9c2f97fad27cc7366fe72db5d20c7 = L.polyline(\n",
       "                [[19.4326, -99.1332], [38.9072, -77.0369]],\n",
       "                {&quot;bubblingMouseEvents&quot;: true, &quot;color&quot;: &quot;blue&quot;, &quot;dashArray&quot;: null, &quot;dashOffset&quot;: null, &quot;fill&quot;: false, &quot;fillColor&quot;: &quot;blue&quot;, &quot;fillOpacity&quot;: 0.2, &quot;fillRule&quot;: &quot;evenodd&quot;, &quot;lineCap&quot;: &quot;round&quot;, &quot;lineJoin&quot;: &quot;round&quot;, &quot;noClip&quot;: false, &quot;opacity&quot;: 0.6, &quot;smoothFactor&quot;: 1.0, &quot;stroke&quot;: true, &quot;weight&quot;: 4}\n",
       "            ).addTo(map_f5c716f8cdfea7ef3c54d97331d7f366);\n",
       "        \n",
       "    \n",
       "            poly_line_9fa9c2f97fad27cc7366fe72db5d20c7.bindTooltip(\n",
       "                `&lt;div&gt;\n",
       "                     Mexico to United States: 37.79 million\n",
       "                 &lt;/div&gt;`,\n",
       "                {&quot;sticky&quot;: true}\n",
       "            );\n",
       "        \n",
       "    \n",
       "            var marker_a326ae77dfce17cc7abb593555c2d645 = L.marker(\n",
       "                [19.4326, -99.1332],\n",
       "                {}\n",
       "            ).addTo(map_f5c716f8cdfea7ef3c54d97331d7f366);\n",
       "        \n",
       "    \n",
       "            var icon_66ecbf96d95a1634f3a53f7805420115 = L.AwesomeMarkers.icon(\n",
       "                {&quot;extraClasses&quot;: &quot;fa-rotate-0&quot;, &quot;icon&quot;: &quot;info-sign&quot;, &quot;iconColor&quot;: &quot;white&quot;, &quot;markerColor&quot;: &quot;red&quot;, &quot;prefix&quot;: &quot;glyphicon&quot;}\n",
       "            );\n",
       "            marker_a326ae77dfce17cc7abb593555c2d645.setIcon(icon_66ecbf96d95a1634f3a53f7805420115);\n",
       "        \n",
       "    \n",
       "        var popup_a2a84ef159e195617d086a18694643bd = L.popup({&quot;maxWidth&quot;: &quot;100%&quot;});\n",
       "\n",
       "        \n",
       "            \n",
       "                var html_446db73da769de541b390dfad8a28e2c = $(`&lt;div id=&quot;html_446db73da769de541b390dfad8a28e2c&quot; style=&quot;width: 100.0%; height: 100.0%;&quot;&gt;Mexico (Origin)&lt;/div&gt;`)[0];\n",
       "                popup_a2a84ef159e195617d086a18694643bd.setContent(html_446db73da769de541b390dfad8a28e2c);\n",
       "            \n",
       "        \n",
       "\n",
       "        marker_a326ae77dfce17cc7abb593555c2d645.bindPopup(popup_a2a84ef159e195617d086a18694643bd)\n",
       "        ;\n",
       "\n",
       "        \n",
       "    \n",
       "    \n",
       "            var marker_ee916cca29b88cf2e0a131a2eddf02f1 = L.marker(\n",
       "                [38.9072, -77.0369],\n",
       "                {}\n",
       "            ).addTo(map_f5c716f8cdfea7ef3c54d97331d7f366);\n",
       "        \n",
       "    \n",
       "            var icon_76349e8e8316d558b997b5c3e2cf5466 = L.AwesomeMarkers.icon(\n",
       "                {&quot;extraClasses&quot;: &quot;fa-rotate-0&quot;, &quot;icon&quot;: &quot;info-sign&quot;, &quot;iconColor&quot;: &quot;white&quot;, &quot;markerColor&quot;: &quot;red&quot;, &quot;prefix&quot;: &quot;glyphicon&quot;}\n",
       "            );\n",
       "            marker_ee916cca29b88cf2e0a131a2eddf02f1.setIcon(icon_76349e8e8316d558b997b5c3e2cf5466);\n",
       "        \n",
       "    \n",
       "        var popup_2b5d8741b343175bc67526da32d00da6 = L.popup({&quot;maxWidth&quot;: &quot;100%&quot;});\n",
       "\n",
       "        \n",
       "            \n",
       "                var html_1edbaaea506947f6b7b90933ae032307 = $(`&lt;div id=&quot;html_1edbaaea506947f6b7b90933ae032307&quot; style=&quot;width: 100.0%; height: 100.0%;&quot;&gt;United States (Destination)&lt;/div&gt;`)[0];\n",
       "                popup_2b5d8741b343175bc67526da32d00da6.setContent(html_1edbaaea506947f6b7b90933ae032307);\n",
       "            \n",
       "        \n",
       "\n",
       "        marker_ee916cca29b88cf2e0a131a2eddf02f1.bindPopup(popup_2b5d8741b343175bc67526da32d00da6)\n",
       "        ;\n",
       "\n",
       "        \n",
       "    \n",
       "    \n",
       "            var poly_line_99980144951f2a7b4f1ff792bf4c5310 = L.polyline(\n",
       "                [[51.1694, 71.4491], [55.7558, 37.6173]],\n",
       "                {&quot;bubblingMouseEvents&quot;: true, &quot;color&quot;: &quot;blue&quot;, &quot;dashArray&quot;: null, &quot;dashOffset&quot;: null, &quot;fill&quot;: false, &quot;fillColor&quot;: &quot;blue&quot;, &quot;fillOpacity&quot;: 0.2, &quot;fillRule&quot;: &quot;evenodd&quot;, &quot;lineCap&quot;: &quot;round&quot;, &quot;lineJoin&quot;: &quot;round&quot;, &quot;noClip&quot;: false, &quot;opacity&quot;: 0.6, &quot;smoothFactor&quot;: 1.0, &quot;stroke&quot;: true, &quot;weight&quot;: 4}\n",
       "            ).addTo(map_f5c716f8cdfea7ef3c54d97331d7f366);\n",
       "        \n",
       "    \n",
       "            poly_line_99980144951f2a7b4f1ff792bf4c5310.bindTooltip(\n",
       "                `&lt;div&gt;\n",
       "                     Kazakhstan to Russian Federation: 37.49 million\n",
       "                 &lt;/div&gt;`,\n",
       "                {&quot;sticky&quot;: true}\n",
       "            );\n",
       "        \n",
       "    \n",
       "            var marker_485f02463554bb859a03eb9eba8de11e = L.marker(\n",
       "                [51.1694, 71.4491],\n",
       "                {}\n",
       "            ).addTo(map_f5c716f8cdfea7ef3c54d97331d7f366);\n",
       "        \n",
       "    \n",
       "            var icon_70db17b866c2f5189c30853cd83ae514 = L.AwesomeMarkers.icon(\n",
       "                {&quot;extraClasses&quot;: &quot;fa-rotate-0&quot;, &quot;icon&quot;: &quot;info-sign&quot;, &quot;iconColor&quot;: &quot;white&quot;, &quot;markerColor&quot;: &quot;red&quot;, &quot;prefix&quot;: &quot;glyphicon&quot;}\n",
       "            );\n",
       "            marker_485f02463554bb859a03eb9eba8de11e.setIcon(icon_70db17b866c2f5189c30853cd83ae514);\n",
       "        \n",
       "    \n",
       "        var popup_f74a6860d59cdd4ec59e9208be2d5abd = L.popup({&quot;maxWidth&quot;: &quot;100%&quot;});\n",
       "\n",
       "        \n",
       "            \n",
       "                var html_33a729b4f6c7bbef59637e3157e52b94 = $(`&lt;div id=&quot;html_33a729b4f6c7bbef59637e3157e52b94&quot; style=&quot;width: 100.0%; height: 100.0%;&quot;&gt;Kazakhstan (Origin)&lt;/div&gt;`)[0];\n",
       "                popup_f74a6860d59cdd4ec59e9208be2d5abd.setContent(html_33a729b4f6c7bbef59637e3157e52b94);\n",
       "            \n",
       "        \n",
       "\n",
       "        marker_485f02463554bb859a03eb9eba8de11e.bindPopup(popup_f74a6860d59cdd4ec59e9208be2d5abd)\n",
       "        ;\n",
       "\n",
       "        \n",
       "    \n",
       "    \n",
       "            var marker_4f9894b2ad9c9683cf520ae0678735ed = L.marker(\n",
       "                [55.7558, 37.6173],\n",
       "                {}\n",
       "            ).addTo(map_f5c716f8cdfea7ef3c54d97331d7f366);\n",
       "        \n",
       "    \n",
       "            var icon_d1b502d062e87d82e4be06b2872ea394 = L.AwesomeMarkers.icon(\n",
       "                {&quot;extraClasses&quot;: &quot;fa-rotate-0&quot;, &quot;icon&quot;: &quot;info-sign&quot;, &quot;iconColor&quot;: &quot;white&quot;, &quot;markerColor&quot;: &quot;red&quot;, &quot;prefix&quot;: &quot;glyphicon&quot;}\n",
       "            );\n",
       "            marker_4f9894b2ad9c9683cf520ae0678735ed.setIcon(icon_d1b502d062e87d82e4be06b2872ea394);\n",
       "        \n",
       "    \n",
       "        var popup_799682d6a17ede415fb07354e063d72f = L.popup({&quot;maxWidth&quot;: &quot;100%&quot;});\n",
       "\n",
       "        \n",
       "            \n",
       "                var html_1e25798b5b8cd53854bb048c9f59cdae = $(`&lt;div id=&quot;html_1e25798b5b8cd53854bb048c9f59cdae&quot; style=&quot;width: 100.0%; height: 100.0%;&quot;&gt;Russian Federation (Destination)&lt;/div&gt;`)[0];\n",
       "                popup_799682d6a17ede415fb07354e063d72f.setContent(html_1e25798b5b8cd53854bb048c9f59cdae);\n",
       "            \n",
       "        \n",
       "\n",
       "        marker_4f9894b2ad9c9683cf520ae0678735ed.bindPopup(popup_799682d6a17ede415fb07354e063d72f)\n",
       "        ;\n",
       "\n",
       "        \n",
       "    \n",
       "    \n",
       "            var poly_line_3922868589724d58f466a73237e5506f = L.polyline(\n",
       "                [[23.8103, 90.4125], [28.6139, 77.209]],\n",
       "                {&quot;bubblingMouseEvents&quot;: true, &quot;color&quot;: &quot;blue&quot;, &quot;dashArray&quot;: null, &quot;dashOffset&quot;: null, &quot;fill&quot;: false, &quot;fillColor&quot;: &quot;blue&quot;, &quot;fillOpacity&quot;: 0.2, &quot;fillRule&quot;: &quot;evenodd&quot;, &quot;lineCap&quot;: &quot;round&quot;, &quot;lineJoin&quot;: &quot;round&quot;, &quot;noClip&quot;: false, &quot;opacity&quot;: 0.6, &quot;smoothFactor&quot;: 1.0, &quot;stroke&quot;: true, &quot;weight&quot;: 4}\n",
       "            ).addTo(map_f5c716f8cdfea7ef3c54d97331d7f366);\n",
       "        \n",
       "    \n",
       "            poly_line_3922868589724d58f466a73237e5506f.bindTooltip(\n",
       "                `&lt;div&gt;\n",
       "                     Bangladesh to India: 33.39 million\n",
       "                 &lt;/div&gt;`,\n",
       "                {&quot;sticky&quot;: true}\n",
       "            );\n",
       "        \n",
       "    \n",
       "            var marker_3b1a27cc992dce80bcb133990f3a73b6 = L.marker(\n",
       "                [23.8103, 90.4125],\n",
       "                {}\n",
       "            ).addTo(map_f5c716f8cdfea7ef3c54d97331d7f366);\n",
       "        \n",
       "    \n",
       "            var icon_a2992c10075152a0f5e17b0f246d8107 = L.AwesomeMarkers.icon(\n",
       "                {&quot;extraClasses&quot;: &quot;fa-rotate-0&quot;, &quot;icon&quot;: &quot;info-sign&quot;, &quot;iconColor&quot;: &quot;white&quot;, &quot;markerColor&quot;: &quot;red&quot;, &quot;prefix&quot;: &quot;glyphicon&quot;}\n",
       "            );\n",
       "            marker_3b1a27cc992dce80bcb133990f3a73b6.setIcon(icon_a2992c10075152a0f5e17b0f246d8107);\n",
       "        \n",
       "    \n",
       "        var popup_ff47b77e2cbb366a88bb8ce0ff36a5e0 = L.popup({&quot;maxWidth&quot;: &quot;100%&quot;});\n",
       "\n",
       "        \n",
       "            \n",
       "                var html_05006980ea5d78fd79c8426288f3814c = $(`&lt;div id=&quot;html_05006980ea5d78fd79c8426288f3814c&quot; style=&quot;width: 100.0%; height: 100.0%;&quot;&gt;Bangladesh (Origin)&lt;/div&gt;`)[0];\n",
       "                popup_ff47b77e2cbb366a88bb8ce0ff36a5e0.setContent(html_05006980ea5d78fd79c8426288f3814c);\n",
       "            \n",
       "        \n",
       "\n",
       "        marker_3b1a27cc992dce80bcb133990f3a73b6.bindPopup(popup_ff47b77e2cbb366a88bb8ce0ff36a5e0)\n",
       "        ;\n",
       "\n",
       "        \n",
       "    \n",
       "    \n",
       "            var marker_84b1cecefe42fd98fb747f0b39906c37 = L.marker(\n",
       "                [28.6139, 77.209],\n",
       "                {}\n",
       "            ).addTo(map_f5c716f8cdfea7ef3c54d97331d7f366);\n",
       "        \n",
       "    \n",
       "            var icon_cbca0a26b87dc95659bf29b1bed3853c = L.AwesomeMarkers.icon(\n",
       "                {&quot;extraClasses&quot;: &quot;fa-rotate-0&quot;, &quot;icon&quot;: &quot;info-sign&quot;, &quot;iconColor&quot;: &quot;white&quot;, &quot;markerColor&quot;: &quot;red&quot;, &quot;prefix&quot;: &quot;glyphicon&quot;}\n",
       "            );\n",
       "            marker_84b1cecefe42fd98fb747f0b39906c37.setIcon(icon_cbca0a26b87dc95659bf29b1bed3853c);\n",
       "        \n",
       "    \n",
       "        var popup_6b4a45db027740ac97faf0fca492652e = L.popup({&quot;maxWidth&quot;: &quot;100%&quot;});\n",
       "\n",
       "        \n",
       "            \n",
       "                var html_c5a082382f69d353d7357225769a03e9 = $(`&lt;div id=&quot;html_c5a082382f69d353d7357225769a03e9&quot; style=&quot;width: 100.0%; height: 100.0%;&quot;&gt;India (Destination)&lt;/div&gt;`)[0];\n",
       "                popup_6b4a45db027740ac97faf0fca492652e.setContent(html_c5a082382f69d353d7357225769a03e9);\n",
       "            \n",
       "        \n",
       "\n",
       "        marker_84b1cecefe42fd98fb747f0b39906c37.bindPopup(popup_6b4a45db027740ac97faf0fca492652e)\n",
       "        ;\n",
       "\n",
       "        \n",
       "    \n",
       "    \n",
       "            tile_layer_6ce6b1d7c3885b6ed0d87e465a1040be.addTo(map_f5c716f8cdfea7ef3c54d97331d7f366);\n",
       "        \n",
       "&lt;/script&gt;\n",
       "&lt;/html&gt;\" style=\"position:absolute;width:100%;height:100%;left:0;top:0;border:none !important;\" allowfullscreen webkitallowfullscreen mozallowfullscreen></iframe></div></div>"
      ],
      "text/plain": [
       "<folium.folium.Map at 0x7fe80edadb70>"
      ]
     },
     "execution_count": 89,
     "metadata": {},
     "output_type": "execute_result"
    }
   ],
   "source": [
    "import folium\n",
    "\n",
    "# Define the migration data (example migration counts for top bilateral pairs)\n",
    "migration_counts = {\n",
    "    ('India', 'Pakistan'): 87.52092,\n",
    "    ('Russian Federation', 'Ukraine'): 79.997041,\n",
    "    ('Mexico', 'United States'): 37.793378,\n",
    "    ('Kazakhstan', 'Russian Federation'): 37.49294,\n",
    "    ('Bangladesh', 'India'): 33.387464\n",
    "}\n",
    "\n",
    "# Create a Folium map centered on the world\n",
    "m = folium.Map(location=[20, 0], zoom_start=2, tiles='OpenStreetMap')\n",
    "\n",
    "# Add migration lines with tooltips and red markers at endpoints\n",
    "for origin, dest in top_bilateral_pairs:\n",
    "    origin_coords = capital_coords[origin]\n",
    "    dest_coords = capital_coords[dest]\n",
    "    \n",
    "    # Get migration count for this pair\n",
    "    migration_count = migration_counts[(origin, dest)]\n",
    "    \n",
    "    # Create a tooltip with the country names and migration count\n",
    "    tooltip_text = f\"{origin} to {dest}: {migration_count:.2f} million\"\n",
    "    \n",
    "    # Add a line between the origin and destination with a tooltip\n",
    "    folium.PolyLine(\n",
    "        locations=[origin_coords, dest_coords],\n",
    "        color='blue',\n",
    "        weight=4,\n",
    "        opacity=0.6,\n",
    "        tooltip=tooltip_text\n",
    "    ).add_to(m)\n",
    "    \n",
    "    # Add red markers at the origin and destination\n",
    "    folium.Marker(\n",
    "        location=origin_coords,\n",
    "        icon=folium.Icon(color='red'),\n",
    "        popup=f\"{origin} (Origin)\"\n",
    "    ).add_to(m)\n",
    "    \n",
    "    folium.Marker(\n",
    "        location=dest_coords,\n",
    "        icon=folium.Icon(color='red'),\n",
    "        popup=f\"{dest} (Destination)\"\n",
    "    ).add_to(m)\n",
    "\n",
    "# Save the map to an HTML file\n",
    "m.save(\"top_migration_corridors_with_tooltips.html\")\n",
    "\n",
    "# Display the map in a notebook (optional)\n",
    "m\n"
   ]
  },
  {
   "cell_type": "code",
   "execution_count": null,
   "id": "84b77727",
   "metadata": {},
   "outputs": [],
   "source": []
  },
  {
   "cell_type": "markdown",
   "id": "e6aafaf7",
   "metadata": {},
   "source": [
    "## Refugees"
   ]
  },
  {
   "cell_type": "code",
   "execution_count": 30,
   "id": "949ef16f",
   "metadata": {},
   "outputs": [
    {
     "data": {
      "text/html": [
       "<div>\n",
       "<style scoped>\n",
       "    .dataframe tbody tr th:only-of-type {\n",
       "        vertical-align: middle;\n",
       "    }\n",
       "\n",
       "    .dataframe tbody tr th {\n",
       "        vertical-align: top;\n",
       "    }\n",
       "\n",
       "    .dataframe thead th {\n",
       "        text-align: right;\n",
       "    }\n",
       "</style>\n",
       "<table border=\"1\" class=\"dataframe\">\n",
       "  <thead>\n",
       "    <tr style=\"text-align: right;\">\n",
       "      <th></th>\n",
       "      <th>Country Origin Name</th>\n",
       "      <th>Country Origin Code</th>\n",
       "      <th>Migration by Gender Name</th>\n",
       "      <th>Migration by Gender Code</th>\n",
       "      <th>Country Dest Name</th>\n",
       "      <th>Country Dest Code</th>\n",
       "      <th>1960</th>\n",
       "      <th>1970</th>\n",
       "      <th>1980</th>\n",
       "      <th>1990</th>\n",
       "      <th>2000</th>\n",
       "      <th>Total Migration</th>\n",
       "    </tr>\n",
       "  </thead>\n",
       "  <tbody>\n",
       "  </tbody>\n",
       "</table>\n",
       "</div>"
      ],
      "text/plain": [
       "Empty DataFrame\n",
       "Columns: [Country Origin Name, Country Origin Code, Migration by Gender Name, Migration by Gender Code, Country Dest Name, Country Dest Code, 1960, 1970, 1980, 1990, 2000, Total Migration]\n",
       "Index: []"
      ]
     },
     "execution_count": 30,
     "metadata": {},
     "output_type": "execute_result"
    }
   ],
   "source": [
    "df[df['Country Dest Name'] == 'Refugees']"
   ]
  },
  {
   "cell_type": "code",
   "execution_count": 32,
   "id": "56cfa460",
   "metadata": {},
   "outputs": [
    {
     "data": {
      "text/plain": [
       "Index(['Country Origin Name', 'Country Origin Code',\n",
       "       'Migration by Gender Name', 'Migration by Gender Code',\n",
       "       'Country Dest Name', 'Country Dest Code', '1960', '1970', '1980',\n",
       "       '1990', '2000', 'Total Migration'],\n",
       "      dtype='object')"
      ]
     },
     "execution_count": 32,
     "metadata": {},
     "output_type": "execute_result"
    }
   ],
   "source": [
    "df.columns"
   ]
  },
  {
   "cell_type": "code",
   "execution_count": 31,
   "id": "23a11f82",
   "metadata": {},
   "outputs": [
    {
     "data": {
      "text/html": [
       "<div>\n",
       "<style scoped>\n",
       "    .dataframe tbody tr th:only-of-type {\n",
       "        vertical-align: middle;\n",
       "    }\n",
       "\n",
       "    .dataframe tbody tr th {\n",
       "        vertical-align: top;\n",
       "    }\n",
       "\n",
       "    .dataframe thead th {\n",
       "        text-align: right;\n",
       "    }\n",
       "</style>\n",
       "<table border=\"1\" class=\"dataframe\">\n",
       "  <thead>\n",
       "    <tr style=\"text-align: right;\">\n",
       "      <th></th>\n",
       "      <th>Country Origin Name</th>\n",
       "      <th>Country Origin Code</th>\n",
       "      <th>Migration by Gender Name</th>\n",
       "      <th>Migration by Gender Code</th>\n",
       "      <th>Country Dest Name</th>\n",
       "      <th>Country Dest Code</th>\n",
       "      <th>1960</th>\n",
       "      <th>1970</th>\n",
       "      <th>1980</th>\n",
       "      <th>1990</th>\n",
       "      <th>2000</th>\n",
       "      <th>Total Migration</th>\n",
       "    </tr>\n",
       "  </thead>\n",
       "  <tbody>\n",
       "    <tr>\n",
       "      <th>116424</th>\n",
       "      <td>Refugees</td>\n",
       "      <td>zzz</td>\n",
       "      <td>Total</td>\n",
       "      <td>TOT</td>\n",
       "      <td>Afghanistan</td>\n",
       "      <td>AFG</td>\n",
       "      <td>0</td>\n",
       "      <td>0</td>\n",
       "      <td>0</td>\n",
       "      <td>0</td>\n",
       "      <td>0</td>\n",
       "      <td>0</td>\n",
       "    </tr>\n",
       "    <tr>\n",
       "      <th>116425</th>\n",
       "      <td>Refugees</td>\n",
       "      <td>zzz</td>\n",
       "      <td>Total</td>\n",
       "      <td>TOT</td>\n",
       "      <td>Albania</td>\n",
       "      <td>ALB</td>\n",
       "      <td>0</td>\n",
       "      <td>0</td>\n",
       "      <td>0</td>\n",
       "      <td>0</td>\n",
       "      <td>0</td>\n",
       "      <td>0</td>\n",
       "    </tr>\n",
       "    <tr>\n",
       "      <th>116426</th>\n",
       "      <td>Refugees</td>\n",
       "      <td>zzz</td>\n",
       "      <td>Total</td>\n",
       "      <td>TOT</td>\n",
       "      <td>Algeria</td>\n",
       "      <td>DZA</td>\n",
       "      <td>0</td>\n",
       "      <td>0</td>\n",
       "      <td>0</td>\n",
       "      <td>0</td>\n",
       "      <td>0</td>\n",
       "      <td>0</td>\n",
       "    </tr>\n",
       "    <tr>\n",
       "      <th>116427</th>\n",
       "      <td>Refugees</td>\n",
       "      <td>zzz</td>\n",
       "      <td>Total</td>\n",
       "      <td>TOT</td>\n",
       "      <td>American Samoa</td>\n",
       "      <td>ASM</td>\n",
       "      <td>0</td>\n",
       "      <td>0</td>\n",
       "      <td>0</td>\n",
       "      <td>0</td>\n",
       "      <td>0</td>\n",
       "      <td>0</td>\n",
       "    </tr>\n",
       "    <tr>\n",
       "      <th>116428</th>\n",
       "      <td>Refugees</td>\n",
       "      <td>zzz</td>\n",
       "      <td>Total</td>\n",
       "      <td>TOT</td>\n",
       "      <td>Andorra</td>\n",
       "      <td>AND</td>\n",
       "      <td>0</td>\n",
       "      <td>0</td>\n",
       "      <td>0</td>\n",
       "      <td>0</td>\n",
       "      <td>0</td>\n",
       "      <td>0</td>\n",
       "    </tr>\n",
       "    <tr>\n",
       "      <th>...</th>\n",
       "      <td>...</td>\n",
       "      <td>...</td>\n",
       "      <td>...</td>\n",
       "      <td>...</td>\n",
       "      <td>...</td>\n",
       "      <td>...</td>\n",
       "      <td>...</td>\n",
       "      <td>...</td>\n",
       "      <td>...</td>\n",
       "      <td>...</td>\n",
       "      <td>...</td>\n",
       "      <td>...</td>\n",
       "    </tr>\n",
       "    <tr>\n",
       "      <th>117112</th>\n",
       "      <td>Refugees</td>\n",
       "      <td>zzz</td>\n",
       "      <td>Male</td>\n",
       "      <td>MAL</td>\n",
       "      <td>Wallis and Futuna</td>\n",
       "      <td>WLF</td>\n",
       "      <td>0</td>\n",
       "      <td>0</td>\n",
       "      <td>0</td>\n",
       "      <td>0</td>\n",
       "      <td>0</td>\n",
       "      <td>0</td>\n",
       "    </tr>\n",
       "    <tr>\n",
       "      <th>117113</th>\n",
       "      <td>Refugees</td>\n",
       "      <td>zzz</td>\n",
       "      <td>Male</td>\n",
       "      <td>MAL</td>\n",
       "      <td>West Bank and Gaza</td>\n",
       "      <td>PSE</td>\n",
       "      <td>0</td>\n",
       "      <td>0</td>\n",
       "      <td>0</td>\n",
       "      <td>0</td>\n",
       "      <td>0</td>\n",
       "      <td>0</td>\n",
       "    </tr>\n",
       "    <tr>\n",
       "      <th>117114</th>\n",
       "      <td>Refugees</td>\n",
       "      <td>zzz</td>\n",
       "      <td>Male</td>\n",
       "      <td>MAL</td>\n",
       "      <td>Yemen, Rep.</td>\n",
       "      <td>YEM</td>\n",
       "      <td>0</td>\n",
       "      <td>0</td>\n",
       "      <td>0</td>\n",
       "      <td>0</td>\n",
       "      <td>0</td>\n",
       "      <td>0</td>\n",
       "    </tr>\n",
       "    <tr>\n",
       "      <th>117115</th>\n",
       "      <td>Refugees</td>\n",
       "      <td>zzz</td>\n",
       "      <td>Male</td>\n",
       "      <td>MAL</td>\n",
       "      <td>Zambia</td>\n",
       "      <td>ZMB</td>\n",
       "      <td>0</td>\n",
       "      <td>0</td>\n",
       "      <td>0</td>\n",
       "      <td>0</td>\n",
       "      <td>0</td>\n",
       "      <td>0</td>\n",
       "    </tr>\n",
       "    <tr>\n",
       "      <th>117116</th>\n",
       "      <td>Refugees</td>\n",
       "      <td>zzz</td>\n",
       "      <td>Male</td>\n",
       "      <td>MAL</td>\n",
       "      <td>Zimbabwe</td>\n",
       "      <td>ZWE</td>\n",
       "      <td>0</td>\n",
       "      <td>0</td>\n",
       "      <td>0</td>\n",
       "      <td>0</td>\n",
       "      <td>0</td>\n",
       "      <td>0</td>\n",
       "    </tr>\n",
       "  </tbody>\n",
       "</table>\n",
       "<p>693 rows × 12 columns</p>\n",
       "</div>"
      ],
      "text/plain": [
       "       Country Origin Name Country Origin Code Migration by Gender Name  \\\n",
       "116424            Refugees                 zzz                    Total   \n",
       "116425            Refugees                 zzz                    Total   \n",
       "116426            Refugees                 zzz                    Total   \n",
       "116427            Refugees                 zzz                    Total   \n",
       "116428            Refugees                 zzz                    Total   \n",
       "...                    ...                 ...                      ...   \n",
       "117112            Refugees                 zzz                     Male   \n",
       "117113            Refugees                 zzz                     Male   \n",
       "117114            Refugees                 zzz                     Male   \n",
       "117115            Refugees                 zzz                     Male   \n",
       "117116            Refugees                 zzz                     Male   \n",
       "\n",
       "       Migration by Gender Code   Country Dest Name Country Dest Code  1960  \\\n",
       "116424                      TOT         Afghanistan               AFG     0   \n",
       "116425                      TOT             Albania               ALB     0   \n",
       "116426                      TOT             Algeria               DZA     0   \n",
       "116427                      TOT      American Samoa               ASM     0   \n",
       "116428                      TOT             Andorra               AND     0   \n",
       "...                         ...                 ...               ...   ...   \n",
       "117112                      MAL   Wallis and Futuna               WLF     0   \n",
       "117113                      MAL  West Bank and Gaza               PSE     0   \n",
       "117114                      MAL         Yemen, Rep.               YEM     0   \n",
       "117115                      MAL              Zambia               ZMB     0   \n",
       "117116                      MAL            Zimbabwe               ZWE     0   \n",
       "\n",
       "        1970  1980  1990  2000  Total Migration  \n",
       "116424     0     0     0     0                0  \n",
       "116425     0     0     0     0                0  \n",
       "116426     0     0     0     0                0  \n",
       "116427     0     0     0     0                0  \n",
       "116428     0     0     0     0                0  \n",
       "...      ...   ...   ...   ...              ...  \n",
       "117112     0     0     0     0                0  \n",
       "117113     0     0     0     0                0  \n",
       "117114     0     0     0     0                0  \n",
       "117115     0     0     0     0                0  \n",
       "117116     0     0     0     0                0  \n",
       "\n",
       "[693 rows x 12 columns]"
      ]
     },
     "execution_count": 31,
     "metadata": {},
     "output_type": "execute_result"
    }
   ],
   "source": [
    "df[df['Country Origin Name'] == 'Refugees']"
   ]
  },
  {
   "cell_type": "code",
   "execution_count": 39,
   "id": "bd51612a",
   "metadata": {},
   "outputs": [
    {
     "data": {
      "application/vnd.jupyter.widget-view+json": {
       "model_id": "0246c4205781478eab0a47a75dad34fa",
       "version_major": 2,
       "version_minor": 0
      },
      "text/plain": [
       "interactive(children=(IntSlider(value=5, description='K', max=20, min=1), Dropdown(description='year', index=5…"
      ]
     },
     "metadata": {},
     "output_type": "display_data"
    }
   ],
   "source": [
    "# Assuming df is the dataframe provided by the user\n",
    "\n",
    "# Step 1: Filter the dataframe for 'Refugees' and store it in a new dataframe 'df_ref'\n",
    "df_ref = df[df['Country Origin Name'] == 'Reunion']\n",
    "\n",
    "# Step 2: Rewriting the code to use df_ref for the plot\n",
    "\n",
    "import pandas as pd\n",
    "import matplotlib.pyplot as plt\n",
    "from ipywidgets import interact\n",
    "\n",
    "# Function to plot the top K destinations for the selected year\n",
    "def plot_top_k_by_year(K=5, year='Total Migration'):\n",
    "    # Filter Male and Female separately from df_ref\n",
    "    df_male = df_ref[(df_ref['Migration by Gender Name'] == 'Male')]\n",
    "    df_female = df_ref[(df_ref['Migration by Gender Name'] == 'Female')]\n",
    "    \n",
    "    # Group by destination and sum the selected year\n",
    "    top_male = df_male.groupby('Country Dest Name')[year].sum().nlargest(K)\n",
    "    top_female = df_female.groupby('Country Dest Name')[year].sum().nlargest(K)\n",
    "    \n",
    "    # Get the common top destinations for both male and female for alignment\n",
    "    top_dest = set(top_male.index).union(set(top_female.index))\n",
    "    \n",
    "    # Align the data\n",
    "    top_male = top_male.reindex(top_dest, fill_value=0)\n",
    "    top_female = top_female.reindex(top_dest, fill_value=0)\n",
    "    \n",
    "    # Plot side by side\n",
    "    fig, ax = plt.subplots(figsize=(10, 6))\n",
    "    width = 0.4  # width of the bars\n",
    "    \n",
    "    # Plot Male migration\n",
    "    ax.bar([x - width/2 for x in range(len(top_male))], top_male.values, width=width, label='Male')\n",
    "    \n",
    "    # Plot Female migration\n",
    "    ax.bar([x + width/2 for x in range(len(top_female))], top_female.values, width=width, label='Female')\n",
    "    \n",
    "    # Setting labels and titles\n",
    "    ax.set_xticks(range(len(top_dest)))\n",
    "    ax.set_xticklabels(top_male.index, rotation=45, ha=\"right\")\n",
    "    ax.set_xlabel('Country Destination Name')\n",
    "    ax.set_ylabel(f'Migration in {year}')\n",
    "    ax.set_title(f'Top {K} Destinations for Male and Female Refugee Migration in {year}')\n",
    "    ax.legend()\n",
    "    \n",
    "    plt.tight_layout()\n",
    "    plt.show()\n",
    "\n",
    "# Interactive widget to select K and year\n",
    "interact(plot_top_k_by_year, K=(1, 20, 1), year=['1960', '1970', '1980', '1990', '2000', 'Total Migration']);\n"
   ]
  },
  {
   "cell_type": "code",
   "execution_count": 38,
   "id": "fc5f4e9e",
   "metadata": {},
   "outputs": [
    {
     "data": {
      "text/plain": [
       "Country Origin Name         ReunionReunionReunionReunionReunionReunionReun...\n",
       "Country Origin Code         REUREUREUREUREUREUREUREUREUREUREUREUREUREUREUR...\n",
       "Migration by Gender Name    TotalTotalTotalTotalTotalTotalTotalTotalTotalT...\n",
       "Migration by Gender Code    TOTTOTTOTTOTTOTTOTTOTTOTTOTTOTTOTTOTTOTTOTTOTT...\n",
       "Country Dest Name           AfghanistanAlbaniaAlgeriaAmerican SamoaAndorra...\n",
       "Country Dest Code           AFGALBDZAASMANDAGOAIAATGARGARMABWAUSAUTAZEBHSB...\n",
       "1960                                                                     3930\n",
       "1970                                                                    14088\n",
       "1980                                                                   151454\n",
       "1990                                                                     5335\n",
       "2000                                                                   230240\n",
       "Total Migration                                                        405047\n",
       "dtype: object"
      ]
     },
     "execution_count": 38,
     "metadata": {},
     "output_type": "execute_result"
    }
   ],
   "source": [
    "df[df['Country Origin Name'] == 'Reunion'].sum()"
   ]
  },
  {
   "cell_type": "code",
   "execution_count": 37,
   "id": "bbc2e934",
   "metadata": {},
   "outputs": [
    {
     "data": {
      "text/plain": [
       "array(['Afghanistan', 'Albania', 'Algeria', 'American Samoa', 'Andorra',\n",
       "       'Angola', 'Anguilla', 'Antigua and Barbuda', 'Argentina',\n",
       "       'Armenia', 'Aruba', 'Australia', 'Austria', 'Azerbaijan',\n",
       "       'Bahamas, The', 'Bahrain', 'Bangladesh', 'Barbados', 'Belarus',\n",
       "       'Belgium', 'Belize', 'Benin', 'Bermuda', 'Bhutan', 'Bolivia',\n",
       "       'Bosnia and Herzegovina', 'Botswana', 'Brazil',\n",
       "       'Brunei Darussalam', 'Bulgaria', 'Burkina Faso', 'Burundi',\n",
       "       'Cambodia', 'Cameroon', 'Canada', 'Cape Verde', 'Cayman Islands',\n",
       "       'Central African Republic', 'Chad', 'Channel Islands', 'Chile',\n",
       "       'China', 'Colombia', 'Comoros', 'Congo, Dem. Rep.', 'Congo, Rep.',\n",
       "       'Cook Islands', 'Costa Rica', \"Cote d'Ivoire\", 'Croatia', 'Cuba',\n",
       "       'Cyprus', 'Czech Republic', 'Denmark', 'Djibouti', 'Dominica',\n",
       "       'Dominican Republic', 'Ecuador', 'Egypt, Arab Rep.', 'El Salvador',\n",
       "       'Equatorial Guinea', 'Eritrea', 'Estonia', 'Ethiopia',\n",
       "       'Faeroe Islands', 'Falkland Islands (Malvinas)', 'Fiji', 'Finland',\n",
       "       'France', 'French Guiana', 'French Polynesia', 'Gabon',\n",
       "       'Gambia, The', 'Georgia', 'Germany', 'Ghana', 'Gibraltar',\n",
       "       'Greece', 'Greenland', 'Grenada', 'Guadeloupe', 'Guam',\n",
       "       'Guatemala', 'Guinea', 'Guinea-Bissau', 'Guyana', 'Haiti',\n",
       "       'Honduras', 'Hong Kong SAR, China', 'Hungary', 'Iceland', 'India',\n",
       "       'Indonesia', 'Iran, Islamic Rep.', 'Iraq', 'Ireland',\n",
       "       'Isle of Man', 'Israel', 'Italy', 'Jamaica', 'Japan', 'Jordan',\n",
       "       'Kazakhstan', 'Kenya', 'Kiribati', 'Korea, Dem. Rep.',\n",
       "       'Korea, Rep.', 'Kosovo', 'Kuwait', 'Kyrgyz Republic', 'Lao PDR',\n",
       "       'Latvia', 'Lebanon', 'Lesotho', 'Liberia', 'Libya',\n",
       "       'Liechtenstein', 'Lithuania', 'Luxembourg', 'Macao SAR, China',\n",
       "       'Macedonia, FYR', 'Madagascar', 'Malawi', 'Malaysia', 'Maldives',\n",
       "       'Mali', 'Malta', 'Marshall Islands', 'Martinique', 'Mauritania',\n",
       "       'Mauritius', 'Mayotte', 'Mexico', 'Micronesia, Fed. Sts.',\n",
       "       'Moldova', 'Monaco', 'Mongolia', 'Montenegro', 'Montserrat',\n",
       "       'Morocco', 'Mozambique', 'Myanmar', 'Namibia', 'Naura', 'Nepal',\n",
       "       'Netherlands', 'Netherlands Antilles', 'New Caledonia',\n",
       "       'New Zealand', 'Nicaragua', 'Niger', 'Nigeria', 'Niue',\n",
       "       'Norfolk Island', 'Northern Mariana Islands', 'Norway', 'Oman',\n",
       "       'Pakistan', 'Palau', 'Panama', 'Papua New Guinea', 'Paraguay',\n",
       "       'Peru', 'Philippines', 'Poland', 'Portugal', 'Puerto Rico',\n",
       "       'Qatar', 'Refugees', 'Reunion', 'Romania', 'Russian Federation',\n",
       "       'Rwanda', 'Saint Helena', 'Saint Pierre and Miquelon', 'Samoa',\n",
       "       'San Marino', 'Sao Tome and Principe', 'Saudi Arabia', 'Senegal',\n",
       "       'Serbia', 'Serbia and Montenegro', 'Seychelles', 'Sierra Leone',\n",
       "       'Singapore', 'Slovak Republic', 'Slovenia', 'Solomon Islands',\n",
       "       'Somalia', 'South Africa', 'Spain', 'Sri Lanka',\n",
       "       'St. Kitts and Nevis', 'St. Lucia',\n",
       "       'St. Vincent and the Grenadines', 'Sudan', 'Suriname', 'Swaziland',\n",
       "       'Sweden', 'Switzerland', 'Syrian Arab Republic', 'Taiwan, China',\n",
       "       'Tajikistan', 'Tanzania', 'Thailand', 'Timor-Leste', 'Togo',\n",
       "       'Tokelau', 'Tonga', 'Trinidad and Tobago', 'Tunisia', 'Turkey',\n",
       "       'Turkmenistan', 'Turks and Caicos Islands', 'Tuvalu', 'Uganda',\n",
       "       'Ukraine', 'United Arab Emirates', 'United Kingdom',\n",
       "       'United States', 'Uruguay', 'Uzbekistan', 'Vanuatu',\n",
       "       'Venezuela, RB', 'Vietnam', 'Virgin Islands (U.S.)',\n",
       "       'Virgin Islands, British', 'Wallis and Futuna',\n",
       "       'West Bank and Gaza', 'Yemen, Rep.', 'Zambia', 'Zimbabwe'],\n",
       "      dtype=object)"
      ]
     },
     "execution_count": 37,
     "metadata": {},
     "output_type": "execute_result"
    }
   ],
   "source": [
    "df['Country Origin Name'].unique()"
   ]
  },
  {
   "cell_type": "code",
   "execution_count": null,
   "id": "7d2c2b4e",
   "metadata": {},
   "outputs": [],
   "source": []
  },
  {
   "cell_type": "code",
   "execution_count": 41,
   "id": "5dab6d46",
   "metadata": {},
   "outputs": [
    {
     "data": {
      "text/plain": [
       "Index(['Country Origin Name', 'Country Origin Code',\n",
       "       'Migration by Gender Name', 'Migration by Gender Code',\n",
       "       'Country Dest Name', 'Country Dest Code', '1960', '1970', '1980',\n",
       "       '1990', '2000', 'Total Migration'],\n",
       "      dtype='object')"
      ]
     },
     "execution_count": 41,
     "metadata": {},
     "output_type": "execute_result"
    }
   ],
   "source": [
    "df.columns"
   ]
  },
  {
   "cell_type": "code",
   "execution_count": 42,
   "id": "80be0242",
   "metadata": {},
   "outputs": [],
   "source": [
    "# Step 1: Create unique pairs of source-destination by sorting them\n",
    "df['pair'] = df.apply(lambda row: '-'.join(sorted([row['Country Origin Name'], row['Country Dest Name']])), axis=1)\n",
    "\n",
    "# Step 2: Remove duplicated pairs (to avoid source-destination and destination-source repeats)\n",
    "df_unique = df.drop_duplicates(subset=['pair'])\n",
    "\n",
    "# Step 3: Iterate over each year, find top 5 pairs\n",
    "top_pairs_by_year = {}\n",
    "years = ['1960', '1970', '1980', '1990', '2000']\n",
    "\n",
    "for year in years:\n",
    "    # Sort by migration count for the given year and select top 5\n",
    "    top_5 = df_unique[['Country Origin Name', 'Country Dest Name', year]].sort_values(by=year, ascending=False).head(5)\n",
    "    top_pairs_by_year[year] = top_5\n",
    "\n",
    "# Now `top_pairs_by_year` contains the top 5 pairs for each year\n"
   ]
  },
  {
   "cell_type": "code",
   "execution_count": 43,
   "id": "8f25b1df",
   "metadata": {},
   "outputs": [
    {
     "data": {
      "text/plain": [
       "{'1960':        Country Origin Name     Country Dest Name     1960\n",
       " 63220                India              Pakistan  6293916\n",
       " 118718  Russian Federation               Ukraine  3233837\n",
       " 28505                China             Indonesia  1723200\n",
       " 28501                China  Hong Kong SAR, China  1562528\n",
       " 68132                Italy         United States  1312537,\n",
       " '1970':        Country Origin Name   Country Dest Name     1970\n",
       " 63220                India            Pakistan  4858023\n",
       " 118718  Russian Federation             Ukraine  4182267\n",
       " 1454               Algeria              France  1493990\n",
       " 70856           Kazakhstan  Russian Federation  1371420\n",
       " 68132                Italy       United States  1193985,\n",
       " '1980':        Country Origin Name     Country Dest Name     1980\n",
       " 118718  Russian Federation               Ukraine  4803152\n",
       " 11179           Bangladesh                 India  4653065\n",
       " 63220                India              Pakistan  3899706\n",
       " 91694               Mexico         United States  2408502\n",
       " 28501                China  Hong Kong SAR, China  1898285,\n",
       " '1990':        Country Origin Name     Country Dest Name     1990\n",
       " 118718  Russian Federation               Ukraine  5211922\n",
       " 91694               Mexico         United States  4662233\n",
       " 11179           Bangladesh                 India  4250287\n",
       " 63220                India              Pakistan  3130431\n",
       " 28501                China  Hong Kong SAR, China  1994591,\n",
       " '2000':        Country Origin Name   Country Dest Name     2000\n",
       " 91694               Mexico       United States  9367910\n",
       " 11179           Bangladesh               India  3789377\n",
       " 118718  Russian Federation             Ukraine  3613240\n",
       " 70856           Kazakhstan  Russian Federation  2584955\n",
       " 63220                India            Pakistan  2512906}"
      ]
     },
     "execution_count": 43,
     "metadata": {},
     "output_type": "execute_result"
    }
   ],
   "source": [
    "top_pairs_by_year"
   ]
  },
  {
   "cell_type": "code",
   "execution_count": 46,
   "id": "0498cfde",
   "metadata": {},
   "outputs": [
    {
     "data": {
      "image/png": "[encoded data removed]",
      "text/plain": [
       "<Figure size 1000x600 with 1 Axes>"
      ]
     },
     "metadata": {},
     "output_type": "display_data"
    }
   ],
   "source": [
    "import matplotlib.pyplot as plt\n",
    "\n",
    "# Step 1: Create a dictionary to hold top-1 pairs and their migration values for each year\n",
    "top_1_by_year = {}\n",
    "\n",
    "for year in years:\n",
    "    # Sort by migration for the given year and get the top 1 pair\n",
    "    top_1 = df_unique[['Country Origin Name', 'Country Dest Name', year]].sort_values(by=year, ascending=False).head(1)\n",
    "    pair_name = top_1['Country Origin Name'].values[0] + \" -> \" + top_1['Country Dest Name'].values[0]\n",
    "    top_1_by_year[year] = (pair_name, top_1[year].values[0])\n",
    "\n",
    "# Step 2: Plotting the results\n",
    "years = list(top_1_by_year.keys())\n",
    "migration_counts = [top_1_by_year[year][1] for year in years]\n",
    "pairs = [top_1_by_year[year][0] for year in years]\n",
    "\n",
    "plt.figure(figsize=(10, 6))\n",
    "plt.bar(years, migration_counts, color='skyblue')\n",
    "\n",
    "# Adding pair labels to each bar\n",
    "for i, year in enumerate(years):\n",
    "    plt.text(year, migration_counts[i] + 10000, pairs[i], ha='center', fontsize=10)\n",
    "\n",
    "plt.title('Top-1 Migration Pairs Over Time', fontsize=14)\n",
    "plt.xlabel('Year')\n",
    "plt.ylabel('Migration Count')\n",
    "plt.xticks(years)\n",
    "plt.show()\n"
   ]
  },
  {
   "cell_type": "code",
   "execution_count": 45,
   "id": "03a0d0f9",
   "metadata": {},
   "outputs": [
    {
     "ename": "ValueError",
     "evalue": "Length mismatch: Expected axis has 8 elements, new values have 4 elements",
     "output_type": "error",
     "traceback": [
      "\u001b[0;31m---------------------------------------------------------------------------\u001b[0m",
      "\u001b[0;31mValueError\u001b[0m                                Traceback (most recent call last)",
      "Cell \u001b[0;32mIn[45], line 12\u001b[0m\n\u001b[1;32m     10\u001b[0m \u001b[38;5;66;03m# Convert to a DataFrame for easier plotting\u001b[39;00m\n\u001b[1;32m     11\u001b[0m top_1_df \u001b[38;5;241m=\u001b[39m pd\u001b[38;5;241m.\u001b[39mDataFrame\u001b[38;5;241m.\u001b[39mfrom_dict(top_1_by_year, orient\u001b[38;5;241m=\u001b[39m\u001b[38;5;124m'\u001b[39m\u001b[38;5;124mindex\u001b[39m\u001b[38;5;124m'\u001b[39m)\u001b[38;5;241m.\u001b[39mreset_index()\n\u001b[0;32m---> 12\u001b[0m top_1_df\u001b[38;5;241m.\u001b[39mcolumns \u001b[38;5;241m=\u001b[39m [\u001b[38;5;124m'\u001b[39m\u001b[38;5;124mYear\u001b[39m\u001b[38;5;124m'\u001b[39m, \u001b[38;5;124m'\u001b[39m\u001b[38;5;124mCountry Origin Name\u001b[39m\u001b[38;5;124m'\u001b[39m, \u001b[38;5;124m'\u001b[39m\u001b[38;5;124mCountry Dest Name\u001b[39m\u001b[38;5;124m'\u001b[39m, \u001b[38;5;124m'\u001b[39m\u001b[38;5;124mMigration\u001b[39m\u001b[38;5;124m'\u001b[39m]\n\u001b[1;32m     14\u001b[0m \u001b[38;5;66;03m# Combine the origin and destination countries into a label for the bar plot\u001b[39;00m\n\u001b[1;32m     15\u001b[0m top_1_df[\u001b[38;5;124m'\u001b[39m\u001b[38;5;124mPair\u001b[39m\u001b[38;5;124m'\u001b[39m] \u001b[38;5;241m=\u001b[39m top_1_df[\u001b[38;5;124m'\u001b[39m\u001b[38;5;124mCountry Origin Name\u001b[39m\u001b[38;5;124m'\u001b[39m] \u001b[38;5;241m+\u001b[39m \u001b[38;5;124m\"\u001b[39m\u001b[38;5;124m -> \u001b[39m\u001b[38;5;124m\"\u001b[39m \u001b[38;5;241m+\u001b[39m top_1_df[\u001b[38;5;124m'\u001b[39m\u001b[38;5;124mCountry Dest Name\u001b[39m\u001b[38;5;124m'\u001b[39m]\n",
      "File \u001b[0;32m~/anaconda3/envs/domino-generalized/lib/python3.10/site-packages/pandas/core/generic.py:5915\u001b[0m, in \u001b[0;36mNDFrame.__setattr__\u001b[0;34m(self, name, value)\u001b[0m\n\u001b[1;32m   5913\u001b[0m \u001b[38;5;28;01mtry\u001b[39;00m:\n\u001b[1;32m   5914\u001b[0m     \u001b[38;5;28mobject\u001b[39m\u001b[38;5;241m.\u001b[39m\u001b[38;5;21m__getattribute__\u001b[39m(\u001b[38;5;28mself\u001b[39m, name)\n\u001b[0;32m-> 5915\u001b[0m     \u001b[38;5;28;01mreturn\u001b[39;00m \u001b[38;5;28;43mobject\u001b[39;49m\u001b[38;5;241;43m.\u001b[39;49m\u001b[38;5;21;43m__setattr__\u001b[39;49m\u001b[43m(\u001b[49m\u001b[38;5;28;43mself\u001b[39;49m\u001b[43m,\u001b[49m\u001b[43m \u001b[49m\u001b[43mname\u001b[49m\u001b[43m,\u001b[49m\u001b[43m \u001b[49m\u001b[43mvalue\u001b[49m\u001b[43m)\u001b[49m\n\u001b[1;32m   5916\u001b[0m \u001b[38;5;28;01mexcept\u001b[39;00m \u001b[38;5;167;01mAttributeError\u001b[39;00m:\n\u001b[1;32m   5917\u001b[0m     \u001b[38;5;28;01mpass\u001b[39;00m\n",
      "File \u001b[0;32m~/anaconda3/envs/domino-generalized/lib/python3.10/site-packages/pandas/_libs/properties.pyx:69\u001b[0m, in \u001b[0;36mpandas._libs.properties.AxisProperty.__set__\u001b[0;34m()\u001b[0m\n",
      "File \u001b[0;32m~/anaconda3/envs/domino-generalized/lib/python3.10/site-packages/pandas/core/generic.py:823\u001b[0m, in \u001b[0;36mNDFrame._set_axis\u001b[0;34m(self, axis, labels)\u001b[0m\n\u001b[1;32m    821\u001b[0m \u001b[38;5;28;01mdef\u001b[39;00m \u001b[38;5;21m_set_axis\u001b[39m(\u001b[38;5;28mself\u001b[39m, axis: \u001b[38;5;28mint\u001b[39m, labels: AnyArrayLike \u001b[38;5;241m|\u001b[39m \u001b[38;5;28mlist\u001b[39m) \u001b[38;5;241m-\u001b[39m\u001b[38;5;241m>\u001b[39m \u001b[38;5;28;01mNone\u001b[39;00m:\n\u001b[1;32m    822\u001b[0m     labels \u001b[38;5;241m=\u001b[39m ensure_index(labels)\n\u001b[0;32m--> 823\u001b[0m     \u001b[38;5;28;43mself\u001b[39;49m\u001b[38;5;241;43m.\u001b[39;49m\u001b[43m_mgr\u001b[49m\u001b[38;5;241;43m.\u001b[39;49m\u001b[43mset_axis\u001b[49m\u001b[43m(\u001b[49m\u001b[43maxis\u001b[49m\u001b[43m,\u001b[49m\u001b[43m \u001b[49m\u001b[43mlabels\u001b[49m\u001b[43m)\u001b[49m\n\u001b[1;32m    824\u001b[0m     \u001b[38;5;28mself\u001b[39m\u001b[38;5;241m.\u001b[39m_clear_item_cache()\n",
      "File \u001b[0;32m~/anaconda3/envs/domino-generalized/lib/python3.10/site-packages/pandas/core/internals/managers.py:230\u001b[0m, in \u001b[0;36mBaseBlockManager.set_axis\u001b[0;34m(self, axis, new_labels)\u001b[0m\n\u001b[1;32m    228\u001b[0m \u001b[38;5;28;01mdef\u001b[39;00m \u001b[38;5;21mset_axis\u001b[39m(\u001b[38;5;28mself\u001b[39m, axis: \u001b[38;5;28mint\u001b[39m, new_labels: Index) \u001b[38;5;241m-\u001b[39m\u001b[38;5;241m>\u001b[39m \u001b[38;5;28;01mNone\u001b[39;00m:\n\u001b[1;32m    229\u001b[0m     \u001b[38;5;66;03m# Caller is responsible for ensuring we have an Index object.\u001b[39;00m\n\u001b[0;32m--> 230\u001b[0m     \u001b[38;5;28;43mself\u001b[39;49m\u001b[38;5;241;43m.\u001b[39;49m\u001b[43m_validate_set_axis\u001b[49m\u001b[43m(\u001b[49m\u001b[43maxis\u001b[49m\u001b[43m,\u001b[49m\u001b[43m \u001b[49m\u001b[43mnew_labels\u001b[49m\u001b[43m)\u001b[49m\n\u001b[1;32m    231\u001b[0m     \u001b[38;5;28mself\u001b[39m\u001b[38;5;241m.\u001b[39maxes[axis] \u001b[38;5;241m=\u001b[39m new_labels\n",
      "File \u001b[0;32m~/anaconda3/envs/domino-generalized/lib/python3.10/site-packages/pandas/core/internals/base.py:70\u001b[0m, in \u001b[0;36mDataManager._validate_set_axis\u001b[0;34m(self, axis, new_labels)\u001b[0m\n\u001b[1;32m     67\u001b[0m     \u001b[38;5;28;01mpass\u001b[39;00m\n\u001b[1;32m     69\u001b[0m \u001b[38;5;28;01melif\u001b[39;00m new_len \u001b[38;5;241m!=\u001b[39m old_len:\n\u001b[0;32m---> 70\u001b[0m     \u001b[38;5;28;01mraise\u001b[39;00m \u001b[38;5;167;01mValueError\u001b[39;00m(\n\u001b[1;32m     71\u001b[0m         \u001b[38;5;124mf\u001b[39m\u001b[38;5;124m\"\u001b[39m\u001b[38;5;124mLength mismatch: Expected axis has \u001b[39m\u001b[38;5;132;01m{\u001b[39;00mold_len\u001b[38;5;132;01m}\u001b[39;00m\u001b[38;5;124m elements, new \u001b[39m\u001b[38;5;124m\"\u001b[39m\n\u001b[1;32m     72\u001b[0m         \u001b[38;5;124mf\u001b[39m\u001b[38;5;124m\"\u001b[39m\u001b[38;5;124mvalues have \u001b[39m\u001b[38;5;132;01m{\u001b[39;00mnew_len\u001b[38;5;132;01m}\u001b[39;00m\u001b[38;5;124m elements\u001b[39m\u001b[38;5;124m\"\u001b[39m\n\u001b[1;32m     73\u001b[0m     )\n",
      "\u001b[0;31mValueError\u001b[0m: Length mismatch: Expected axis has 8 elements, new values have 4 elements"
     ]
    }
   ],
   "source": [
    "import matplotlib.pyplot as plt\n",
    "\n",
    "# Extract top-1 pairs for each year\n",
    "top_1_by_year = {}\n",
    "\n",
    "for year in years:\n",
    "    top_1 = df_unique[['Country Origin Name', 'Country Dest Name', year]].sort_values(by=year, ascending=False).head(1)\n",
    "    top_1_by_year[year] = top_1.iloc[0]  # Flattening the result\n",
    "\n",
    "# Convert to a DataFrame for easier plotting\n",
    "top_1_df = pd.DataFrame.from_dict(top_1_by_year, orient='index').reset_index()\n",
    "top_1_df.columns = ['Year', 'Country Origin Name', 'Country Dest Name', 'Migration']\n",
    "\n",
    "# Combine the origin and destination countries into a label for the bar plot\n",
    "top_1_df['Pair'] = top_1_df['Country Origin Name'] + \" -> \" + top_1_df['Country Dest Name']\n",
    "\n",
    "# Plotting the bar plot\n",
    "plt.figure(figsize=(10,6))\n",
    "plt.bar(top_1_df['Year'], top_1_df['Migration'], color='skyblue')\n",
    "\n",
    "# Adding labels\n",
    "for i, row in top_1_df.iterrows():\n",
    "    plt.text(row['Year'], row['Migration'] + 10000, row['Pair'], ha='center', fontsize=10)\n",
    "\n",
    "plt.title('Top-1 Migration Pairs Over Time', fontsize=14)\n",
    "plt.xlabel('Year')\n",
    "plt.ylabel('Migration Count')\n",
    "plt.xticks(top_1_df['Year'])\n",
    "plt.show()\n"
   ]
  },
  {
   "cell_type": "code",
   "execution_count": 48,
   "id": "5cc43bfd",
   "metadata": {},
   "outputs": [
    {
     "data": {
      "image/png": "[encoded data removed]",
      "text/plain": [
       "<Figure size 1000x600 with 1 Axes>"
      ]
     },
     "metadata": {},
     "output_type": "display_data"
    }
   ],
   "source": [
    "import matplotlib.pyplot as plt\n",
    "\n",
    "# Step 1: Create a dictionary to hold top-1 pairs and their migration values for each year\n",
    "top_1_by_year = {}\n",
    "\n",
    "for year in years:\n",
    "    # Sort by migration for the given year and get the top 1 pair\n",
    "    top_1 = df_unique[['Country Origin Name', 'Country Dest Name', year]].sort_values(by=year, ascending=False).head(1)\n",
    "    pair_name = top_1['Country Origin Name'].values[0] + \"  & \" + top_1['Country Dest Name'].values[0]\n",
    "    top_1_by_year[year] = (pair_name, top_1[year].values[0])\n",
    "\n",
    "# Step 2: Plotting the results\n",
    "years = list(top_1_by_year.keys())\n",
    "migration_counts = [top_1_by_year[year][1] for year in years]\n",
    "pairs = [top_1_by_year[year][0] for year in years]\n",
    "\n",
    "plt.figure(figsize=(10, 6))\n",
    "bars = plt.bar(years, migration_counts, color='skyblue')\n",
    "\n",
    "# Adding pair labels to each bar with rotation to avoid overlap\n",
    "for i, year in enumerate(years):\n",
    "    plt.text(year, migration_counts[i] + 10000, pairs[i], ha='center', fontsize=10, rotation=15)\n",
    "\n",
    "plt.title('Top-1 Migration Pairs Over Time', fontsize=14)\n",
    "plt.xlabel('Year')\n",
    "plt.ylabel('Migration Count')\n",
    "plt.xticks(years)\n",
    "plt.tight_layout()  # Adjust layout to make sure everything fits\n",
    "plt.show()\n"
   ]
  },
  {
   "cell_type": "code",
   "execution_count": 49,
   "id": "e43a69ac",
   "metadata": {},
   "outputs": [
    {
     "data": {
      "image/png": "[encoded data removed]",
      "text/plain": [
       "<Figure size 1000x600 with 1 Axes>"
      ]
     },
     "metadata": {},
     "output_type": "display_data"
    }
   ],
   "source": [
    "import matplotlib.pyplot as plt\n",
    "\n",
    "# Step 1: Create a dictionary to hold top-1 pairs and their migration values for each year\n",
    "top_1_by_year = {}\n",
    "\n",
    "for year in years:\n",
    "    # Sort by migration for the given year and get the top 1 pair\n",
    "    top_1 = df_unique[['Country Origin Name', 'Country Dest Name', year]].sort_values(by=year, ascending=False).head(1)\n",
    "    pair_name = top_1['Country Origin Name'].values[0] + \" -> \" + top_1['Country Dest Name'].values[0]\n",
    "    top_1_by_year[year] = (pair_name, top_1[year].values[0])\n",
    "\n",
    "# Step 2: Plotting the results\n",
    "years = list(top_1_by_year.keys())\n",
    "migration_counts = [top_1_by_year[year][1] / 1_000_000 for year in years]  # Convert to millions\n",
    "pairs = [top_1_by_year[year][0] for year in years]\n",
    "\n",
    "plt.figure(figsize=(10, 6))\n",
    "bars = plt.bar(years, migration_counts, color='skyblue')\n",
    "\n",
    "# Adding pair labels to each bar without rotation\n",
    "for i, year in enumerate(years):\n",
    "    plt.text(year, migration_counts[i] + 0.1, pairs[i], ha='center', fontsize=10)\n",
    "\n",
    "plt.title('Top-1 Migration Pairs Over Time', fontsize=14)\n",
    "plt.xlabel('Year')\n",
    "plt.ylabel('Migration Count (Millions)')\n",
    "plt.xticks(years)\n",
    "plt.tight_layout()  # Adjust layout\n",
    "plt.show()\n"
   ]
  },
  {
   "cell_type": "code",
   "execution_count": 50,
   "id": "9c44d69b",
   "metadata": {},
   "outputs": [
    {
     "data": {
      "image/png": "[encoded data removed]",
      "text/plain": [
       "<Figure size 1000x600 with 1 Axes>"
      ]
     },
     "metadata": {},
     "output_type": "display_data"
    }
   ],
   "source": [
    "import matplotlib.pyplot as plt\n",
    "import textwrap\n",
    "\n",
    "# Step 1: Create a dictionary to hold top-1 pairs and their migration values for each year\n",
    "top_1_by_year = {}\n",
    "\n",
    "for year in years:\n",
    "    # Sort by migration for the given year and get the top 1 pair\n",
    "    top_1 = df_unique[['Country Origin Name', 'Country Dest Name', year]].sort_values(by=year, ascending=False).head(1)\n",
    "    pair_name = top_1['Country Origin Name'].values[0] + \" -> \" + top_1['Country Dest Name'].values[0]\n",
    "    top_1_by_year[year] = (pair_name, top_1[year].values[0])\n",
    "\n",
    "# Step 2: Plotting the results\n",
    "years = list(top_1_by_year.keys())\n",
    "migration_counts = [top_1_by_year[year][1] / 1_000_000 for year in years]  # Convert to millions\n",
    "pairs = [top_1_by_year[year][0] for year in years]\n",
    "\n",
    "# Helper function to wrap text\n",
    "def wrap_text(text, width=10):\n",
    "    return '\\n'.join(textwrap.wrap(text, width=width))\n",
    "\n",
    "# Apply wrapping to each pair name\n",
    "wrapped_pairs = [wrap_text(pair, width=15) for pair in pairs]\n",
    "\n",
    "plt.figure(figsize=(10, 6))\n",
    "bars = plt.bar(years, migration_counts, color='skyblue')\n",
    "\n",
    "# Adding wrapped pair labels above each bar\n",
    "for i, year in enumerate(years):\n",
    "    plt.text(year, migration_counts[i] + 0.1, wrapped_pairs[i], ha='center', fontsize=10)\n",
    "\n",
    "plt.title('Top-1 Migration Pairs Over Time', fontsize=14)\n",
    "plt.xlabel('Year')\n",
    "plt.ylabel('Migration Count (Millions)')\n",
    "plt.xticks(years)\n",
    "plt.tight_layout()  # Adjust layout\n",
    "plt.show()\n"
   ]
  },
  {
   "cell_type": "code",
   "execution_count": 52,
   "id": "b6e0d0ad",
   "metadata": {},
   "outputs": [
    {
     "data": {
      "image/png": "[encoded data removed]",
      "text/plain": [
       "<Figure size 1000x600 with 1 Axes>"
      ]
     },
     "metadata": {},
     "output_type": "display_data"
    }
   ],
   "source": [
    "import matplotlib.pyplot as plt\n",
    "import textwrap\n",
    "\n",
    "# Step 1: Create a dictionary to hold top-1 pairs and their migration values for each year\n",
    "top_1_by_year = {}\n",
    "\n",
    "for year in years:\n",
    "    # Sort by migration for the given year and get the top 1 pair\n",
    "    top_1 = df_unique[['Country Origin Name', 'Country Dest Name', year]].sort_values(by=year, ascending=False).head(1)\n",
    "    pair_name = top_1['Country Origin Name'].values[0] + \" & \" + top_1['Country Dest Name'].values[0]\n",
    "    top_1_by_year[year] = (pair_name, top_1[year].values[0])\n",
    "\n",
    "# Step 2: Plotting the results\n",
    "years = list(top_1_by_year.keys())\n",
    "migration_counts = [top_1_by_year[year][1] / 1_000_000 for year in years]  # Convert to millions\n",
    "pairs = [top_1_by_year[year][0] for year in years]\n",
    "\n",
    "# Helper function to wrap text\n",
    "def wrap_text(text, width=10):\n",
    "    return '\\n'.join(textwrap.wrap(text, width=width))\n",
    "\n",
    "# Apply wrapping to each pair name\n",
    "wrapped_pairs = [wrap_text(pair, width=15) for pair in pairs]\n",
    "\n",
    "plt.figure(figsize=(10, 6))\n",
    "bars = plt.bar(years, migration_counts, color='skyblue')\n",
    "\n",
    "# Adding wrapped pair labels above each bar\n",
    "for i, year in enumerate(years):\n",
    "    plt.text(year, migration_counts[i] + 0.1, wrapped_pairs[i], ha='center', fontsize=10)\n",
    "\n",
    "# Adjusting the y-axis limit to accommodate text\n",
    "max_migration = max(migration_counts)\n",
    "plt.ylim(0, max_migration * 1.2)  # Increase y-axis by 20% to fit the text\n",
    "\n",
    "plt.title('Top-1 Migration Pairs Over Time', fontsize=14)\n",
    "plt.xlabel('Year')\n",
    "plt.ylabel('Migration Count (Millions)')\n",
    "plt.xticks(years)\n",
    "plt.tight_layout()  # Adjust layout\n",
    "plt.show()\n"
   ]
  },
  {
   "cell_type": "code",
   "execution_count": 54,
   "id": "9c221768",
   "metadata": {},
   "outputs": [
    {
     "data": {
      "image/png": "[encoded data removed]",
      "text/plain": [
       "<Figure size 1000x600 with 1 Axes>"
      ]
     },
     "metadata": {},
     "output_type": "display_data"
    }
   ],
   "source": [
    "import matplotlib.pyplot as plt\n",
    "import textwrap\n",
    "\n",
    "# Step 1: Create a dictionary to hold top-1 pairs and their migration values for each year\n",
    "top_1_by_year = {}\n",
    "\n",
    "for year in years:\n",
    "    # Sort by migration for the given year and get the top 1 pair\n",
    "    top_1 = df_unique[['Country Origin Name', 'Country Dest Name', year]].sort_values(by=year, ascending=False).head(1)\n",
    "    pair_name = top_1['Country Origin Name'].values[0] + \" & \" + top_1['Country Dest Name'].values[0]\n",
    "    top_1_by_year[year] = (pair_name, top_1[year].values[0])\n",
    "\n",
    "# Step 2: Plotting the results\n",
    "years = list(top_1_by_year.keys())\n",
    "migration_counts = [top_1_by_year[year][1] / 1_000_000 for year in years]  # Convert to millions\n",
    "pairs = [top_1_by_year[year][0] for year in years]\n",
    "\n",
    "# Helper function to wrap text\n",
    "def wrap_text(text, width=10):\n",
    "    return '\\n'.join(textwrap.wrap(text, width=width))\n",
    "\n",
    "# Combine pair names with their respective migration counts in brackets\n",
    "wrapped_pairs_with_counts = [\n",
    "    f\"{wrap_text(pair, width=15)} ({migration_counts[i]:.2f}M)\"\n",
    "    for i, pair in enumerate(pairs)\n",
    "]\n",
    "\n",
    "plt.figure(figsize=(10, 6))\n",
    "bars = plt.bar(years, migration_counts, color='skyblue')\n",
    "\n",
    "# Adding wrapped pair labels with counts above each bar\n",
    "for i, year in enumerate(years):\n",
    "    plt.text(year, migration_counts[i] + 0.1, wrapped_pairs_with_counts[i], ha='center', fontsize=10)\n",
    "\n",
    "# Adjusting the y-axis limit to accommodate text\n",
    "max_migration = max(migration_counts)\n",
    "plt.ylim(0, max_migration * 1.2)  # Increase y-axis by 20% to fit the text\n",
    "\n",
    "plt.title('Top-1 Migration Pairs Over Time', fontsize=14)\n",
    "plt.xlabel('Year')\n",
    "plt.ylabel('Migration Count (Millions)')\n",
    "plt.xticks(years)\n",
    "plt.tight_layout()  # Adjust layout\n",
    "plt.show()\n"
   ]
  },
  {
   "cell_type": "code",
   "execution_count": 57,
   "id": "bed4b494",
   "metadata": {},
   "outputs": [
    {
     "data": {
      "image/png": "[encoded data removed]",
      "text/plain": [
       "<Figure size 1000x600 with 1 Axes>"
      ]
     },
     "metadata": {},
     "output_type": "display_data"
    }
   ],
   "source": [
    "import matplotlib.pyplot as plt\n",
    "import textwrap\n",
    "\n",
    "# Step 1: Create a dictionary to hold top-1 pairs and their migration values for each year\n",
    "top_1_by_year = {}\n",
    "\n",
    "for year in years:\n",
    "    # Sort by migration for the given year and get the top 1 pair\n",
    "    top_1 = df_unique[['Country Origin Name', 'Country Dest Name', year]].sort_values(by=year, ascending=False).head(1)\n",
    "    pair_name = top_1['Country Origin Name'].values[0] + \" & \" + top_1['Country Dest Name'].values[0]\n",
    "    top_1_by_year[year] = (pair_name, top_1[year].values[0])\n",
    "\n",
    "# Step 2: Plotting the results\n",
    "years = list(top_1_by_year.keys())\n",
    "migration_counts = [top_1_by_year[year][1] / 1_000_000 for year in years]  # Convert to millions\n",
    "pairs = [top_1_by_year[year][0] for year in years]\n",
    "\n",
    "# Helper function to wrap text\n",
    "def wrap_text(text, width=10):\n",
    "    return '\\n'.join(textwrap.wrap(text, width=width))\n",
    "\n",
    "# Combine pair names with their respective migration counts in brackets (rounded to 1 decimal)\n",
    "wrapped_pairs_with_counts = [\n",
    "    f\"{wrap_text(pair, width=15)} ({migration_counts[i]:.1f}M)\"\n",
    "    for i, pair in enumerate(pairs)\n",
    "]\n",
    "\n",
    "plt.figure(figsize=(10, 6))\n",
    "bars = plt.bar(years, migration_counts, color='skyblue')\n",
    "\n",
    "# Adding wrapped pair labels with counts above each bar\n",
    "for i, year in enumerate(years):\n",
    "    plt.text(year, migration_counts[i] + 0.1, wrapped_pairs_with_counts[i], ha='center', fontsize=10)\n",
    "\n",
    "# Adjusting the y-axis limit to accommodate text\n",
    "max_migration = max(migration_counts)\n",
    "plt.ylim(0, max_migration * 1.2)  # Increase y-axis by 20% to fit the text\n",
    "\n",
    "plt.title('Top-1 Migration Pairs Over Time', fontsize=14)\n",
    "plt.xlabel('Year')\n",
    "plt.ylabel('Migration Count (Millions)')\n",
    "plt.xticks(years)\n",
    "plt.tight_layout()  # Adjust layout\n",
    "plt.savefig('top_migration_pairs.jpeg', format='jpeg', dpi=300)\n",
    "plt.show()\n"
   ]
  },
  {
   "cell_type": "code",
   "execution_count": 58,
   "id": "00358d53",
   "metadata": {},
   "outputs": [
    {
     "data": {
      "image/png": "[encoded data removed]",
      "text/plain": [
       "<Figure size 1000x600 with 1 Axes>"
      ]
     },
     "metadata": {},
     "output_type": "display_data"
    }
   ],
   "source": [
    "import matplotlib.pyplot as plt\n",
    "import textwrap\n",
    "\n",
    "# Step 1: Create unique, undirected pairs by sorting origin and destination countries\n",
    "df['pair'] = df.apply(lambda row: '-'.join(sorted([row['Country Origin Name'], row['Country Dest Name']])), axis=1)\n",
    "\n",
    "# Step 2: Group by the pair and sum the migration for each time point\n",
    "df_grouped = df.groupby('pair')[years].sum().reset_index()\n",
    "\n",
    "# Step 3: Get top-1 pairs for each year\n",
    "top_1_by_year = {}\n",
    "\n",
    "for year in years:\n",
    "    # Sort by migration for the given year and get the top 1 pair\n",
    "    top_1 = df_grouped[['pair', year]].sort_values(by=year, ascending=False).head(1)\n",
    "    pair_name = top_1['pair'].values[0]\n",
    "    top_1_by_year[year] = (pair_name, top_1[year].values[0])\n",
    "\n",
    "# Step 4: Plotting the results\n",
    "years = list(top_1_by_year.keys())\n",
    "migration_counts = [top_1_by_year[year][1] / 1_000_000 for year in years]  # Convert to millions\n",
    "pairs = [top_1_by_year[year][0] for year in years]\n",
    "\n",
    "# Helper function to wrap text\n",
    "def wrap_text(text, width=10):\n",
    "    return '\\n'.join(textwrap.wrap(text, width=width))\n",
    "\n",
    "# Combine pair names with their respective migration counts in brackets (rounded to 1 decimal)\n",
    "wrapped_pairs_with_counts = [\n",
    "    f\"{wrap_text(pair, width=15)} ({migration_counts[i]:.1f}M)\"\n",
    "    for i, pair in enumerate(pairs)\n",
    "]\n",
    "\n",
    "plt.figure(figsize=(10, 6))\n",
    "bars = plt.bar(years, migration_counts, color='skyblue')\n",
    "\n",
    "# Adding wrapped pair labels with counts above each bar\n",
    "for i, year in enumerate(years):\n",
    "    plt.text(year, migration_counts[i] + 0.1, wrapped_pairs_with_counts[i], ha='center', fontsize=10)\n",
    "\n",
    "# Adjusting the y-axis limit to accommodate text\n",
    "max_migration = max(migration_counts)\n",
    "plt.ylim(0, max_migration * 1.2)  # Increase y-axis by 20% to fit the text\n",
    "\n",
    "plt.title('Top-1 Migration Pairs Over Time', fontsize=14)\n",
    "plt.xlabel('Year')\n",
    "plt.ylabel('Migration Count (Millions)')\n",
    "plt.xticks(years)\n",
    "plt.tight_layout()\n",
    "\n",
    "# Save the plot as a high-definition JPEG\n",
    "plt.savefig('top_migration_pairs_combined.jpeg', format='jpeg', dpi=300)\n",
    "\n",
    "plt.show()\n"
   ]
  },
  {
   "cell_type": "code",
   "execution_count": 59,
   "id": "f484b423",
   "metadata": {},
   "outputs": [
    {
     "data": {
      "image/png": "[encoded data removed]",
      "text/plain": [
       "<Figure size 1000x600 with 1 Axes>"
      ]
     },
     "metadata": {},
     "output_type": "display_data"
    }
   ],
   "source": [
    "# Step 1: Create unique, undirected pairs by sorting origin and destination countries\n",
    "df['pair'] = df.apply(lambda row: '-'.join(sorted([row['Country Origin Name'], row['Country Dest Name']])), axis=1)\n",
    "\n",
    "# Step 2: Group by the pair and sum the migration for each time point (only for the individual years, not total migration)\n",
    "df_grouped = df.groupby('pair')[['1960', '1970', '1980', '1990', '2000']].sum().reset_index()\n",
    "\n",
    "# Step 3: Get top-1 pairs for each year\n",
    "top_1_by_year = {}\n",
    "\n",
    "for year in ['1960', '1970', '1980', '1990', '2000']:\n",
    "    # Sort by migration for the given year and get the top 1 pair\n",
    "    top_1 = df_grouped[['pair', year]].sort_values(by=year, ascending=False).head(1)\n",
    "    pair_name = top_1['pair'].values[0]\n",
    "    top_1_by_year[year] = (pair_name, top_1[year].values[0])\n",
    "\n",
    "# Step 4: Plotting the results\n",
    "years = list(top_1_by_year.keys())\n",
    "migration_counts = [top_1_by_year[year][1] / 1_000_000 for year in years]  # Convert to millions\n",
    "pairs = [top_1_by_year[year][0] for year in years]\n",
    "\n",
    "# Helper function to wrap text\n",
    "def wrap_text(text, width=10):\n",
    "    return '\\n'.join(textwrap.wrap(text, width=width))\n",
    "\n",
    "# Combine pair names with their respective migration counts in brackets (rounded to 1 decimal)\n",
    "wrapped_pairs_with_counts = [\n",
    "    f\"{wrap_text(pair, width=15)} ({migration_counts[i]:.1f}M)\"\n",
    "    for i, pair in enumerate(pairs)\n",
    "]\n",
    "\n",
    "plt.figure(figsize=(10, 6))\n",
    "bars = plt.bar(years, migration_counts, color='skyblue')\n",
    "\n",
    "# Adding wrapped pair labels with counts above each bar\n",
    "for i, year in enumerate(years):\n",
    "    plt.text(year, migration_counts[i] + 0.1, wrapped_pairs_with_counts[i], ha='center', fontsize=10)\n",
    "\n",
    "# Adjusting the y-axis limit to accommodate text\n",
    "max_migration = max(migration_counts)\n",
    "plt.ylim(0, max_migration * 1.2)  # Increase y-axis by 20% to fit the text\n",
    "\n",
    "plt.title('Top-1 Migration Pairs Over Time', fontsize=14)\n",
    "plt.xlabel('Year')\n",
    "plt.ylabel('Migration Count (Millions)')\n",
    "plt.xticks(years)\n",
    "plt.tight_layout()\n",
    "\n",
    "# Save the plot as a high-definition JPEG\n",
    "plt.savefig('top_migration_pairs_combined_yearly.jpeg', format='jpeg', dpi=300)\n",
    "\n",
    "plt.show()\n",
    "\n"
   ]
  },
  {
   "cell_type": "code",
   "execution_count": null,
   "id": "8be34523",
   "metadata": {},
   "outputs": [],
   "source": []
  }
 ],
 "metadata": {
  "kernelspec": {
   "display_name": "Python 3 (ipykernel)",
   "language": "python",
   "name": "python3"
  },
  "language_info": {
   "codemirror_mode": {
    "name": "ipython",
    "version": 3
   },
   "file_extension": ".py",
   "mimetype": "text/x-python",
   "name": "python",
   "nbconvert_exporter": "python",
   "pygments_lexer": "ipython3",
   "version": "3.9.19"
  }
 },
 "nbformat": 4,
 "nbformat_minor": 5
}
